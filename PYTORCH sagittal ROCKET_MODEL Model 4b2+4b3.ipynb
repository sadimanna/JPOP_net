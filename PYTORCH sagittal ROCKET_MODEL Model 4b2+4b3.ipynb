{
 "cells": [
  {
   "cell_type": "code",
   "execution_count": null,
   "metadata": {
    "colab": {
     "base_uri": "https://localhost:8080/",
     "height": 357
    },
    "colab_type": "code",
    "id": "SDe5C8jwk5e3",
    "outputId": "4c414cce-e9b4-4d19-c5a9-5e946858e40e"
   },
   "outputs": [],
   "source": [
    "!nvidia-smi"
   ]
  },
  {
   "cell_type": "markdown",
   "metadata": {
    "colab_type": "text",
    "id": "4DW6a6Y8hWtT"
   },
   "source": [
    "# Imports and Utility functions"
   ]
  },
  {
   "cell_type": "markdown",
   "metadata": {
    "colab_type": "text",
    "id": "AYyIZ6dphbN8"
   },
   "source": [
    "## <font color='orange'>Imports</font>"
   ]
  },
  {
   "cell_type": "code",
   "execution_count": 1,
   "metadata": {},
   "outputs": [],
   "source": [
    "#!pip install torchsummary torchviz"
   ]
  },
  {
   "cell_type": "code",
   "execution_count": 1,
   "metadata": {
    "ExecuteTime": {
     "end_time": "2020-08-31T21:13:56.426510Z",
     "start_time": "2020-08-31T21:13:55.236998Z"
    },
    "colab": {
     "base_uri": "https://localhost:8080/",
     "height": 71
    },
    "colab_type": "code",
    "id": "yQrK-eB3mBAC",
    "outputId": "9fdd9b1f-94bb-41ff-c0ed-e24cd28a1eb9"
   },
   "outputs": [],
   "source": [
    "import numpy as np\n",
    "import pandas as pd\n",
    "import shutil, time, os, requests, random, copy\n",
    "from itertools import permutations \n",
    "import seaborn as sns\n",
    "import imageio\n",
    "from skimage.transform import rotate, AffineTransform, warp, resize\n",
    "#from google.colab.patches import cv2_imshow\n",
    "from IPython.display import clear_output, Image, SVG\n",
    "import h5py\n",
    "\n",
    "import torch\n",
    "import torch.nn as nn\n",
    "import torch.nn.functional as F\n",
    "import torch.optim as optim\n",
    "from torch.utils.data import Dataset, DataLoader\n",
    "import torchvision.datasets as dset\n",
    "from torchvision import datasets, transforms\n",
    "from torchviz import make_dot\n",
    "from torchsummary import summary\n",
    "\n",
    "from sklearn.utils import shuffle\n",
    "from sklearn.metrics import classification_report, confusion_matrix, roc_curve, auc, f1_score\n",
    "from sklearn.metrics import average_precision_score, precision_recall_curve, roc_auc_score, accuracy_score\n",
    "from sklearn.utils.class_weight import compute_class_weight\n",
    "from sklearn.model_selection import train_test_split\n",
    "\n",
    "import matplotlib.pyplot as plt\n",
    "#import matplotlib.animation as animation\n",
    "%matplotlib inline"
   ]
  },
  {
   "cell_type": "code",
   "execution_count": 2,
   "metadata": {
    "ExecuteTime": {
     "end_time": "2020-08-31T21:13:56.548566Z",
     "start_time": "2020-08-31T21:13:56.544577Z"
    }
   },
   "outputs": [],
   "source": [
    "np.random.seed(16)\n",
    "\n",
    "#tf.random.set_seed(16)"
   ]
  },
  {
   "cell_type": "markdown",
   "metadata": {
    "colab_type": "text",
    "id": "za2dO2s5kUGd"
   },
   "source": [
    "## <font color='orange'>Analysing and Cleaning Data</font>"
   ]
  },
  {
   "cell_type": "markdown",
   "metadata": {
    "colab_type": "text",
    "id": "OSgqPrYakUGd"
   },
   "source": [
    "### Files"
   ]
  },
  {
   "cell_type": "code",
   "execution_count": 3,
   "metadata": {
    "ExecuteTime": {
     "end_time": "2020-08-31T21:13:58.595249Z",
     "start_time": "2020-08-31T21:13:58.589293Z"
    },
    "colab": {
     "base_uri": "https://localhost:8080/",
     "height": 85
    },
    "colab_type": "code",
    "id": "vGFn5npjkUGe",
    "outputId": "f5b06467-835f-4a5a-a6df-4189fbbc777b"
   },
   "outputs": [
    {
     "name": "stdout",
     "output_type": "stream",
     "text": [
      "['.DS_Store', 'train', 'train-abnormal.csv', 'train-acl.csv', 'train-meniscus.csv', 'valid', 'valid-abnormal.csv', 'valid-acl.csv', 'valid-meniscus.csv']\n",
      "\n",
      "Label Files...\n",
      "['train-abnormal.csv', 'train-acl.csv', 'train-meniscus.csv', 'valid-abnormal.csv', 'valid-acl.csv', 'valid-meniscus.csv']\n"
     ]
    }
   ],
   "source": [
    "mrnet_path = 'D:\\SiladittyaJRF\\Datasets\\MRNet\\MRNet-v1.0'\n",
    "contents = os.listdir(mrnet_path)\n",
    "print(contents)\n",
    "print('\\nLabel Files...')\n",
    "label_files = [x for x in contents if x.endswith('.csv')]\n",
    "print(label_files)"
   ]
  },
  {
   "cell_type": "markdown",
   "metadata": {
    "colab_type": "text",
    "id": "mhLpiTOxpabA"
   },
   "source": [
    "### Real Labels"
   ]
  },
  {
   "cell_type": "code",
   "execution_count": 4,
   "metadata": {
    "ExecuteTime": {
     "end_time": "2020-08-31T21:14:00.017316Z",
     "start_time": "2020-08-31T21:14:00.008313Z"
    },
    "colab": {},
    "colab_type": "code",
    "id": "anVc7J0EpVTe"
   },
   "outputs": [],
   "source": [
    "#For Colab /root/MRNet/MRNet-v1.0/\n",
    "trabn = pd.read_csv(mrnet_path+'\\\\train-abnormal.csv',header=None)\n",
    "#trabn.head()\n",
    "tracl = pd.read_csv(mrnet_path+'\\\\train-acl.csv',header=None)\n",
    "#tracl.head()\n",
    "trmen = pd.read_csv(mrnet_path+'\\\\train-meniscus.csv',header=None)\n",
    "#trmen.head()"
   ]
  },
  {
   "cell_type": "code",
   "execution_count": 5,
   "metadata": {
    "ExecuteTime": {
     "end_time": "2020-08-31T21:14:00.278686Z",
     "start_time": "2020-08-31T21:14:00.274696Z"
    },
    "colab": {},
    "colab_type": "code",
    "id": "w_h49rgokUGr"
   },
   "outputs": [],
   "source": [
    "trabn.columns = ['patient_id','label']\n",
    "tracl.columns = ['patient_id','label']\n",
    "trmen.columns = ['patient_id','label']"
   ]
  },
  {
   "cell_type": "code",
   "execution_count": 6,
   "metadata": {
    "ExecuteTime": {
     "end_time": "2020-08-31T21:14:00.944149Z",
     "start_time": "2020-08-31T21:14:00.927196Z"
    },
    "colab": {
     "base_uri": "https://localhost:8080/",
     "height": 204
    },
    "colab_type": "code",
    "id": "LFLSUNlfkUGt",
    "outputId": "2ffc4c14-edc7-4489-d9ce-b738db5e0421"
   },
   "outputs": [
    {
     "data": {
      "text/html": [
       "<div>\n",
       "<style scoped>\n",
       "    .dataframe tbody tr th:only-of-type {\n",
       "        vertical-align: middle;\n",
       "    }\n",
       "\n",
       "    .dataframe tbody tr th {\n",
       "        vertical-align: top;\n",
       "    }\n",
       "\n",
       "    .dataframe thead th {\n",
       "        text-align: right;\n",
       "    }\n",
       "</style>\n",
       "<table border=\"1\" class=\"dataframe\">\n",
       "  <thead>\n",
       "    <tr style=\"text-align: right;\">\n",
       "      <th></th>\n",
       "      <th>patient_id</th>\n",
       "      <th>abn</th>\n",
       "      <th>acl</th>\n",
       "      <th>men</th>\n",
       "    </tr>\n",
       "  </thead>\n",
       "  <tbody>\n",
       "    <tr>\n",
       "      <th>0</th>\n",
       "      <td>0</td>\n",
       "      <td>1</td>\n",
       "      <td>0</td>\n",
       "      <td>0</td>\n",
       "    </tr>\n",
       "    <tr>\n",
       "      <th>1</th>\n",
       "      <td>1</td>\n",
       "      <td>1</td>\n",
       "      <td>1</td>\n",
       "      <td>1</td>\n",
       "    </tr>\n",
       "    <tr>\n",
       "      <th>2</th>\n",
       "      <td>2</td>\n",
       "      <td>1</td>\n",
       "      <td>0</td>\n",
       "      <td>0</td>\n",
       "    </tr>\n",
       "    <tr>\n",
       "      <th>3</th>\n",
       "      <td>3</td>\n",
       "      <td>1</td>\n",
       "      <td>0</td>\n",
       "      <td>1</td>\n",
       "    </tr>\n",
       "    <tr>\n",
       "      <th>4</th>\n",
       "      <td>4</td>\n",
       "      <td>1</td>\n",
       "      <td>0</td>\n",
       "      <td>0</td>\n",
       "    </tr>\n",
       "  </tbody>\n",
       "</table>\n",
       "</div>"
      ],
      "text/plain": [
       "   patient_id  abn  acl  men\n",
       "0           0    1    0    0\n",
       "1           1    1    1    1\n",
       "2           2    1    0    0\n",
       "3           3    1    0    1\n",
       "4           4    1    0    0"
      ]
     },
     "execution_count": 6,
     "metadata": {},
     "output_type": "execute_result"
    }
   ],
   "source": [
    "tr_multilabel = trabn.merge(tracl,on='patient_id').merge(trmen,on='patient_id')\n",
    "tr_multilabel.columns = ['patient_id','abn','acl','men']\n",
    "tr_multilabel.head()"
   ]
  },
  {
   "cell_type": "code",
   "execution_count": 7,
   "metadata": {
    "ExecuteTime": {
     "end_time": "2020-08-31T21:14:01.714534Z",
     "start_time": "2020-08-31T21:14:01.706558Z"
    }
   },
   "outputs": [],
   "source": [
    "tr_multilabel.to_csv('tr_multilabl.csv',header=True)"
   ]
  },
  {
   "cell_type": "code",
   "execution_count": 8,
   "metadata": {
    "ExecuteTime": {
     "end_time": "2020-08-31T21:14:01.969875Z",
     "start_time": "2020-08-31T21:14:01.963869Z"
    },
    "colab": {},
    "colab_type": "code",
    "id": "qcBYWgQXpeOh"
   },
   "outputs": [],
   "source": [
    "#For Colab /root/MRNet/MRNet-v1.0/\n",
    "valabn = pd.read_csv(mrnet_path+'\\\\valid-abnormal.csv',header=None)\n",
    "valacl = pd.read_csv(mrnet_path+'\\\\valid-acl.csv',header=None)\n",
    "valmen = pd.read_csv(mrnet_path+'\\\\valid-meniscus.csv',header=None)"
   ]
  },
  {
   "cell_type": "code",
   "execution_count": 9,
   "metadata": {
    "ExecuteTime": {
     "end_time": "2020-08-31T21:14:02.622971Z",
     "start_time": "2020-08-31T21:14:02.619004Z"
    },
    "colab": {},
    "colab_type": "code",
    "id": "HCFB7iPtxFkB"
   },
   "outputs": [],
   "source": [
    "valabn.columns = ['patient_id','label']\n",
    "valacl.columns = ['patient_id','label']\n",
    "valmen.columns = ['patient_id','label']"
   ]
  },
  {
   "cell_type": "code",
   "execution_count": 10,
   "metadata": {
    "ExecuteTime": {
     "end_time": "2020-08-31T21:14:02.949386Z",
     "start_time": "2020-08-31T21:14:02.937393Z"
    },
    "colab": {
     "base_uri": "https://localhost:8080/",
     "height": 419
    },
    "colab_type": "code",
    "id": "7VkI9BLokcZn",
    "outputId": "401af580-8cf9-4973-9d77-9011ebaa5164"
   },
   "outputs": [
    {
     "data": {
      "text/html": [
       "<div>\n",
       "<style scoped>\n",
       "    .dataframe tbody tr th:only-of-type {\n",
       "        vertical-align: middle;\n",
       "    }\n",
       "\n",
       "    .dataframe tbody tr th {\n",
       "        vertical-align: top;\n",
       "    }\n",
       "\n",
       "    .dataframe thead th {\n",
       "        text-align: right;\n",
       "    }\n",
       "</style>\n",
       "<table border=\"1\" class=\"dataframe\">\n",
       "  <thead>\n",
       "    <tr style=\"text-align: right;\">\n",
       "      <th></th>\n",
       "      <th>patient_id</th>\n",
       "      <th>abn</th>\n",
       "      <th>acl</th>\n",
       "      <th>men</th>\n",
       "    </tr>\n",
       "  </thead>\n",
       "  <tbody>\n",
       "    <tr>\n",
       "      <th>0</th>\n",
       "      <td>1130</td>\n",
       "      <td>0</td>\n",
       "      <td>0</td>\n",
       "      <td>0</td>\n",
       "    </tr>\n",
       "    <tr>\n",
       "      <th>1</th>\n",
       "      <td>1131</td>\n",
       "      <td>0</td>\n",
       "      <td>0</td>\n",
       "      <td>0</td>\n",
       "    </tr>\n",
       "    <tr>\n",
       "      <th>2</th>\n",
       "      <td>1132</td>\n",
       "      <td>0</td>\n",
       "      <td>0</td>\n",
       "      <td>0</td>\n",
       "    </tr>\n",
       "    <tr>\n",
       "      <th>3</th>\n",
       "      <td>1133</td>\n",
       "      <td>0</td>\n",
       "      <td>0</td>\n",
       "      <td>0</td>\n",
       "    </tr>\n",
       "    <tr>\n",
       "      <th>4</th>\n",
       "      <td>1134</td>\n",
       "      <td>0</td>\n",
       "      <td>0</td>\n",
       "      <td>0</td>\n",
       "    </tr>\n",
       "    <tr>\n",
       "      <th>...</th>\n",
       "      <td>...</td>\n",
       "      <td>...</td>\n",
       "      <td>...</td>\n",
       "      <td>...</td>\n",
       "    </tr>\n",
       "    <tr>\n",
       "      <th>115</th>\n",
       "      <td>1245</td>\n",
       "      <td>1</td>\n",
       "      <td>1</td>\n",
       "      <td>1</td>\n",
       "    </tr>\n",
       "    <tr>\n",
       "      <th>116</th>\n",
       "      <td>1246</td>\n",
       "      <td>1</td>\n",
       "      <td>1</td>\n",
       "      <td>1</td>\n",
       "    </tr>\n",
       "    <tr>\n",
       "      <th>117</th>\n",
       "      <td>1247</td>\n",
       "      <td>1</td>\n",
       "      <td>0</td>\n",
       "      <td>1</td>\n",
       "    </tr>\n",
       "    <tr>\n",
       "      <th>118</th>\n",
       "      <td>1248</td>\n",
       "      <td>1</td>\n",
       "      <td>1</td>\n",
       "      <td>1</td>\n",
       "    </tr>\n",
       "    <tr>\n",
       "      <th>119</th>\n",
       "      <td>1249</td>\n",
       "      <td>1</td>\n",
       "      <td>0</td>\n",
       "      <td>1</td>\n",
       "    </tr>\n",
       "  </tbody>\n",
       "</table>\n",
       "<p>120 rows × 4 columns</p>\n",
       "</div>"
      ],
      "text/plain": [
       "     patient_id  abn  acl  men\n",
       "0          1130    0    0    0\n",
       "1          1131    0    0    0\n",
       "2          1132    0    0    0\n",
       "3          1133    0    0    0\n",
       "4          1134    0    0    0\n",
       "..          ...  ...  ...  ...\n",
       "115        1245    1    1    1\n",
       "116        1246    1    1    1\n",
       "117        1247    1    0    1\n",
       "118        1248    1    1    1\n",
       "119        1249    1    0    1\n",
       "\n",
       "[120 rows x 4 columns]"
      ]
     },
     "execution_count": 10,
     "metadata": {},
     "output_type": "execute_result"
    }
   ],
   "source": [
    "val_multilabel = valabn.merge(valacl,on='patient_id').merge(valmen,on='patient_id')\n",
    "val_multilabel.columns = ['patient_id','abn','acl','men']\n",
    "val_multilabel.head(120)"
   ]
  },
  {
   "cell_type": "markdown",
   "metadata": {
    "colab_type": "text",
    "id": "8Q4ocHEjkUGy"
   },
   "source": [
    "### <font color='blue'>Filename DataFrame</font>"
   ]
  },
  {
   "cell_type": "code",
   "execution_count": 11,
   "metadata": {
    "ExecuteTime": {
     "end_time": "2020-08-31T21:14:04.635593Z",
     "start_time": "2020-08-31T21:14:04.606666Z"
    },
    "colab": {
     "base_uri": "https://localhost:8080/",
     "height": 419
    },
    "colab_type": "code",
    "id": "KJ2-QRfnkUGy",
    "outputId": "5cd5ad2e-629a-4be2-bc73-10521de1411d"
   },
   "outputs": [
    {
     "data": {
      "text/html": [
       "<div>\n",
       "<style scoped>\n",
       "    .dataframe tbody tr th:only-of-type {\n",
       "        vertical-align: middle;\n",
       "    }\n",
       "\n",
       "    .dataframe tbody tr th {\n",
       "        vertical-align: top;\n",
       "    }\n",
       "\n",
       "    .dataframe thead th {\n",
       "        text-align: right;\n",
       "    }\n",
       "</style>\n",
       "<table border=\"1\" class=\"dataframe\">\n",
       "  <thead>\n",
       "    <tr style=\"text-align: right;\">\n",
       "      <th></th>\n",
       "      <th>patient_id</th>\n",
       "      <th>filename</th>\n",
       "    </tr>\n",
       "  </thead>\n",
       "  <tbody>\n",
       "    <tr>\n",
       "      <th>0</th>\n",
       "      <td>0</td>\n",
       "      <td>0000.npy</td>\n",
       "    </tr>\n",
       "    <tr>\n",
       "      <th>1</th>\n",
       "      <td>1</td>\n",
       "      <td>0001.npy</td>\n",
       "    </tr>\n",
       "    <tr>\n",
       "      <th>2</th>\n",
       "      <td>2</td>\n",
       "      <td>0002.npy</td>\n",
       "    </tr>\n",
       "    <tr>\n",
       "      <th>3</th>\n",
       "      <td>3</td>\n",
       "      <td>0003.npy</td>\n",
       "    </tr>\n",
       "    <tr>\n",
       "      <th>4</th>\n",
       "      <td>4</td>\n",
       "      <td>0004.npy</td>\n",
       "    </tr>\n",
       "    <tr>\n",
       "      <th>...</th>\n",
       "      <td>...</td>\n",
       "      <td>...</td>\n",
       "    </tr>\n",
       "    <tr>\n",
       "      <th>1125</th>\n",
       "      <td>1125</td>\n",
       "      <td>1125.npy</td>\n",
       "    </tr>\n",
       "    <tr>\n",
       "      <th>1126</th>\n",
       "      <td>1126</td>\n",
       "      <td>1126.npy</td>\n",
       "    </tr>\n",
       "    <tr>\n",
       "      <th>1127</th>\n",
       "      <td>1127</td>\n",
       "      <td>1127.npy</td>\n",
       "    </tr>\n",
       "    <tr>\n",
       "      <th>1128</th>\n",
       "      <td>1128</td>\n",
       "      <td>1128.npy</td>\n",
       "    </tr>\n",
       "    <tr>\n",
       "      <th>1129</th>\n",
       "      <td>1129</td>\n",
       "      <td>1129.npy</td>\n",
       "    </tr>\n",
       "  </tbody>\n",
       "</table>\n",
       "<p>1130 rows × 2 columns</p>\n",
       "</div>"
      ],
      "text/plain": [
       "      patient_id  filename\n",
       "0              0  0000.npy\n",
       "1              1  0001.npy\n",
       "2              2  0002.npy\n",
       "3              3  0003.npy\n",
       "4              4  0004.npy\n",
       "...          ...       ...\n",
       "1125        1125  1125.npy\n",
       "1126        1126  1126.npy\n",
       "1127        1127  1127.npy\n",
       "1128        1128  1128.npy\n",
       "1129        1129  1129.npy\n",
       "\n",
       "[1130 rows x 2 columns]"
      ]
     },
     "execution_count": 11,
     "metadata": {},
     "output_type": "execute_result"
    }
   ],
   "source": [
    "tr_filenames_df = pd.DataFrame(columns=['filename'])\n",
    "tr_filenames_df['filename'] = os.listdir(mrnet_path+'\\\\train\\\\axial')\n",
    "tr_filenames_df['patient_id'] = tr_filenames_df.apply(lambda x : int(x['filename'][:-4]),axis=1)\n",
    "tr_filenames_df = tr_filenames_df[list(('patient_id','filename'))]\n",
    "tr_filenames_df.sort_values(by=['patient_id'],ascending=True,inplace=True,ignore_index=True)\n",
    "\n",
    "tr_filenames_df"
   ]
  },
  {
   "cell_type": "code",
   "execution_count": 12,
   "metadata": {
    "ExecuteTime": {
     "end_time": "2020-08-31T21:14:04.988641Z",
     "start_time": "2020-08-31T21:14:04.974660Z"
    },
    "colab": {
     "base_uri": "https://localhost:8080/",
     "height": 419
    },
    "colab_type": "code",
    "id": "xYkMwRwNqfe0",
    "outputId": "eb3664d1-61f3-450a-a57d-8674b87f472f"
   },
   "outputs": [
    {
     "data": {
      "text/html": [
       "<div>\n",
       "<style scoped>\n",
       "    .dataframe tbody tr th:only-of-type {\n",
       "        vertical-align: middle;\n",
       "    }\n",
       "\n",
       "    .dataframe tbody tr th {\n",
       "        vertical-align: top;\n",
       "    }\n",
       "\n",
       "    .dataframe thead th {\n",
       "        text-align: right;\n",
       "    }\n",
       "</style>\n",
       "<table border=\"1\" class=\"dataframe\">\n",
       "  <thead>\n",
       "    <tr style=\"text-align: right;\">\n",
       "      <th></th>\n",
       "      <th>patient_id</th>\n",
       "      <th>filename</th>\n",
       "    </tr>\n",
       "  </thead>\n",
       "  <tbody>\n",
       "    <tr>\n",
       "      <th>0</th>\n",
       "      <td>1130</td>\n",
       "      <td>1130.npy</td>\n",
       "    </tr>\n",
       "    <tr>\n",
       "      <th>1</th>\n",
       "      <td>1131</td>\n",
       "      <td>1131.npy</td>\n",
       "    </tr>\n",
       "    <tr>\n",
       "      <th>2</th>\n",
       "      <td>1132</td>\n",
       "      <td>1132.npy</td>\n",
       "    </tr>\n",
       "    <tr>\n",
       "      <th>3</th>\n",
       "      <td>1133</td>\n",
       "      <td>1133.npy</td>\n",
       "    </tr>\n",
       "    <tr>\n",
       "      <th>4</th>\n",
       "      <td>1134</td>\n",
       "      <td>1134.npy</td>\n",
       "    </tr>\n",
       "    <tr>\n",
       "      <th>...</th>\n",
       "      <td>...</td>\n",
       "      <td>...</td>\n",
       "    </tr>\n",
       "    <tr>\n",
       "      <th>115</th>\n",
       "      <td>1245</td>\n",
       "      <td>1245.npy</td>\n",
       "    </tr>\n",
       "    <tr>\n",
       "      <th>116</th>\n",
       "      <td>1246</td>\n",
       "      <td>1246.npy</td>\n",
       "    </tr>\n",
       "    <tr>\n",
       "      <th>117</th>\n",
       "      <td>1247</td>\n",
       "      <td>1247.npy</td>\n",
       "    </tr>\n",
       "    <tr>\n",
       "      <th>118</th>\n",
       "      <td>1248</td>\n",
       "      <td>1248.npy</td>\n",
       "    </tr>\n",
       "    <tr>\n",
       "      <th>119</th>\n",
       "      <td>1249</td>\n",
       "      <td>1249.npy</td>\n",
       "    </tr>\n",
       "  </tbody>\n",
       "</table>\n",
       "<p>120 rows × 2 columns</p>\n",
       "</div>"
      ],
      "text/plain": [
       "     patient_id  filename\n",
       "0          1130  1130.npy\n",
       "1          1131  1131.npy\n",
       "2          1132  1132.npy\n",
       "3          1133  1133.npy\n",
       "4          1134  1134.npy\n",
       "..          ...       ...\n",
       "115        1245  1245.npy\n",
       "116        1246  1246.npy\n",
       "117        1247  1247.npy\n",
       "118        1248  1248.npy\n",
       "119        1249  1249.npy\n",
       "\n",
       "[120 rows x 2 columns]"
      ]
     },
     "execution_count": 12,
     "metadata": {},
     "output_type": "execute_result"
    }
   ],
   "source": [
    "val_filenames_df = pd.DataFrame(columns=['filename'])\n",
    "val_filenames_df['filename'] = os.listdir(mrnet_path+'\\\\valid\\\\axial')\n",
    "val_filenames_df['patient_id'] = val_filenames_df.apply(lambda x : int(x['filename'][:-4]),axis=1)\n",
    "val_filenames_df = val_filenames_df[list(('patient_id','filename'))]\n",
    "val_filenames_df.sort_values(by=['patient_id'],ascending=True,inplace=True,ignore_index=True)\n",
    "\n",
    "val_filenames_df"
   ]
  },
  {
   "cell_type": "markdown",
   "metadata": {
    "colab_type": "text",
    "heading_collapsed": true,
    "id": "9Y2cdtkeps4I"
   },
   "source": [
    "## <font color='orange'>Visualizing the Data</font>"
   ]
  },
  {
   "cell_type": "code",
   "execution_count": 12,
   "metadata": {
    "colab": {
     "base_uri": "https://localhost:8080/",
     "height": 337
    },
    "colab_type": "code",
    "hidden": true,
    "id": "A5yCelMwLnob",
    "outputId": "352cb25c-d1c5-426e-b78a-e18e8b2b034e"
   },
   "outputs": [
    {
     "data": {
      "text/plain": [
       "<AxesSubplot:>"
      ]
     },
     "execution_count": 12,
     "metadata": {},
     "output_type": "execute_result"
    },
    {
     "data": {
      "image/png": "[encoded data removed]",
      "text/plain": [
       "<Figure size 720x360 with 1 Axes>"
      ]
     },
     "metadata": {
      "needs_background": "light"
     },
     "output_type": "display_data"
    }
   ],
   "source": [
    "trabn.iloc[:,1].hist(figsize = (10, 5))"
   ]
  },
  {
   "cell_type": "code",
   "execution_count": 13,
   "metadata": {
    "colab": {
     "base_uri": "https://localhost:8080/",
     "height": 34
    },
    "colab_type": "code",
    "hidden": true,
    "id": "8n1Cjkel3Oii",
    "outputId": "289b1e0e-a08c-49c6-e691-ffa6030777d3"
   },
   "outputs": [
    {
     "data": {
      "text/plain": [
       "913"
      ]
     },
     "execution_count": 13,
     "metadata": {},
     "output_type": "execute_result"
    }
   ],
   "source": [
    "np.count_nonzero(trabn.iloc[:,1]==1)"
   ]
  },
  {
   "cell_type": "code",
   "execution_count": null,
   "metadata": {
    "colab": {
     "base_uri": "https://localhost:8080/",
     "height": 337
    },
    "colab_type": "code",
    "hidden": true,
    "id": "wFXR0XGoM80A",
    "outputId": "0fdeba2d-d4b5-4007-df2b-d61d9cc797dc"
   },
   "outputs": [],
   "source": [
    "tracl.iloc[:,1].hist(figsize = (10, 5))"
   ]
  },
  {
   "cell_type": "code",
   "execution_count": null,
   "metadata": {
    "colab": {
     "base_uri": "https://localhost:8080/",
     "height": 34
    },
    "colab_type": "code",
    "hidden": true,
    "id": "YtiuYqZebmls",
    "outputId": "6fcdc8ad-3bb9-4d96-f0f0-03e45a115833"
   },
   "outputs": [],
   "source": [
    "np.count_nonzero(tracl.iloc[:,1]==1)"
   ]
  },
  {
   "cell_type": "code",
   "execution_count": null,
   "metadata": {
    "colab": {
     "base_uri": "https://localhost:8080/",
     "height": 337
    },
    "colab_type": "code",
    "hidden": true,
    "id": "GOfA5qt-NF7A",
    "outputId": "97d23de0-6428-47b1-fa2a-803f3639b722"
   },
   "outputs": [],
   "source": [
    "trmen.iloc[:,1].hist(figsize = (10, 5))"
   ]
  },
  {
   "cell_type": "code",
   "execution_count": null,
   "metadata": {
    "colab": {
     "base_uri": "https://localhost:8080/",
     "height": 34
    },
    "colab_type": "code",
    "hidden": true,
    "id": "K5PPQKugbtBY",
    "outputId": "cc742263-7241-4e0d-ba1c-ed73865f08af"
   },
   "outputs": [],
   "source": [
    "np.count_nonzero(trmen.iloc[:,1]==1)"
   ]
  },
  {
   "cell_type": "code",
   "execution_count": null,
   "metadata": {
    "colab": {
     "base_uri": "https://localhost:8080/",
     "height": 420
    },
    "colab_type": "code",
    "hidden": true,
    "id": "8jiEHNEaGN04",
    "outputId": "51d291db-358e-4794-9e6e-cd107484de01"
   },
   "outputs": [],
   "source": [
    "tr_multilabel.iloc[:,1:].hist(figsize = (10, 5))"
   ]
  },
  {
   "cell_type": "code",
   "execution_count": null,
   "metadata": {
    "colab": {
     "base_uri": "https://localhost:8080/",
     "height": 195
    },
    "colab_type": "code",
    "hidden": true,
    "id": "96nY_gReO3se",
    "outputId": "7bb41f85-e091-45ea-9cd4-51c2b357b644"
   },
   "outputs": [],
   "source": [
    "ps_labels = tr_multilabel\n",
    "ps_labels.head()"
   ]
  },
  {
   "cell_type": "code",
   "execution_count": null,
   "metadata": {
    "colab": {},
    "colab_type": "code",
    "hidden": true,
    "id": "kmvJpA_U42uE"
   },
   "outputs": [],
   "source": [
    "tr_multilabel['label'] = tr_multilabel.apply(lambda x : 4*x[\"abn\"]+2*x[\"acl\"]+1*x[\"men\"],axis=1)"
   ]
  },
  {
   "cell_type": "code",
   "execution_count": null,
   "metadata": {
    "colab": {
     "base_uri": "https://localhost:8080/",
     "height": 402
    },
    "colab_type": "code",
    "hidden": true,
    "id": "uzHwnJA1P0Oa",
    "outputId": "04b5bc59-b4fb-4b23-da98-f9a93ca69fd2"
   },
   "outputs": [],
   "source": [
    "tr_multilabel"
   ]
  },
  {
   "cell_type": "code",
   "execution_count": null,
   "metadata": {
    "colab": {
     "base_uri": "https://localhost:8080/",
     "height": 337
    },
    "colab_type": "code",
    "hidden": true,
    "id": "T0Am2lV4P4V7",
    "outputId": "87c02c41-4fc3-44f6-aa3f-26ea5cd42d32"
   },
   "outputs": [],
   "source": [
    "tr_multilabel.iloc[:,4].hist(figsize = (10, 5))"
   ]
  },
  {
   "cell_type": "code",
   "execution_count": null,
   "metadata": {
    "colab": {},
    "colab_type": "code",
    "hidden": true,
    "id": "mQzx_vAlaTCw"
   },
   "outputs": [],
   "source": [
    "label_map = {0:0,4:1,5:2,6:3,7:4}"
   ]
  },
  {
   "cell_type": "code",
   "execution_count": null,
   "metadata": {
    "colab": {},
    "colab_type": "code",
    "hidden": true,
    "id": "kfmgEekISSr3"
   },
   "outputs": [],
   "source": [
    "ps_labels['label'] = ps_labels['label'].apply(lambda x : label_map[x])"
   ]
  },
  {
   "cell_type": "code",
   "execution_count": null,
   "metadata": {
    "colab": {
     "base_uri": "https://localhost:8080/",
     "height": 402
    },
    "colab_type": "code",
    "hidden": true,
    "id": "9lOVrmZJapo_",
    "outputId": "e55422cc-3a0e-4fa6-81d1-4fb85f5c858a"
   },
   "outputs": [],
   "source": [
    "ps_labels"
   ]
  },
  {
   "cell_type": "code",
   "execution_count": null,
   "metadata": {
    "colab": {
     "base_uri": "https://localhost:8080/",
     "height": 337
    },
    "colab_type": "code",
    "hidden": true,
    "id": "xZRxpGT1afIH",
    "outputId": "320cdab3-083c-4116-e0d6-430978092f12"
   },
   "outputs": [],
   "source": [
    "ps_labels['label'].plot.hist(bins = [-0.5,0.5,1.5,2.5,3.5,4.5],figsize = (10, 5))"
   ]
  },
  {
   "cell_type": "code",
   "execution_count": null,
   "metadata": {
    "colab": {},
    "colab_type": "code",
    "hidden": true,
    "id": "fFb00DF23-Ea"
   },
   "outputs": [],
   "source": [
    "tr_multilabel = tr_multilabel.drop(['label'],axis=1)"
   ]
  },
  {
   "cell_type": "markdown",
   "metadata": {
    "colab_type": "text",
    "heading_collapsed": true,
    "hidden": true,
    "id": "RUbR1np43vM3"
   },
   "source": [
    "### Oversampling"
   ]
  },
  {
   "cell_type": "code",
   "execution_count": null,
   "metadata": {
    "colab": {
     "base_uri": "https://localhost:8080/",
     "height": 229
    },
    "colab_type": "code",
    "hidden": true,
    "id": "1GKupv1Iw1me",
    "outputId": "768ae676-8eb9-4197-fb9d-1b4b7865b6b1"
   },
   "outputs": [],
   "source": [
    "proportions = np.array([])\n",
    "for i in range(5):\n",
    "    proportions = np.append(proportions,np.count_nonzero(tr_filenames_df['aclDiagnosis']==i))\n",
    "        \n",
    "proportions = np.min(proportions)/proportions\n",
    "print(proportions)"
   ]
  },
  {
   "cell_type": "code",
   "execution_count": null,
   "metadata": {
    "colab": {
     "base_uri": "https://localhost:8080/",
     "height": 162
    },
    "colab_type": "code",
    "hidden": true,
    "id": "GqXHS8UixLdp",
    "outputId": "4cd874e1-2177-4873-8f0f-9a7d2fbce498"
   },
   "outputs": [],
   "source": [
    "mult = proportions/min(proportions)"
   ]
  },
  {
   "cell_type": "code",
   "execution_count": null,
   "metadata": {
    "colab": {
     "base_uri": "https://localhost:8080/",
     "height": 34
    },
    "colab_type": "code",
    "hidden": true,
    "id": "QXhXeJFX05zE",
    "outputId": "47714ea2-fad8-48c3-8c22-646bd6429bde"
   },
   "outputs": [],
   "source": [
    "mult"
   ]
  },
  {
   "cell_type": "code",
   "execution_count": null,
   "metadata": {
    "colab": {
     "base_uri": "https://localhost:8080/",
     "height": 382
    },
    "colab_type": "code",
    "hidden": true,
    "id": "esB7VZcTyK6X",
    "outputId": "ec792ba7-11e9-4d79-b667-bd2fc3983b4a"
   },
   "outputs": [],
   "source": [
    "for i in range(5):\n",
    "    print(len(tr_multilabel))\n",
    "    if mult[i]>1:\n",
    "        currlabnum = np.count_nonzero(tr_multilabel['label']==i)\n",
    "        finallabnum = int(np.ceil(mult[i]*currlabnum))\n",
    "        print(currlabnum,finallabnum)\n",
    "        gapnum = finallabnum-currlabnum\n",
    "        labdf = tr_multilabel[tr_multilabel['label']==i]\n",
    "        oversampled_labdf = labdf.sample(n=gapnum,replace=True)\n",
    "        tr_multilabel = tr_multilabel.append(oversampled_labdf)\n",
    "        print(len(tr_multilabel))\n",
    "        tr_multilabel['label'].hist(bins=[-0.5,0.5,1.5,2.5,3.5,4.5])"
   ]
  },
  {
   "cell_type": "code",
   "execution_count": null,
   "metadata": {
    "colab": {},
    "colab_type": "code",
    "hidden": true,
    "id": "ElZOn-tY2M_O"
   },
   "outputs": [],
   "source": [
    "tr_multilabel = tr_multilabel.sample(frac=1,random_state=69)"
   ]
  },
  {
   "cell_type": "code",
   "execution_count": null,
   "metadata": {
    "colab": {
     "base_uri": "https://localhost:8080/",
     "height": 422
    },
    "colab_type": "code",
    "hidden": true,
    "id": "r1fKS17r2zQb",
    "outputId": "765d1272-2b16-484e-855f-88ad750b8516"
   },
   "outputs": [],
   "source": [
    "tr_multilabel"
   ]
  },
  {
   "cell_type": "code",
   "execution_count": null,
   "metadata": {
    "colab": {},
    "colab_type": "code",
    "hidden": true,
    "id": "mvOLGSDq3uiO"
   },
   "outputs": [],
   "source": [
    "val_multilabel.plot.hist(bins=[-0.5,0.5,1.5,2.5,3.5,4.5])"
   ]
  },
  {
   "cell_type": "code",
   "execution_count": null,
   "metadata": {
    "colab": {},
    "colab_type": "code",
    "hidden": true,
    "id": "2XEsCSjw3ugX"
   },
   "outputs": [],
   "source": []
  },
  {
   "cell_type": "code",
   "execution_count": null,
   "metadata": {
    "colab": {},
    "colab_type": "code",
    "hidden": true,
    "id": "jjc66erm3uO9"
   },
   "outputs": [],
   "source": []
  },
  {
   "cell_type": "markdown",
   "metadata": {
    "colab_type": "text",
    "heading_collapsed": true,
    "id": "9E8t_MKiTlz6"
   },
   "source": [
    "## KneeMRI DATASET"
   ]
  },
  {
   "cell_type": "code",
   "execution_count": null,
   "metadata": {
    "colab": {
     "base_uri": "https://localhost:8080/",
     "height": 151
    },
    "colab_type": "code",
    "hidden": true,
    "id": "RSYo_KHdSu5K",
    "outputId": "5f1dc3eb-cfac-4798-dff2-7d6ccfcfb9b4"
   },
   "outputs": [],
   "source": [
    "!wget http://www.riteh.uniri.hr/~istajduh/projects/kneeMRI/data/volumetric_data/vol01.7z"
   ]
  },
  {
   "cell_type": "code",
   "execution_count": null,
   "metadata": {
    "colab": {
     "base_uri": "https://localhost:8080/",
     "height": 202
    },
    "colab_type": "code",
    "hidden": true,
    "id": "TKTVBChtSxI7",
    "outputId": "b30b9662-205d-4356-d90e-ca788695927e"
   },
   "outputs": [],
   "source": [
    "!wget http://www.riteh.uniri.hr/~istajduh/projects/kneeMRI/data/volumetric_data/vol02.7z"
   ]
  },
  {
   "cell_type": "code",
   "execution_count": null,
   "metadata": {
    "colab": {
     "base_uri": "https://localhost:8080/",
     "height": 202
    },
    "colab_type": "code",
    "hidden": true,
    "id": "P7SDQ-ELS8M4",
    "outputId": "3b5264e1-5d4d-4e48-afb8-2d9f3165b5d2"
   },
   "outputs": [],
   "source": [
    "!wget http://www.riteh.uniri.hr/~istajduh/projects/kneeMRI/data/volumetric_data/vol03.7z"
   ]
  },
  {
   "cell_type": "code",
   "execution_count": null,
   "metadata": {
    "colab": {
     "base_uri": "https://localhost:8080/",
     "height": 202
    },
    "colab_type": "code",
    "hidden": true,
    "id": "fi-8precS8YC",
    "outputId": "8b044d28-6bbe-4ca3-ab0c-dfedcd503b08"
   },
   "outputs": [],
   "source": [
    "!wget http://www.riteh.uniri.hr/~istajduh/projects/kneeMRI/data/volumetric_data/vol04.7z"
   ]
  },
  {
   "cell_type": "code",
   "execution_count": null,
   "metadata": {
    "colab": {
     "base_uri": "https://localhost:8080/",
     "height": 202
    },
    "colab_type": "code",
    "hidden": true,
    "id": "27TGkNRXS8n5",
    "outputId": "4154c053-9ffb-4a66-a79d-82e883fdbd96"
   },
   "outputs": [],
   "source": [
    "!wget http://www.riteh.uniri.hr/~istajduh/projects/kneeMRI/data/volumetric_data/vol05.7z"
   ]
  },
  {
   "cell_type": "code",
   "execution_count": null,
   "metadata": {
    "colab": {
     "base_uri": "https://localhost:8080/",
     "height": 202
    },
    "colab_type": "code",
    "hidden": true,
    "id": "V45zVbtkS8uA",
    "outputId": "31a1a4c4-4577-4cc6-a77c-a0beb1815d2b"
   },
   "outputs": [],
   "source": [
    "!wget http://www.riteh.uniri.hr/~istajduh/projects/kneeMRI/data/volumetric_data/vol06.7z"
   ]
  },
  {
   "cell_type": "code",
   "execution_count": null,
   "metadata": {
    "colab": {
     "base_uri": "https://localhost:8080/",
     "height": 202
    },
    "colab_type": "code",
    "hidden": true,
    "id": "N9kYUZoIS8z1",
    "outputId": "92b1c795-f50e-4b5a-d529-a7ab84aa5e89"
   },
   "outputs": [],
   "source": [
    "!wget http://www.riteh.uniri.hr/~istajduh/projects/kneeMRI/data/volumetric_data/vol07.7z"
   ]
  },
  {
   "cell_type": "code",
   "execution_count": null,
   "metadata": {
    "colab": {
     "base_uri": "https://localhost:8080/",
     "height": 202
    },
    "colab_type": "code",
    "hidden": true,
    "id": "Xuxj96CeS85Z",
    "outputId": "038a5c31-e5da-499a-b528-283ca4d9714d"
   },
   "outputs": [],
   "source": [
    "!wget http://www.riteh.uniri.hr/~istajduh/projects/kneeMRI/data/volumetric_data/vol08.7z"
   ]
  },
  {
   "cell_type": "code",
   "execution_count": null,
   "metadata": {
    "colab": {
     "base_uri": "https://localhost:8080/",
     "height": 202
    },
    "colab_type": "code",
    "hidden": true,
    "id": "l_c6ktu8S886",
    "outputId": "7f47b8fa-674d-4305-aea2-5603733a9345"
   },
   "outputs": [],
   "source": [
    "!wget http://www.riteh.uniri.hr/~istajduh/projects/kneeMRI/data/volumetric_data/vol09.7z"
   ]
  },
  {
   "cell_type": "code",
   "execution_count": null,
   "metadata": {
    "colab": {
     "base_uri": "https://localhost:8080/",
     "height": 202
    },
    "colab_type": "code",
    "hidden": true,
    "id": "U78aIk-SS9Aa",
    "outputId": "8a58ccf4-d8cc-41dc-b4de-2dbd0042c44f"
   },
   "outputs": [],
   "source": [
    "!wget http://www.riteh.uniri.hr/~istajduh/projects/kneeMRI/data/volumetric_data/vol10.7z"
   ]
  },
  {
   "cell_type": "code",
   "execution_count": null,
   "metadata": {
    "colab": {
     "base_uri": "https://localhost:8080/",
     "height": 202
    },
    "colab_type": "code",
    "hidden": true,
    "id": "EC83wcodTCzl",
    "outputId": "a46ab591-fbba-4f7a-ce38-beea1f22382c"
   },
   "outputs": [],
   "source": [
    "!wget http://www.riteh.uniri.hr/~istajduh/projects/kneeMRI/data/metadata.csv"
   ]
  },
  {
   "cell_type": "code",
   "execution_count": null,
   "metadata": {
    "colab": {
     "base_uri": "https://localhost:8080/",
     "height": 202
    },
    "colab_type": "code",
    "hidden": true,
    "id": "X3sLviIZTG_x",
    "outputId": "7e57e0e8-1c10-4e4a-accd-0eaec7cd5861"
   },
   "outputs": [],
   "source": [
    "!wget http://www.riteh.uniri.hr/~istajduh/projects/kneeMRI/data/volumetric_data/example.pck"
   ]
  },
  {
   "cell_type": "code",
   "execution_count": null,
   "metadata": {
    "colab": {
     "base_uri": "https://localhost:8080/",
     "height": 202
    },
    "colab_type": "code",
    "hidden": true,
    "id": "DkJOBBMrTa7L",
    "outputId": "3fe6052a-6ad0-4ba9-bc7d-eafd6b8c0325"
   },
   "outputs": [],
   "source": [
    "!wget http://www.riteh.uniri.hr/~istajduh/projects/kneeMRI/data/example.py"
   ]
  },
  {
   "cell_type": "markdown",
   "metadata": {
    "colab_type": "text",
    "id": "yzDaX73PhzXv"
   },
   "source": [
    "## <font color='orange'>Utility Functions</font>"
   ]
  },
  {
   "cell_type": "markdown",
   "metadata": {
    "colab_type": "text",
    "id": "8c44LNulTb8i"
   },
   "source": [
    "### <font color='blue'>Declaring the required PATH variables</font>"
   ]
  },
  {
   "cell_type": "code",
   "execution_count": 13,
   "metadata": {
    "ExecuteTime": {
     "end_time": "2020-08-31T21:14:07.881543Z",
     "start_time": "2020-08-31T21:14:07.875560Z"
    },
    "colab": {},
    "colab_type": "code",
    "id": "x6u18pYcWtfw"
   },
   "outputs": [],
   "source": [
    "#For Colab '/root/MRNet/MRNet-v1.0/'\n",
    "\n",
    "train_dir = mrnet_path+'\\\\train'\n",
    "valid_dir = mrnet_path+'\\\\valid'\n",
    "axial_mode= 'axial'\n",
    "sagit_mode='sagittal'\n",
    "coron_mode='coronal'\n",
    "base_dir = mrnet_path\n",
    "\n",
    "access_token = '1094213176:AAFPM2lzoWH_fvQXgDjUtluJCctamMp5Ax0'\n",
    "NUM_FRAMES = 1\n",
    "batch_size = 8 #32\n",
    "NUM_CLASSES = 500 #3\n",
    "NUM_PATCHES = 9"
   ]
  },
  {
   "cell_type": "markdown",
   "metadata": {
    "colab_type": "text",
    "id": "42RiWwJZkUH5"
   },
   "source": [
    "### <font color='blue'>Performance Metrics</font>"
   ]
  },
  {
   "cell_type": "code",
   "execution_count": 14,
   "metadata": {
    "ExecuteTime": {
     "end_time": "2020-08-31T21:14:12.027095Z",
     "start_time": "2020-08-31T21:14:12.004133Z"
    },
    "colab": {},
    "colab_type": "code",
    "id": "kpT8np6skUH5"
   },
   "outputs": [],
   "source": [
    "#util_wk2\n",
    "def TP(y, pred, th=0.5):\n",
    "    pred_t = (pred > th)\n",
    "    return np.sum((pred_t == True) & (y == 1))\n",
    "\n",
    "\n",
    "def TN(y, pred, th=0.5):\n",
    "    pred_t = (pred > th)\n",
    "    return np.sum((pred_t == False) & (y == 0))\n",
    "\n",
    "\n",
    "def FN(y, pred, th=0.5):\n",
    "    pred_t = (pred > th)\n",
    "    return np.sum((pred_t == False) & (y == 1))\n",
    "\n",
    "\n",
    "def FP(y, pred, th=0.5):\n",
    "    pred_t = (pred > th)\n",
    "    return np.sum((pred_t == True) & (y == 0))\n",
    "\n",
    "def get_accuracy(y, pred, th=0.5):\n",
    "    tp = TP(y,pred,th)\n",
    "    fp = FP(y,pred,th)\n",
    "    tn = TN(y,pred,th)\n",
    "    fn = FN(y,pred,th)\n",
    "    \n",
    "    return (tp+tn)/(tp+fp+tn+fn)\n",
    "\n",
    "def get_prevalence(y):\n",
    "    return np.sum(y)/y.shape[0]\n",
    "\n",
    "def sensitivity(y, pred, th=0.5):\n",
    "    tp = TP(y,pred,th)\n",
    "    fn = FN(y,pred,th)\n",
    "    \n",
    "    return tp/(tp+fn)\n",
    "\n",
    "def specificity(y, pred, th=0.5):\n",
    "    tn = TN(y,pred,th)\n",
    "    fp = FP(y,pred,th)\n",
    "    \n",
    "    return tn/(tn+fp)\n",
    "\n",
    "def get_ppv(y, pred, th=0.5):\n",
    "    tp = TP(y,pred,th)\n",
    "    fp = FP(y,pred,th)\n",
    "    \n",
    "    return tp/(tp+fp)\n",
    "\n",
    "def get_npv(y, pred, th=0.5):\n",
    "    tn = TN(y,pred,th)\n",
    "    fn = FN(y,pred,th)\n",
    "    \n",
    "    return tn/(tn+fn)\n",
    "\n",
    "\n",
    "def get_performance_metrics(y, pred, class_labels, tp=TP,\n",
    "                            tn=TN, fp=FP,\n",
    "                            fn=FN,\n",
    "                            acc=get_accuracy, prevalence=get_prevalence, \n",
    "                            spec=specificity,sens=sensitivity, ppv=get_ppv, \n",
    "                            npv=get_npv, auc=roc_auc_score, f1=f1_score,\n",
    "                            thresholds=[]):\n",
    "    if len(thresholds) != len(class_labels):\n",
    "        thresholds = [.5] * len(class_labels)\n",
    "\n",
    "    columns = [\"\", \"TP\", \"TN\", \"FP\", \"FN\", \"Accuracy\", \"Prevalence\",\n",
    "               \"Sensitivity\",\n",
    "               \"Specificity\", \"PPV\", \"NPV\", \"AUC\", \"F1\", \"Threshold\"]\n",
    "    df = pd.DataFrame(columns=columns)\n",
    "    for i in range(len(class_labels)):\n",
    "        df.loc[i] = [\"\"] + [0] * (len(columns) - 1)\n",
    "        df.loc[i][0] = class_labels[i]\n",
    "        df.loc[i][1] = round(tp(y[:, i], pred[:, i]),\n",
    "                             3) if tp != None else \"Not Defined\"\n",
    "        df.loc[i][2] = round(tn(y[:, i], pred[:, i]),\n",
    "                             3) if tn != None else \"Not Defined\"\n",
    "        df.loc[i][3] = round(fp(y[:, i], pred[:, i]),\n",
    "                             3) if fp != None else \"Not Defined\"\n",
    "        df.loc[i][4] = round(fn(y[:, i], pred[:, i]),\n",
    "                             3) if fn != None else \"Not Defined\"\n",
    "        df.loc[i][5] = round(acc(y[:, i], pred[:, i], thresholds[i]),\n",
    "                             3) if acc != None else \"Not Defined\"\n",
    "        df.loc[i][6] = round(prevalence(y[:, i]),\n",
    "                             3) if prevalence != None else \"Not Defined\"\n",
    "        df.loc[i][7] = round(sens(y[:, i], pred[:, i], thresholds[i]),\n",
    "                             3) if sens != None else \"Not Defined\"\n",
    "        df.loc[i][8] = round(spec(y[:, i], pred[:, i], thresholds[i]),\n",
    "                             3) if spec != None else \"Not Defined\"\n",
    "        df.loc[i][9] = round(ppv(y[:, i], pred[:, i], thresholds[i]),\n",
    "                             3) if ppv != None else \"Not Defined\"\n",
    "        df.loc[i][10] = round(npv(y[:, i], pred[:, i], thresholds[i]),\n",
    "                              3) if npv != None else \"Not Defined\"\n",
    "        df.loc[i][11] = round(auc(y[:, i], pred[:, i]),\n",
    "                              3) if auc != None else \"Not Defined\"\n",
    "        df.loc[i][12] = round(f1(y[:, i], pred[:, i] > thresholds[i]),\n",
    "                              3) if f1 != None else \"Not Defined\"\n",
    "        df.loc[i][13] = round(thresholds[i], 3)\n",
    "\n",
    "    df = df.set_index(\"\")\n",
    "    return df\n",
    "\n",
    "def bootstrap_metric(y, pred, classes, metric='auc',bootstraps = 100, fold_size = 1000):\n",
    "    statistics = np.zeros((len(classes), bootstraps))\n",
    "    if metric=='AUC':\n",
    "        metric_func = roc_auc_score\n",
    "    if metric=='Sensitivity':\n",
    "        metric_func = sensitivity\n",
    "    if metric=='Specificity':\n",
    "        metric_func = specificity\n",
    "    if metric=='Accuracy':\n",
    "        metric_func = get_accuracy\n",
    "    for c in range(len(classes)):\n",
    "        df = pd.DataFrame(columns=['y', 'pred'])\n",
    "        df.loc[:, 'y'] = y[:, c]\n",
    "        df.loc[:, 'pred'] = pred[:, c]\n",
    "        # get positive examples for stratified sampling\n",
    "        df_pos = df[df.y == 1]\n",
    "        df_neg = df[df.y == 0]\n",
    "        prevalence = len(df_pos) / len(df)\n",
    "        for i in range(bootstraps):\n",
    "            # stratified sampling of positive and negative examples\n",
    "            pos_sample = df_pos.sample(n = int(fold_size * prevalence), replace=True)\n",
    "            neg_sample = df_neg.sample(n = int(fold_size * (1-prevalence)), replace=True)\n",
    "\n",
    "            y_sample = np.concatenate([pos_sample.y.values, neg_sample.y.values])\n",
    "            pred_sample = np.concatenate([pos_sample.pred.values, neg_sample.pred.values])\n",
    "            score = metric_func(y_sample, pred_sample)\n",
    "            statistics[c][i] = score\n",
    "    return statistics\n",
    "\n",
    "def get_confidence_intervals(y,pred,class_labels):\n",
    "    \n",
    "    metric_dfs = {}\n",
    "    for metric in ['AUC','Sensitivity','Specificity','Accuracy']:\n",
    "        statistics = bootstrap_metric(y,pred,class_labels,metric)\n",
    "        df = pd.DataFrame(columns=[\"Mean \"+metric+\" (CI 5%-95%)\"])\n",
    "        for i in range(len(class_labels)):\n",
    "            mean = statistics.mean(axis=1)[i]\n",
    "            max_ = np.quantile(statistics, .95, axis=1)[i]\n",
    "            min_ = np.quantile(statistics, .05, axis=1)[i]\n",
    "            df.loc[class_labels[i]] = [\"%.2f (%.2f-%.2f)\" % (mean, min_, max_)]\n",
    "        metric_dfs[metric] = df\n",
    "    return metric_dfs\n"
   ]
  },
  {
   "cell_type": "markdown",
   "metadata": {
    "colab_type": "text",
    "id": "qQJUoL4zuNYJ"
   },
   "source": [
    "### <font color='blue'>Plotting Metrics</font>"
   ]
  },
  {
   "cell_type": "markdown",
   "metadata": {
    "colab_type": "text",
    "id": "wkLyllF2kUH8"
   },
   "source": [
    "#### <font color='red'>Accuracy</font>"
   ]
  },
  {
   "cell_type": "code",
   "execution_count": 15,
   "metadata": {
    "ExecuteTime": {
     "end_time": "2020-08-31T21:14:13.600088Z",
     "start_time": "2020-08-31T21:14:13.593087Z"
    },
    "colab": {},
    "colab_type": "code",
    "id": "8c0xP0kZNN84"
   },
   "outputs": [],
   "source": [
    "def plot_accuracy(tr_acc,val_acc):\n",
    "    # Plot training & validation accuracy values\n",
    "    plt.plot(tr_acc)\n",
    "    plt.plot(val_acc)\n",
    "    plt.title('Model accuracy',fontsize=10)\n",
    "    plt.ylabel('Accuracy',fontsize=10)\n",
    "    plt.xlabel('Epoch',fontsize=10)\n",
    "    plt.tick_params(axis='both', which='major', labelsize=10)\n",
    "    plt.legend(['Train', 'Validation'], loc='upper left',prop={'size': 10})\n",
    "    plt.savefig('accuracy_plot.png')\n",
    "    plt.show()"
   ]
  },
  {
   "cell_type": "markdown",
   "metadata": {
    "colab_type": "text",
    "id": "aI_hg4wXkUH-"
   },
   "source": [
    "#### <font color='red'>Loss</font>"
   ]
  },
  {
   "cell_type": "code",
   "execution_count": 16,
   "metadata": {
    "ExecuteTime": {
     "end_time": "2020-08-31T21:14:14.470218Z",
     "start_time": "2020-08-31T21:14:14.465249Z"
    },
    "colab": {},
    "colab_type": "code",
    "id": "pOhp8lNpNOsb"
   },
   "outputs": [],
   "source": [
    "def plot_loss(tr_loss,val_loss):\n",
    "    # Plot training & validation loss values\n",
    "    plt.plot(tr_loss)\n",
    "    plt.plot(val_loss)\n",
    "    plt.title('Model loss',fontsize=10)\n",
    "    plt.ylabel('Loss',fontsize=10)\n",
    "    plt.xlabel('Epoch',fontsize=10)\n",
    "    plt.tick_params(axis='both', which='major', labelsize=10)\n",
    "    plt.legend(['Train', 'Validation'], loc='upper left',prop={'size': 10})\n",
    "    plt.savefig('loss_plot.png')\n",
    "    plt.show()"
   ]
  },
  {
   "cell_type": "markdown",
   "metadata": {
    "colab_type": "text",
    "id": "Bopi6WMmkUIA"
   },
   "source": [
    "#### <font color='red'>ROC</font>"
   ]
  },
  {
   "cell_type": "code",
   "execution_count": 17,
   "metadata": {
    "ExecuteTime": {
     "end_time": "2020-08-31T21:14:15.237605Z",
     "start_time": "2020-08-31T21:14:15.231644Z"
    },
    "colab": {},
    "colab_type": "code",
    "id": "TRMFODDikUIB"
   },
   "outputs": [],
   "source": [
    "def get_roc_curve(gt, pred, target_names):\n",
    "    for i in range(len(target_names)):\n",
    "        curve_function = roc_curve\n",
    "        auc_roc = roc_auc_score(gt[:, i], pred[:, i])\n",
    "        label = str(target_names[i]) + \" AUC: %.3f \" % auc_roc\n",
    "        xlabel = \"False positive rate\"\n",
    "        ylabel = \"True positive rate\"\n",
    "        a, b, _ = curve_function(gt[:, i], pred[:, i])\n",
    "        plt.figure(1, figsize=(7, 7))\n",
    "        plt.plot([0, 1], [0, 1], 'k--')\n",
    "        plt.plot(a, b, label=label)\n",
    "        plt.xlabel(xlabel)\n",
    "        plt.ylabel(ylabel)\n",
    "        plt.legend(loc='upper center', bbox_to_anchor=(1.3, 1),\n",
    "                       fancybox=True, ncol=1)\n",
    "        plt.savefig('ROC_Curve.png')\n",
    "        plt.show()"
   ]
  },
  {
   "cell_type": "markdown",
   "metadata": {
    "colab_type": "text",
    "id": "DBxj7WvNkUIC"
   },
   "source": [
    "#### <font color='red'>Precision and Recall</font>"
   ]
  },
  {
   "cell_type": "code",
   "execution_count": 18,
   "metadata": {
    "ExecuteTime": {
     "end_time": "2020-08-31T21:14:16.218438Z",
     "start_time": "2020-08-31T21:14:16.213451Z"
    },
    "colab": {},
    "colab_type": "code",
    "id": "Inw3SVknkUID"
   },
   "outputs": [],
   "source": [
    "def get_PR_curve(gt, pred, target_names):\n",
    "    for i in range(len(target_names)):\n",
    "        precision, recall, _ = precision_recall_curve(gt[:, i], pred[:, i])\n",
    "        average_precision = average_precision_score(gt[:, i], pred[:, i])\n",
    "        label = str(target_names[i]) + \" Avg.: %.3f \" % average_precision\n",
    "        plt.figure(1, figsize=(7, 7))\n",
    "        plt.step(recall, precision, where='post', label=label)\n",
    "        plt.xlabel('Recall')\n",
    "        plt.ylabel('Precision')\n",
    "        plt.ylim([0.0, 1.05])\n",
    "        plt.xlim([0.0, 1.0])\n",
    "        plt.legend(loc='upper center', bbox_to_anchor=(1.3, 1),\n",
    "                       fancybox=True, ncol=1)\n",
    "        plt.savefig('Precision_and_Recall_curve.png')\n",
    "        plt.show()"
   ]
  },
  {
   "cell_type": "markdown",
   "metadata": {
    "colab_type": "text",
    "id": "sz7kNHQxkUIE"
   },
   "source": [
    "#### <font color='red'>Confusion Matrix</font>  "
   ]
  },
  {
   "cell_type": "code",
   "execution_count": 19,
   "metadata": {
    "ExecuteTime": {
     "end_time": "2020-08-31T21:14:17.579229Z",
     "start_time": "2020-08-31T21:14:17.573193Z"
    },
    "colab": {},
    "colab_type": "code",
    "id": "mviMdmIlkUIG"
   },
   "outputs": [],
   "source": [
    "def plot_confusion_matrix(y_true,y_pred,class_labels):\n",
    "    cm = confusion_matrix(y_true, y_pred, labels=class_labels)\n",
    "    cm_sum = np.sum(cm, axis=1, keepdims=True)\n",
    "    cm_perc = cm / cm_sum.astype(float) * 100\n",
    "    annot = np.empty_like(cm).astype(str)\n",
    "    nrows, ncols = cm.shape\n",
    "    for i in range(nrows):\n",
    "        for j in range(ncols):\n",
    "            c = cm[i, j]\n",
    "            p = cm_perc[i, j]\n",
    "            if i == j:\n",
    "                s = cm_sum[i]\n",
    "                annot[i, j] = '%.1f%%\\n%d/%d' % (p, c, s)\n",
    "            elif c == 0:\n",
    "                annot[i, j] = ''\n",
    "            else:\n",
    "                annot[i, j] = '%.1f%%\\n%d' % (p, c)\n",
    "    cm = pd.DataFrame(cm, index=class_labels, columns=class_labels)\n",
    "    cm.index.name = 'Actual'\n",
    "    cm.columns.name = 'Predicted'\n",
    "    fig, ax = plt.subplots(figsize=(60,60))\n",
    "    sns.set(font_scale=3.0) # Adjust to fit\n",
    "    sns.heatmap(cm, cmap= \"YlGnBu\", annot=annot, fmt='', ax=ax)\n",
    "    ax.tick_params(axis='both', which='major', labelsize=10)  # Adjust to fit\n",
    "    ax.xaxis.set_ticklabels(class_labels)\n",
    "    ax.yaxis.set_ticklabels(class_labels)\n",
    "    fig.savefig('Confusion_Matrix.png')\n",
    "    plt.show()"
   ]
  },
  {
   "cell_type": "markdown",
   "metadata": {
    "colab_type": "text",
    "id": "AZTz4lvkkUII"
   },
   "source": [
    "#### <font color='red'>Performance Metrics with Errorbars</font>"
   ]
  },
  {
   "cell_type": "code",
   "execution_count": 20,
   "metadata": {
    "ExecuteTime": {
     "end_time": "2020-08-31T21:14:19.186761Z",
     "start_time": "2020-08-31T21:14:19.180753Z"
    },
    "colab": {},
    "colab_type": "code",
    "id": "i611AmBdkUII"
   },
   "outputs": [],
   "source": [
    "#04_03_Errorbar.ipynb\n",
    "def plot_perf_metrics_errbars(y,pred,class_labels):\n",
    "    metric_dfs = get_confidence_intervals(y,pred,class_labels)\n",
    "    metrics = metric_dfs.keys()\n",
    "    fig,axs = plt.subplots(len(metrics),1,sharey=True)\n",
    "    for i in range(len(metrics)):\n",
    "        ci = metric_dfs[metric][['Mean '+metrics[i]+' (CI 5%-95%)']].values\n",
    "        ci_mean,ci_ints = np.array([c[0].split(' ') for c in ci]).T\n",
    "        ci_mean = ci_mean.astype(float)\n",
    "        ci_min,ci_max = np.array([ci_ints.strip('()').split('-')]).astype(float)\n",
    "        ci_err = (ci_max-ci_min)/2\n",
    "        \n",
    "        axs[i].errorbar(class_labels,ci_mean,yerr=ci_err,capsize=5,fmt='dk')\n",
    "        axs[i].set_ylabel(metrics[i])\n",
    "    fig.savefig('Performance_Metrics_95percentCI.png')\n",
    "    plt.show()"
   ]
  },
  {
   "cell_type": "markdown",
   "metadata": {
    "colab_type": "text",
    "id": "Fr7dF1uwT2K3"
   },
   "source": [
    "# <font color='green'>Approach 1 : Jumbled Patch Order Prediction</font>\n",
    "\n"
   ]
  },
  {
   "cell_type": "markdown",
   "metadata": {
    "colab_type": "text",
    "id": "-D-yr5UshiFM"
   },
   "source": [
    "## <font color='orange'>Preparing Pseudo Labels</font>\n",
    "\n",
    "NEEDS TO BE RUN\n"
   ]
  },
  {
   "cell_type": "code",
   "execution_count": 21,
   "metadata": {
    "ExecuteTime": {
     "end_time": "2020-08-31T21:14:24.042367Z",
     "start_time": "2020-08-31T21:14:24.035364Z"
    },
    "colab": {},
    "colab_type": "code",
    "id": "GM2nQIr9kUIV"
   },
   "outputs": [],
   "source": [
    "def build_pseudo_GTP_labels():\n",
    "    ROTATION = [-15,0,15]\n",
    "    TRANSLATEX = [-6,0,6]\n",
    "    TRANSLATEY = [-6,0,6]\n",
    "    SCALING = [1,1.1]\n",
    "    SHEAR = []\n",
    "    classes = {}\n",
    "    cind = 0\n",
    "    for rot in ROTATION:\n",
    "        for tranX in TRANSLATEX:\n",
    "            for tranY in TRANSLATEY:\n",
    "                for sc in SCALING:\n",
    "                    classes[cind] = [rot,tranX,tranY,sc]\n",
    "                    cind+=1\n",
    "    return classes\n",
    "\n",
    "\n",
    "GTP_LABELS = build_pseudo_GTP_labels()"
   ]
  },
  {
   "cell_type": "code",
   "execution_count": 23,
   "metadata": {
    "colab": {
     "base_uri": "https://localhost:8080/",
     "height": 935
    },
    "colab_type": "code",
    "id": "hzqGnLXYWC5O",
    "outputId": "e346a2f7-daf0-4460-af27-011e82d301dc",
    "scrolled": true
   },
   "outputs": [],
   "source": [
    "#GTP_LABELS"
   ]
  },
  {
   "cell_type": "markdown",
   "metadata": {
    "colab_type": "text",
    "id": "8iThsv9s0Y1P"
   },
   "source": [
    "### PPP Pseudo Labels"
   ]
  },
  {
   "cell_type": "code",
   "execution_count": 22,
   "metadata": {
    "ExecuteTime": {
     "end_time": "2020-08-31T21:14:30.021620Z",
     "start_time": "2020-08-31T21:14:30.017631Z"
    },
    "colab": {},
    "colab_type": "code",
    "id": "5b0qXt5D5U5y"
   },
   "outputs": [],
   "source": [
    "NUM_PATCHES = 9"
   ]
  },
  {
   "cell_type": "code",
   "execution_count": 23,
   "metadata": {
    "ExecuteTime": {
     "end_time": "2020-08-31T21:14:31.389188Z",
     "start_time": "2020-08-31T21:14:30.480598Z"
    },
    "colab": {},
    "colab_type": "code",
    "id": "GKROm-Tg0YRo"
   },
   "outputs": [],
   "source": [
    "def build_pseudo_ppp_labels(num_patches):\n",
    "    ppp_labels_perms = list(permutations(range(0,num_patches)))\n",
    "    ppp_labels_perms = [list(t) for t in ppp_labels_perms]\n",
    "    #print(ppp_labels_perms)\n",
    "\n",
    "    ppp_labels = {}\n",
    "    label_num= 0\n",
    "    for key in ppp_labels_perms:\n",
    "        ppp_labels[str(key)] = label_num\n",
    "        label_num+=1\n",
    "    \n",
    "    return ppp_labels\n",
    "\n",
    "PPP_LABELS = build_pseudo_ppp_labels(NUM_PATCHES)"
   ]
  },
  {
   "cell_type": "code",
   "execution_count": 24,
   "metadata": {
    "ExecuteTime": {
     "end_time": "2020-08-31T21:14:32.690766Z",
     "start_time": "2020-08-31T21:14:32.687773Z"
    },
    "colab": {
     "base_uri": "https://localhost:8080/",
     "height": 187
    },
    "colab_type": "code",
    "id": "FRiWmR5NIg3D",
    "outputId": "be0b6368-e84e-4f29-b6a3-e921f40f22f6"
   },
   "outputs": [],
   "source": [
    "#print(PPP_LABELS)"
   ]
  },
  {
   "cell_type": "code",
   "execution_count": 25,
   "metadata": {
    "ExecuteTime": {
     "end_time": "2020-08-31T21:14:34.081045Z",
     "start_time": "2020-08-31T21:14:34.065089Z"
    },
    "colab": {
     "base_uri": "https://localhost:8080/",
     "height": 54
    },
    "colab_type": "code",
    "id": "C1xoo51m5SFj",
    "outputId": "3f99df5a-a75d-4133-84f9-d6ba01cede9c"
   },
   "outputs": [],
   "source": [
    "keys = random.sample(list(PPP_LABELS.keys()),500)\n",
    "if '[0, 1, 2, 3, 4, 5, 6, 7, 8]' not in keys:\n",
    "    PPP_LABELS_DICT = {'[0, 1, 2, 3, 4, 5, 6, 7, 8]':0}\n",
    "    keys = keys[:-1]\n",
    "    v = 1\n",
    "else:\n",
    "    v = 0\n",
    "for k in keys:\n",
    "    PPP_LABELS_DICT[k] = v\n",
    "    v+=1\n",
    "#print(PPP_LABELS_DICT)"
   ]
  },
  {
   "cell_type": "code",
   "execution_count": 26,
   "metadata": {
    "ExecuteTime": {
     "end_time": "2020-08-31T21:14:35.366605Z",
     "start_time": "2020-08-31T21:14:35.353640Z"
    },
    "colab": {},
    "colab_type": "code",
    "id": "bfJm6IUNHrVZ"
   },
   "outputs": [],
   "source": [
    "PPP_LABELS = PPP_LABELS_DICT"
   ]
  },
  {
   "cell_type": "code",
   "execution_count": 27,
   "metadata": {
    "ExecuteTime": {
     "end_time": "2020-08-31T21:14:35.678790Z",
     "start_time": "2020-08-31T21:14:35.674801Z"
    },
    "colab": {
     "base_uri": "https://localhost:8080/",
     "height": 34
    },
    "colab_type": "code",
    "id": "fq-2vajXM42Z",
    "outputId": "beb2bece-b7c6-4e58-f92f-b0ea3de2eaf5"
   },
   "outputs": [
    {
     "data": {
      "text/plain": [
       "True"
      ]
     },
     "execution_count": 27,
     "metadata": {},
     "output_type": "execute_result"
    }
   ],
   "source": [
    "'[0, 1, 2, 3, 4, 5, 6, 7, 8]' in PPP_LABELS.keys()"
   ]
  },
  {
   "cell_type": "code",
   "execution_count": 28,
   "metadata": {
    "ExecuteTime": {
     "end_time": "2020-08-31T21:14:35.985949Z",
     "start_time": "2020-08-31T21:14:35.981959Z"
    },
    "colab": {
     "base_uri": "https://localhost:8080/",
     "height": 34
    },
    "colab_type": "code",
    "id": "WSLCxD-rSoeR",
    "outputId": "1f6dab70-d866-4c7d-e51c-ebacceadc2ed"
   },
   "outputs": [
    {
     "data": {
      "text/plain": [
       "500"
      ]
     },
     "execution_count": 28,
     "metadata": {},
     "output_type": "execute_result"
    }
   ],
   "source": [
    "len(PPP_LABELS)"
   ]
  },
  {
   "cell_type": "markdown",
   "metadata": {
    "colab_type": "text",
    "id": "f4NSGL_4q0Jo"
   },
   "source": [
    "## SSL PPP Data Generator"
   ]
  },
  {
   "cell_type": "code",
   "execution_count": 29,
   "metadata": {
    "ExecuteTime": {
     "end_time": "2020-08-31T21:14:42.651738Z",
     "start_time": "2020-08-31T21:14:42.647730Z"
    },
    "colab": {},
    "colab_type": "code",
    "id": "NrolnQ6_Jjgp"
   },
   "outputs": [],
   "source": [
    "NUM_PATCHES = 9\n",
    "NUM_CLASSES = 500"
   ]
  },
  {
   "cell_type": "code",
   "execution_count": 30,
   "metadata": {
    "ExecuteTime": {
     "end_time": "2020-08-31T21:14:43.163544Z",
     "start_time": "2020-08-31T21:14:43.159555Z"
    }
   },
   "outputs": [],
   "source": [
    "def ppi_irv2(x):\n",
    "    x /= 127.5\n",
    "    x -= 1.\n",
    "    return x\n",
    "\n",
    "def to_categorical(y, num_classes):\n",
    "    \"\"\" 1-hot encodes a tensor \"\"\"\n",
    "    return np.eye(num_classes, dtype='uint8')[y]"
   ]
  },
  {
   "cell_type": "code",
   "execution_count": 48,
   "metadata": {
    "ExecuteTime": {
     "end_time": "2020-08-31T21:24:52.795203Z",
     "start_time": "2020-08-31T21:24:52.765279Z"
    },
    "colab": {},
    "colab_type": "code",
    "id": "fbtQoTWfqy8R"
   },
   "outputs": [],
   "source": [
    "class PPPDataGen(Dataset):\n",
    "    def __init__(self,phase,mode,base_dir,filenames_df,preprocess_input=None,\n",
    "                 ppp_labels_dict = PPP_LABELS,gtp_labels_dict = GTP_LABELS,\n",
    "                 batch_size=8,num_patches = NUM_PATCHES,num_frames = NUM_FRAMES,\n",
    "                 num_classes=NUM_CLASSES,hor_flip = True,data_aug = True):\n",
    "        self.base_dir = base_dir\n",
    "        self.ph_mode_dir = base_dir+'\\\\'+phase+'\\\\'+mode\n",
    "        self.filenames = os.listdir(self.ph_mode_dir)\n",
    "        self.phase = phase\n",
    "        self.mode = mode\n",
    "        self.batch_size = batch_size\n",
    "        self.num_patches = num_patches\n",
    "        self.num_frames = num_frames\n",
    "        self.num_classes = num_classes\n",
    "        self.filenames_df = filenames_df\n",
    "        self.preprocess_input = preprocess_input\n",
    "        self.ppp_labels_dict = ppp_labels_dict\n",
    "        self.gtp_labels_dict = gtp_labels_dict \n",
    "        self.hor_flip = hor_flip\n",
    "        self.data_aug = data_aug\n",
    "        \n",
    "        self.invGamma100 = 1.0 \n",
    "        self.invGamma115 = 1.0/1.15\n",
    "        self.invGamma085 = 1.0/0.85\n",
    "        self.table100 = np.array([((k / 255.0) ** self.invGamma100) * 255 for k in np.arange(0, 256)]).astype(\"uint8\")\n",
    "        self.table115 = np.array([((k / 255.0) ** self.invGamma115) * 255 for k in np.arange(0, 256)]).astype(\"uint8\")\n",
    "        self.table085 = np.array([((k / 255.0) ** self.invGamma085) * 255 for k in np.arange(0, 256)]).astype(\"uint8\")\n",
    "        self.gamma_dict100 = dict(zip(range(256),self.table100))\n",
    "        self.gamma_dict115 = dict(zip(range(256),self.table115))\n",
    "        self.gamma_dict085 = dict(zip(range(256),self.table085))\n",
    "\n",
    "\n",
    "    def get_random_shuffle_order(self,batch_sz):\n",
    "        blist = list(range(batch_sz))\n",
    "        random.shuffle(blist)\n",
    "        return blist\n",
    "    \n",
    "    def load_volume(self,mode,file_idx):\n",
    "        filePoolLen = self.filenames_df.shape[0]\n",
    "        file_idx = file_idx%filePoolLen #//(16//self.batch_size)# #np.random.randint(0,filePoolLen)\n",
    "        npy_file = np.load(self.ph_mode_dir+'\\\\'+self.filenames_df['filename'].iloc[file_idx])\n",
    "        return npy_file\n",
    "    \n",
    "    def get_frames(self,mode,idx):\n",
    "        image_volume = self.load_volume(mode,idx)\n",
    "        tot_frames = image_volume.shape[0]\n",
    "        frame_idxs = np.random.randint(0,tot_frames,size=self.num_frames)\n",
    "        frames = np.array(image_volume[frame_idxs,:,:])\n",
    "        #print(frames.shape)\n",
    "        return frames\n",
    "    \n",
    "    def __len__(self):\n",
    "        #return int(np.floor((len(self.filenames_df)/self.batch_size)))\n",
    "        return len(self.filenames_df) #*16\n",
    "    \n",
    "    def __getitem__(self,idx):\n",
    "\n",
    "        #DECLARE VARIABLES\n",
    "        batch_imgs = np.array([]).reshape((0,256,256,3))\n",
    "\n",
    "        model1_inp = np.array([]).reshape((0,64,64,3))\n",
    "        model2_inp = np.array([]).reshape((0,64,64,3))\n",
    "        model3_inp = np.array([]).reshape((0,64,64,3))\n",
    "        model4_inp = np.array([]).reshape((0,64,64,3))\n",
    "        model5_inp = np.array([]).reshape((0,64,64,3))\n",
    "        model6_inp = np.array([]).reshape((0,64,64,3))\n",
    "        model7_inp = np.array([]).reshape((0,64,64,3))\n",
    "        model8_inp = np.array([]).reshape((0,64,64,3))\n",
    "        model9_inp = np.array([]).reshape((0,64,64,3))\n",
    "\n",
    "        batch_labs = np.array([],dtype=np.int32)\n",
    "        \n",
    "        #CREATE BATCH\n",
    "        '''for bs in range(self.batch_size):\n",
    "            #print(bs)\n",
    "            #GET CLIP FRAMES'''\n",
    "        file_idx = idx #self.start_idx + bs\n",
    "        imgs = np.array([]).reshape((256,256,0))\n",
    "        img = self.get_frames(self.mode,idx)\n",
    "        for i in range(3):\n",
    "            imgs = np.append(imgs,img.reshape((256,256,1)),axis=2)\n",
    "\n",
    "        batch_imgs = np.append(batch_imgs,np.expand_dims(imgs,axis=0),axis=0)\n",
    "\n",
    "        ppp_labels = list(self.ppp_labels_dict.keys())\n",
    "        #print(len(ppp_labels))\n",
    "        crop_window = int(256/int(np.sqrt(self.num_patches)))\n",
    "        crop_window_rlx = 64 #################################int(crop_window - np.ceil(0.2*float(crop_window)))\n",
    "        eachgap = int((crop_window-crop_window_rlx)/2.)\n",
    "\n",
    "        for i in range(batch_imgs.shape[0]):\n",
    "            '''if self.phase=='train':\n",
    "                batch_imgs[i] = self.gamma_correction(batch_imgs[i])'''\n",
    "                #batch_imgs[i] = np.clip(batch_imgs[i] + np.random.normal(0,0.1,(256,256,3)),0,255)\n",
    "            \n",
    "            label_idx = np.random.choice(list(range(self.num_classes)))\n",
    "            #print(ppp_labels[label_idx])\n",
    "            jumbling_order = list(map(int,ppp_labels[label_idx].strip('[]').split(',')))\n",
    "            temp_batch_img = np.zeros((64,64,3))\n",
    "            for jo in range(len(jumbling_order)):\n",
    "                temp_patch1 = np.zeros((crop_window_rlx,crop_window_rlx,3))\n",
    "                spatch_num = jumbling_order[jo]\n",
    "                scol_num = spatch_num%int(np.sqrt(self.num_patches))\n",
    "                srow_num = int(np.floor(spatch_num/int(np.sqrt(self.num_patches))))\n",
    "                gapx = np.random.randint(0,eachgap)\n",
    "                gapy = np.random.randint(0,eachgap)\n",
    "                sourcesx = crop_window*scol_num + gapx\n",
    "                sourceex = sourcesx + crop_window_rlx\n",
    "                sourcesy = crop_window*srow_num + gapy\n",
    "                sourceey = sourcesy + crop_window_rlx\n",
    "                #sx = np.random.choice(range(int(eachgap/4.),int(eachgap/4.)+int(eachgap/2.)))\n",
    "                #sy = np.random.choice(range(int(eachgap/4.),int(eachgap/4.)+int(eachgap/2.)))\n",
    "                #temp_patch1 = batch_imgs[i,sourcesx:sourceex,sourcesy:sourceey,:]\n",
    "\n",
    "                #AUGMENT FRAMES\n",
    "                if self.phase=='train':\n",
    "                    temp_patch1 = self.__augment(batch_imgs[i,sourcesx:sourceex,sourcesy:sourceey,:])\n",
    "                else:\n",
    "                    temp_patch1 = batch_imgs[i,sourcesx:sourceex,sourcesy:sourceey,:]\n",
    "\n",
    "                if jo == 0:\n",
    "                    model1_inp = np.append(model1_inp,np.expand_dims(temp_patch1,axis=0),axis=0)\n",
    "                if jo == 1:\n",
    "                    model2_inp = np.append(model2_inp,np.expand_dims(temp_patch1,axis=0),axis=0)\n",
    "                if jo == 2:\n",
    "                    model3_inp = np.append(model3_inp,np.expand_dims(temp_patch1,axis=0),axis=0)\n",
    "                if jo == 3:\n",
    "                    model4_inp = np.append(model4_inp,np.expand_dims(temp_patch1,axis=0),axis=0)\n",
    "                if jo == 4:\n",
    "                    model5_inp = np.append(model5_inp,np.expand_dims(temp_patch1,axis=0),axis=0)\n",
    "                if jo == 5:\n",
    "                    model6_inp = np.append(model6_inp,np.expand_dims(temp_patch1,axis=0),axis=0)\n",
    "                if jo == 6:\n",
    "                    model7_inp = np.append(model7_inp,np.expand_dims(temp_patch1,axis=0),axis=0)\n",
    "                if jo == 7:\n",
    "                    model8_inp = np.append(model8_inp,np.expand_dims(temp_patch1,axis=0),axis=0)\n",
    "                if jo == 8:\n",
    "                    model9_inp = np.append(model9_inp,np.expand_dims(temp_patch1,axis=0),axis=0)\n",
    "\n",
    "            batch_labs = np.append(batch_labs,int(self.ppp_labels_dict[ppp_labels[label_idx]]))\n",
    "\n",
    "        #PREPROCESS FRAMES\n",
    "        model1_inp = self.preprocess_input(model1_inp)\n",
    "        model2_inp = self.preprocess_input(model2_inp)\n",
    "        model3_inp = self.preprocess_input(model3_inp)\n",
    "        model4_inp = self.preprocess_input(model4_inp)\n",
    "        model5_inp = self.preprocess_input(model5_inp)\n",
    "        model6_inp = self.preprocess_input(model6_inp)\n",
    "        model7_inp = self.preprocess_input(model7_inp)\n",
    "        model8_inp = self.preprocess_input(model8_inp)\n",
    "        model9_inp = self.preprocess_input(model9_inp)\n",
    "        \n",
    "        #return inputs, batch_labs\n",
    "        return np.array([model1_inp,model2_inp,model3_inp,model4_inp,model5_inp,model6_inp,model7_inp,model8_inp,model9_inp]),batch_labs\n",
    "        \n",
    "    \n",
    "    def __iter__(self):\n",
    "        for item in (self[i] for i in range(len(self))):\n",
    "            yield item\n",
    "    \n",
    "    def on_epoch_end(self):\n",
    "        self.filenames_df = self.filenames_df.sample(frac=1).reset_index(drop=True)\n",
    "\n",
    "    def gamma_correction(self,temp_patch):\n",
    "        \n",
    "        gamma_val = np.random.choice([0,1,2])\n",
    "        if gamma_val == 0:\n",
    "            temp_patch = np.vectorize(self.gamma_dict100.get)(temp_patch.astype('int'))\n",
    "        if gamma_val == 1:\n",
    "            temp_patch = np.vectorize(self.gamma_dict115.get)(temp_patch.astype('int'))\n",
    "        if gamma_val == 2:\n",
    "            temp_patch = np.vectorize(self.gamma_dict085.get)(temp_patch.astype('int'))\n",
    "\n",
    "        return temp_patch\n",
    "    \n",
    "    def __augment(self,temp_patch):\n",
    "\n",
    "        transforms = np.random.choice(list(self.gtp_labels_dict.keys()))\n",
    "        transformations = self.gtp_labels_dict[transforms]\n",
    "        temp_patch = rotate(temp_patch,transformations[0],preserve_range=True)\n",
    "        temp_patch = warp(temp_patch,\n",
    "                          AffineTransform(matrix=np.array([[transformations[3], 0, transformations[1]],\n",
    "                                                           [0,transformations[3],  transformations[2]],\n",
    "                                                           [0,         0,                   1]])).inverse,\n",
    "                          preserve_range=True)\n",
    "            \n",
    "        if self.hor_flip:\n",
    "            if np.random.choice([True,False]):\n",
    "                temp_patch = np.flip(temp_patch,axis=2)\n",
    "\n",
    "        if np.random.choice([True,False]):\n",
    "            temp_patch = np.clip(temp_patch*np.random.choice([0.85,0.9,1.0,1.1,1.15]),0,255)\n",
    "        \n",
    "\n",
    "        return temp_patch"
   ]
  },
  {
   "cell_type": "markdown",
   "metadata": {
    "heading_collapsed": true
   },
   "source": [
    "### Datagen Testing"
   ]
  },
  {
   "cell_type": "code",
   "execution_count": 34,
   "metadata": {
    "colab": {},
    "colab_type": "code",
    "hidden": true,
    "id": "0zIXsRxrrB1B"
   },
   "outputs": [],
   "source": [
    "dg = PPPDataGen('valid','sagittal',mrnet_path,val_filenames_df,preprocess_input = ppi_irv2,ppp_labels_dict = PPP_LABELS,gtp_labels_dict = GTP_LABELS,batch_size=1,num_frames = 1,num_classes=NUM_CLASSES,hor_flip = False,data_aug = True)"
   ]
  },
  {
   "cell_type": "code",
   "execution_count": 35,
   "metadata": {
    "hidden": true
   },
   "outputs": [],
   "source": [
    "dl = DataLoader(dg,batch_size=16)"
   ]
  },
  {
   "cell_type": "code",
   "execution_count": 42,
   "metadata": {
    "colab": {
     "base_uri": "https://localhost:8080/",
     "height": 51
    },
    "colab_type": "code",
    "hidden": true,
    "id": "8lf8pVYgrB1J",
    "outputId": "131089f1-3cac-49ae-9e33-b566aa4fbb9b"
   },
   "outputs": [
    {
     "name": "stdout",
     "output_type": "stream",
     "text": [
      "<class 'torch.Tensor'> <class 'torch.Tensor'>\n",
      "<class 'torch.Tensor'> <class 'torch.Tensor'>\n",
      "<class 'torch.Tensor'> <class 'torch.Tensor'>\n",
      "<class 'torch.Tensor'> <class 'torch.Tensor'>\n",
      "<class 'torch.Tensor'> <class 'torch.Tensor'>\n",
      "<class 'torch.Tensor'> <class 'torch.Tensor'>\n",
      "<class 'torch.Tensor'> <class 'torch.Tensor'>\n",
      "<class 'torch.Tensor'> <class 'torch.Tensor'>\n"
     ]
    }
   ],
   "source": [
    "for x,y in dl:\n",
    "    print(type(x[0]),type(y))"
   ]
  },
  {
   "cell_type": "code",
   "execution_count": 46,
   "metadata": {
    "hidden": true
   },
   "outputs": [
    {
     "name": "stdout",
     "output_type": "stream",
     "text": [
      "torch.Size([1, 64, 64, 3])\n"
     ]
    }
   ],
   "source": [
    "print(x[0][0].shape)"
   ]
  },
  {
   "cell_type": "code",
   "execution_count": null,
   "metadata": {
    "colab": {},
    "colab_type": "code",
    "hidden": true,
    "id": "jWM4obhErB1H"
   },
   "outputs": [],
   "source": [
    "samples = {}\n",
    "for i in range(1000):\n",
    "    _,gtp_labs = dg.__getitem__(i)\n",
    "    for t in gtp_labs:\n",
    "        if t not in list(samples.keys()):\n",
    "            samples[int(t)]=0\n",
    "        samples[int(t)]+=1\n",
    "plt.bar(list(samples.keys()),list(samples.values()))\n",
    "plt.show()\n"
   ]
  },
  {
   "cell_type": "code",
   "execution_count": null,
   "metadata": {
    "hidden": true
   },
   "outputs": [],
   "source": [
    "np.max(ppp_imgs[4][5])"
   ]
  },
  {
   "cell_type": "code",
   "execution_count": null,
   "metadata": {
    "hidden": true
   },
   "outputs": [],
   "source": [
    "np.max(np.random.normal(0,0.1,(64,64,3)))"
   ]
  },
  {
   "cell_type": "code",
   "execution_count": null,
   "metadata": {
    "colab": {
     "base_uri": "https://localhost:8080/",
     "height": 248
    },
    "colab_type": "code",
    "hidden": true,
    "id": "YFnb6kYYPtVQ",
    "outputId": "c1666641-9a41-4421-a98c-ea6514883da2"
   },
   "outputs": [],
   "source": [
    "plt.imshow((ppp_imgs[4][5]+1)/2.0,cmap='gray')\n",
    "plt.tick_params(\n",
    "    axis='x',          # changes apply to the x-axis\n",
    "    which='both',      # both major and minor ticks are affected\n",
    "    bottom=False,      # ticks along the bottom edge are off\n",
    "    top=False,         # ticks along the top edge are off\n",
    "    labelbottom=False)\n",
    "plt.tick_params(\n",
    "    axis='y',          # changes apply to the x-axis\n",
    "    which='both',      # both major and minor ticks are affected\n",
    "    left=False,      # ticks along the bottom edge are off\n",
    "    right=False,         # ticks along the top edge are off\n",
    "    labelleft=False)"
   ]
  },
  {
   "cell_type": "code",
   "execution_count": 50,
   "metadata": {
    "colab": {
     "base_uri": "https://localhost:8080/",
     "height": 1000
    },
    "colab_type": "code",
    "hidden": true,
    "id": "JMMhwb01rB1N",
    "outputId": "8532dc9b-759e-4902-d0f5-add201e22e65"
   },
   "outputs": [
    {
     "data": {
      "image/png": "[encoded data removed]",
      "text/plain": [
       "<Figure size 2880x1440 with 8 Axes>"
      ]
     },
     "metadata": {
      "needs_background": "light"
     },
     "output_type": "display_data"
    }
   ],
   "source": [
    "fig,axs=plt.subplots(2,4,figsize=(40,20))\n",
    "for i in range(8):\n",
    "    axs[int(i/4),i%4].imshow((x[0][i][0]+1)/2.0,cmap='gray')\n",
    "    #axs[int(i/4),i%4].set_title(str(list(PPP_LABELS.keys())[ppp_labs[i]]))\n",
    "plt.show()"
   ]
  },
  {
   "cell_type": "markdown",
   "metadata": {
    "colab_type": "text",
    "id": "eRZ-ey1_2mPZ"
   },
   "source": [
    "## Manual Model"
   ]
  },
  {
   "cell_type": "code",
   "execution_count": 32,
   "metadata": {
    "ExecuteTime": {
     "end_time": "2020-08-31T21:14:50.111161Z",
     "start_time": "2020-08-31T21:14:50.108167Z"
    }
   },
   "outputs": [],
   "source": [
    "SEED = 16"
   ]
  },
  {
   "cell_type": "code",
   "execution_count": 39,
   "metadata": {
    "ExecuteTime": {
     "end_time": "2020-08-31T21:17:08.487694Z",
     "start_time": "2020-08-31T21:17:08.457768Z"
    }
   },
   "outputs": [],
   "source": [
    "def conv3x3(inC,outC,stride=1,padding=1):\n",
    "    return nn.Conv2d(inC,outC,kernel_size=3,stride = stride, padding = padding)\n",
    "\n",
    "def conv1x1(inC,outC,stride=1,padding=1):\n",
    "    return nn.Conv2d(inC,outC,kernel_size=1,stride = stride, padding = padding)\n",
    "\n",
    "def norm_layer(inC):\n",
    "    return nn.BatchNorm2d(inC)\n",
    "\n",
    "def maxpool(kernel_size = 2, stride = 2):\n",
    "    return nn.MaxPool2d(kernel_size = kernel_size, stride = stride)\n",
    "\n",
    "def avgpool(kernel_size = 2, stride = 2):\n",
    "    return nn.AvgPool2d(kernel_size = kernel_size, stride = stride)\n",
    "\n",
    "class Conv_block(nn.Module):\n",
    "    def __init__(self,inC,outC,upsample = 1,**kwargs):\n",
    "        super(Conv_block,self).__init__()\n",
    "        self.inC = inC\n",
    "        self.outC = outC\n",
    "        self.upsample = upsample\n",
    "        self.outC1 = self.outC // upsample\n",
    "        self.outC2 = self.outC\n",
    "        \n",
    "        self.conv1 = conv3x3(self.inC,self.outC1)\n",
    "        self.bn1 = norm_layer(self.outC1)\n",
    "        self.conv2 = conv3x3(self.outC1,self.outC1)\n",
    "        self.bn2 = norm_layer(self.outC1)\n",
    "        self.conv3 = conv3x3(self.outC1,self.outC2)\n",
    "        self.bn3 = norm_layer(self.outC2)\n",
    "        self.conv4 = conv3x3(self.outC2,self.outC2)\n",
    "        self.bn4 = norm_layer(self.outC2)\n",
    "        self.relu = nn.ReLU(inplace = True)\n",
    "        self.downsample = maxpool()\n",
    "        \n",
    "    def forward(self,x):\n",
    "        out = self.conv1(x)\n",
    "        out = self.bn1(out)\n",
    "        out = self.relu(out)\n",
    "        \n",
    "        out = self.conv2(out)\n",
    "        out = self.bn2(out)\n",
    "        out = self.relu(out)\n",
    "        \n",
    "        out = self.downsample(out)\n",
    "        #print(out.shape)\n",
    "        \n",
    "        out = self.conv3(out)\n",
    "        out = self.bn3(out)\n",
    "        out = self.relu(out)\n",
    "        \n",
    "        out = self.conv4(out)\n",
    "        out = self.bn4(out)\n",
    "        out = self.relu(out)\n",
    "        \n",
    "        out = self.downsample(out)\n",
    "        #print(out.shape)\n",
    "        \n",
    "        return out\n",
    "    \n",
    "class Skip_block(nn.Module):\n",
    "    def __init__(self,inC,outC,upsample = 2,**kwargs):\n",
    "        super(Skip_block, self).__init__()\n",
    "        self.inC = inC\n",
    "        self.outC = outC\n",
    "        self.upsample = upsample\n",
    "        try:\n",
    "            self.scale  = kwargs['scale']\n",
    "        except:\n",
    "            self.scale = 1.0\n",
    "        \n",
    "        self.outC1 = self.outC//self.upsample\n",
    "        self.outC2 = self.outC\n",
    "        \n",
    "        self.conv1 = conv3x3(self.inC,self.outC1)\n",
    "        self.bn1 = norm_layer(self.outC1)\n",
    "        self.conv2 = conv3x3(self.outC1, self.outC2)\n",
    "        self.bn2 = norm_layer(self.outC2)\n",
    "        self.relu = nn.ReLU(inplace = True)\n",
    "        \n",
    "    def forward(self,x):\n",
    "        identity = x\n",
    "        \n",
    "        out = self.conv1(x)\n",
    "        out = self.bn1(out)\n",
    "        out = self.relu(out)\n",
    "        \n",
    "        out = self.conv2(out)\n",
    "        out = self.bn2(out)\n",
    "        out = self.relu(out)\n",
    "        #print(\"SKIP::\",out.shape)\n",
    "        out = self.scale*out + identity\n",
    "        #print(out.shape)\n",
    "        \n",
    "        return out\n",
    "\n",
    "class Dim_Red_block(nn.Module):\n",
    "    def __init__(self,inC,outC,upsample = 1,**kwargs):\n",
    "        super(Dim_Red_block,self).__init__()\n",
    "        self.inC= inC\n",
    "        self.upsample = upsample\n",
    "        self.outC = outC\n",
    "        \n",
    "        self.outC1 = (self.outC//2)//self.upsample\n",
    "        self.outC2 = self.outC//2\n",
    "        \n",
    "        try:\n",
    "            self.downfactor = kwargs['downfactor']\n",
    "        except:\n",
    "            self.downfactor = 2\n",
    "            \n",
    "        if self.downfactor == 2:\n",
    "            self.stride1 = 1\n",
    "        elif self.downfactor == 4:\n",
    "            self.stride1 = 2\n",
    "        self.stride2 = 2\n",
    "        \n",
    "        self.conv11 = conv3x3(self.inC, self.outC1, stride = self.stride1)\n",
    "        self.bn11 = norm_layer(self.outC1)\n",
    "        self.conv12 = conv3x3(self.outC1, self.outC2, stride = self.stride2)\n",
    "        self.bn12 = norm_layer(self.outC2)\n",
    "        \n",
    "        self.downsample21 = avgpool()\n",
    "        self.conv22 = conv1x1(self.inC,self.outC2,padding = 0)\n",
    "        self.bn22 = norm_layer(self.outC2)\n",
    "        \n",
    "        self.relu = nn.ReLU(inplace = True)\n",
    "        \n",
    "    def forward(self,x):\n",
    "        out1 = self.conv11(x)\n",
    "        out1 = self.bn11(out1)\n",
    "        out1 = self.relu(out1)\n",
    "        #print(\"DIMRED:\",out1.shape)\n",
    "        out1 = self.conv12(out1)\n",
    "        out1 = self.bn12(out1)\n",
    "        out1 = self.relu(out1)\n",
    "        #print(out1.shape)\n",
    "        \n",
    "        out2 = self.downsample21(x)\n",
    "        out2 = self.conv22(out2)\n",
    "        out2 = self.bn22(out2)\n",
    "        out2 = self.relu(out2)\n",
    "        #print(out2.shape)\n",
    "        \n",
    "        out = torch.cat((out1,out2),dim=1)\n",
    "        \n",
    "        return out\n",
    "    \n",
    "class JPOP_net(nn.Module): \n",
    "    def __init__(self,conv_block,skip_block,dim_red_block, layer_outs, input_shape = (3,64,64), num_classes = 500):\n",
    "        super(JPOP_net,self).__init__()\n",
    "        self.conv_block = conv_block\n",
    "        self.skip_block = skip_block\n",
    "        self.dim_red_block = dim_red_block\n",
    "        self.input_shape = input_shape\n",
    "        self.inC = self.input_shape[0]\n",
    "        self.num_classes = num_classes\n",
    "        \n",
    "        self.conv_channel1 = self._make_layer(self.conv_block,self.inC,layer_outs[0],2)\n",
    "        self.conv_channel2 = self._make_layer(self.conv_block,self.inC,layer_outs[0],2)\n",
    "        self.conv_channel3 = self._make_layer(self.conv_block,self.inC,layer_outs[0],2)\n",
    "        self.conv_channel4 = self._make_layer(self.conv_block,self.inC,layer_outs[0],2)\n",
    "        self.conv_channel5 = self._make_layer(self.conv_block,self.inC,layer_outs[0],2)\n",
    "        self.conv_channel6 = self._make_layer(self.conv_block,self.inC,layer_outs[0],2)\n",
    "        self.conv_channel7 = self._make_layer(self.conv_block,self.inC,layer_outs[0],2)\n",
    "        self.conv_channel8 = self._make_layer(self.conv_block,self.inC,layer_outs[0],2)\n",
    "        self.conv_channel9 = self._make_layer(self.conv_block,self.inC,layer_outs[0],2)\n",
    "        \n",
    "        self.conv1x1layer = conv1x1(9*layer_outs[0],layer_outs[1],padding=0)\n",
    "        \n",
    "        self.skip_block1 = self._make_layer(self.skip_block,layer_outs[1],layer_outs[2],upsample = 2, scale = 1.0)\n",
    "        \n",
    "        self.dim_red_block1 = self._make_layer(self.dim_red_block,layer_outs[2],layer_outs[3],upsample = 1, downfactor = 2)\n",
    "        \n",
    "        self.skip_block2 = self._make_layer(self.skip_block,layer_outs[3],layer_outs[4],upsample = 2, scale = 1.0)\n",
    "        \n",
    "        self.dim_red_block2 = self._make_layer(self.dim_red_block,layer_outs[4],layer_outs[5],upsample = 1, downfactor = 2)\n",
    "        \n",
    "        self.globalavgpool = avgpool(kernel_size = 4, stride = 4)\n",
    "        \n",
    "        self.fc1 = nn.Linear(layer_outs[5],1024)\n",
    "        self.fc2 = nn.Linear(1024,1024)\n",
    "        \n",
    "        self.output = nn.Linear(1024,self.num_classes)\n",
    "    \n",
    "    def _make_layer(self,block,inC,outC,upsample,**kwargs):\n",
    "        layers = [block(inC,outC,upsample,**kwargs)]\n",
    "        return nn.Sequential(*layers)\n",
    "    \n",
    "    def _forward_impl(self,x):\n",
    "        #print(x.shape,x.select(1,0).shape)\n",
    "        out1 = self.conv_channel1(x.select(1,0).to(memory_format=torch.channels_last))\n",
    "        out2 = self.conv_channel2(x.select(1,1).to(memory_format=torch.channels_last))\n",
    "        out3 = self.conv_channel3(x.select(1,2).to(memory_format=torch.channels_last))\n",
    "        out4 = self.conv_channel4(x.select(1,3).to(memory_format=torch.channels_last))\n",
    "        out5 = self.conv_channel5(x.select(1,4).to(memory_format=torch.channels_last))\n",
    "        out6 = self.conv_channel6(x.select(1,5).to(memory_format=torch.channels_last))\n",
    "        out7 = self.conv_channel7(x.select(1,6).to(memory_format=torch.channels_last))\n",
    "        out8 = self.conv_channel8(x.select(1,7).to(memory_format=torch.channels_last))\n",
    "        out9 = self.conv_channel9(x.select(1,8).to(memory_format=torch.channels_last))\n",
    "        \n",
    "        out = torch.cat((out1,out2,out3,out4,out5,out6,out7,out8,out9),dim = 1)\n",
    "        #print(out.shape)\n",
    "        out = self.conv1x1layer(out)\n",
    "        #print(out.shape)\n",
    "        out = self.skip_block1(out)\n",
    "        #print(out.shape)\n",
    "        out = self.dim_red_block1(out)\n",
    "        out = self.skip_block2(out)\n",
    "        out = self.dim_red_block2(out)\n",
    "        \n",
    "        out = self.globalavgpool(out)\n",
    "        #print(out.shape)\n",
    "        out = torch.flatten(out,1)\n",
    "        #print(out.shape)\n",
    "        out = self.fc1(out)\n",
    "        #print(out.shape)\n",
    "        out = self.fc2(out)\n",
    "        #print(out.shape)\n",
    "        out = self.output(out)\n",
    "        \n",
    "        return out\n",
    "    \n",
    "    def forward(self,x):\n",
    "        return self._forward_impl(x)\n",
    "    \n",
    "def model(conv_block,skip_block,dim_red_block,layer_outs,input_shape = (3,64,64),num_classes = 500):\n",
    "    return JPOP_net(conv_block,skip_block,dim_red_block,layer_outs,input_shape,num_classes)"
   ]
  },
  {
   "cell_type": "markdown",
   "metadata": {
    "colab_type": "text",
    "heading_collapsed": true,
    "id": "pJg-KvM1dJN2"
   },
   "source": [
    "### OPTIMIZER AND DATA GEN"
   ]
  },
  {
   "cell_type": "code",
   "execution_count": null,
   "metadata": {
    "colab": {},
    "colab_type": "code",
    "hidden": true,
    "id": "MajczmtGkUJI"
   },
   "outputs": [],
   "source": [
    "#optimizer = tf.keras.optimizers.SGD(tf.keras.optimizers.schedules.ExponentialDecay(initial_learning_rate=0.001, decay_steps = 1000,decay_rate=0.97,staircase=True), momentum=0.9, nesterov=True)\n",
    "#optimizer = tf.keras.optimizers.Adam(lr= 0.0003) #lr = 1e-5 for finetuning whole 1e-4 for only FC\n",
    "#optimizer = tf.keras.optimizers.RMSprop(learning_rate =tf.keras.optimizers.schedules.ExponentialDecay(initial_learning_rate=0.001, decay_steps = 2260,decay_rate=0.95,staircase=True),rho=0.9)"
   ]
  },
  {
   "cell_type": "code",
   "execution_count": 56,
   "metadata": {
    "hidden": true
   },
   "outputs": [],
   "source": [
    "class AccumOptimizer(Optimizer):\n",
    "    \n",
    "    def __init__(self, optimizer, steps_per_update=1, **kwargs):\n",
    "        super(AccumOptimizer,self).__init__(name = 'optimizer',**kwargs)\n",
    "        self.optimizer = optimizer\n",
    "        with K.name_scope(self.__class__.__name__):\n",
    "            self.steps_per_update = steps_per_update\n",
    "            self.iterations = K.variable(0, dtype='int64', name='iterations')\n",
    "            self.cond = K.equal(self.iterations % self.steps_per_update, 0)\n",
    "            self.learning_rate = self.optimizer.lr\n",
    "            self.optimizer.learning_rate = K.switch(self.cond, self.optimizer.lr, 0.)\n",
    "            for attr in ['momentum', 'rho', 'beta_1', 'beta_2']:\n",
    "                if hasattr(self.optimizer, attr):\n",
    "                    value = getattr(self.optimizer, attr)\n",
    "                    setattr(self, attr, value)\n",
    "                    setattr(self.optimizer, attr, K.switch(self.cond, value, 1 - 1e-7))\n",
    "            for attr in self.optimizer.get_config():\n",
    "                if not hasattr(self, attr):\n",
    "                    value = getattr(self.optimizer, attr)\n",
    "                    setattr(self, attr, value)\n",
    "            # Cover the original get_gradients method with accumulative gradients.\n",
    "            def get_gradients(loss, params):\n",
    "                return [ag / self.steps_per_update for ag in self.accum_grads]\n",
    "            self.optimizer.get_gradients = get_gradients\n",
    "    def get_updates(self, loss, params):\n",
    "        self.updates = [\n",
    "            K.update_add(self.iterations, 1),\n",
    "            K.update_add(self.optimizer.iterations, K.cast(self.cond, 'int64')),\n",
    "        ]\n",
    "        # gradient accumulation\n",
    "        self.accum_grads = [K.zeros(K.int_shape(p), dtype=K.dtype(p)) for p in params]\n",
    "        grads = self.get_gradients(loss, params)\n",
    "        for g, ag in zip(grads, self.accum_grads):\n",
    "            self.updates.append(K.update(ag, K.switch(self.cond, ag * 0, ag + g)))\n",
    "        # inheriting updates of original optimizer\n",
    "        self.updates.extend(self.optimizer.get_updates(loss, params)[1:])\n",
    "        self.weights.extend(self.optimizer.weights)\n",
    "        return self.updates\n",
    "    def get_config(self):\n",
    "        iterations = K.eval(self.iterations)\n",
    "        K.set_value(self.iterations, 0)\n",
    "        config = self.optimizer.get_config()\n",
    "        K.set_value(self.iterations, iterations)\n",
    "        return config"
   ]
  },
  {
   "cell_type": "code",
   "execution_count": null,
   "metadata": {
    "hidden": true
   },
   "outputs": [],
   "source": [
    "optimizer.iterations.numpy()"
   ]
  },
  {
   "cell_type": "markdown",
   "metadata": {},
   "source": [
    "## Data generators"
   ]
  },
  {
   "cell_type": "code",
   "execution_count": 49,
   "metadata": {
    "ExecuteTime": {
     "end_time": "2020-08-31T21:25:10.371436Z",
     "start_time": "2020-08-31T21:25:10.361436Z"
    }
   },
   "outputs": [],
   "source": [
    "tdg = PPPDataGen('train','sagittal',mrnet_path,tr_filenames_df,preprocess_input = ppi_irv2,ppp_labels_dict = PPP_LABELS,gtp_labels_dict = GTP_LABELS,batch_size=1,num_frames = 1,num_classes=NUM_CLASSES,hor_flip = False,data_aug = True)\n",
    "vdg = PPPDataGen('valid','sagittal',mrnet_path,val_filenames_df,preprocess_input = ppi_irv2,ppp_labels_dict = PPP_LABELS,gtp_labels_dict = GTP_LABELS,batch_size=1,num_frames = 1,num_classes=NUM_CLASSES,hor_flip = False,data_aug = False)\n",
    "tdl = DataLoader(tdg,batch_size=1)\n",
    "vdl = DataLoader(vdg,batch_size=1)"
   ]
  },
  {
   "cell_type": "markdown",
   "metadata": {
    "heading_collapsed": true
   },
   "source": [
    "### Over sampling"
   ]
  },
  {
   "cell_type": "code",
   "execution_count": null,
   "metadata": {
    "hidden": true
   },
   "outputs": [],
   "source": [
    "NUM_1 = np.count_nonzero(tr_multilabel['acl']==1)\n",
    "NUM_0 = np.count_nonzero(tr_multilabel['acl']==0)\n",
    "min_class = np.argmin(np.array([NUM_0,NUM_1]))\n",
    "if int(min_class) == 0:\n",
    "    gapnum = (1130-NUM_0)-NUM_0\n",
    "    INDICES = tr_multilabel[tr_multilabel['acl']==0].index.values\n",
    "    INDICES = np.random.choice(list(INDICES),gapnum)\n",
    "else:\n",
    "    gapnum = (1130-NUM_1)-NUM_1\n",
    "    INDICES = tr_multilabel[tr_multilabel['acl']==1].index.values\n",
    "    INDICES = np.random.choice(list(INDICES),gapnum)\n",
    "    \n",
    "tr_acl_multilabel = tr_multilabel.append(tr_multilabel.iloc[INDICES,:],ignore_index=True)\n",
    "tr_acl_filenames_df = tr_filenames_df.append(tr_filenames_df.iloc[INDICES,:],ignore_index=True)\n",
    "\n",
    "idx = np.random.permutation(tr_acl_filenames_df.index.values)\n",
    "tr_acl_multilabel = tr_acl_multilabel.reindex(idx)\n",
    "tr_acl_filenames_df = tr_acl_filenames_df.reindex(idx)\n",
    "tr_acl_multilabel = tr_acl_multilabel.reset_index(drop=True)\n",
    "tr_acl_filenames_df = tr_acl_filenames_df.reset_index(drop=True)\n",
    "\n",
    "print(tr_acl_multilabel)\n",
    "print(tr_acl_filenames_df)"
   ]
  },
  {
   "cell_type": "code",
   "execution_count": null,
   "metadata": {
    "colab": {},
    "colab_type": "code",
    "hidden": true,
    "id": "Fh4bR8PlkUJK"
   },
   "outputs": [],
   "source": [
    "tdg = PPPDataGen('train','sagittal',mrnet_path,tr_acl_filenames_df,preprocess_input = ppi_irv2,ppp_labels_dict = PPP_LABELS,gtp_labels_dict = GTP_LABELS,batch_size=32,num_frames=1,num_classes=NUM_CLASSES,hor_flip=False,data_aug=True)"
   ]
  },
  {
   "cell_type": "code",
   "execution_count": null,
   "metadata": {
    "colab": {},
    "colab_type": "code",
    "hidden": true,
    "id": "CFwcd7qSkUJV"
   },
   "outputs": [],
   "source": [
    "vdg = PPPDataGen('valid','sagittal',mrnet_path,val_filenames_df,preprocess_input = ppi_irv2,ppp_labels_dict = PPP_LABELS,gtp_labels_dict = GTP_LABELS,batch_size=32,num_frames=1,num_classes=NUM_CLASSES,hor_flip=False,data_aug=True)"
   ]
  },
  {
   "cell_type": "markdown",
   "metadata": {
    "colab_type": "text",
    "id": "Z_8_BljLUJbd"
   },
   "source": [
    "### Manual Training Loop"
   ]
  },
  {
   "cell_type": "code",
   "execution_count": 35,
   "metadata": {
    "ExecuteTime": {
     "end_time": "2020-08-31T21:15:04.447122Z",
     "start_time": "2020-08-31T21:15:04.443133Z"
    }
   },
   "outputs": [],
   "source": [
    "SEED = 16"
   ]
  },
  {
   "cell_type": "code",
   "execution_count": null,
   "metadata": {},
   "outputs": [],
   "source": [
    "!nvidia-smi"
   ]
  },
  {
   "cell_type": "code",
   "execution_count": 40,
   "metadata": {
    "ExecuteTime": {
     "end_time": "2020-08-31T21:17:15.305740Z",
     "start_time": "2020-08-31T21:17:14.115778Z"
    }
   },
   "outputs": [
    {
     "data": {
      "text/plain": [
       "JPOP_net(\n",
       "  (conv_channel1): Sequential(\n",
       "    (0): Conv_block(\n",
       "      (conv1): Conv2d(3, 256, kernel_size=(3, 3), stride=(1, 1), padding=(1, 1))\n",
       "      (bn1): BatchNorm2d(256, eps=1e-05, momentum=0.1, affine=True, track_running_stats=True)\n",
       "      (conv2): Conv2d(256, 256, kernel_size=(3, 3), stride=(1, 1), padding=(1, 1))\n",
       "      (bn2): BatchNorm2d(256, eps=1e-05, momentum=0.1, affine=True, track_running_stats=True)\n",
       "      (conv3): Conv2d(256, 512, kernel_size=(3, 3), stride=(1, 1), padding=(1, 1))\n",
       "      (bn3): BatchNorm2d(512, eps=1e-05, momentum=0.1, affine=True, track_running_stats=True)\n",
       "      (conv4): Conv2d(512, 512, kernel_size=(3, 3), stride=(1, 1), padding=(1, 1))\n",
       "      (bn4): BatchNorm2d(512, eps=1e-05, momentum=0.1, affine=True, track_running_stats=True)\n",
       "      (relu): ReLU(inplace=True)\n",
       "      (downsample): MaxPool2d(kernel_size=2, stride=2, padding=0, dilation=1, ceil_mode=False)\n",
       "    )\n",
       "  )\n",
       "  (conv_channel2): Sequential(\n",
       "    (0): Conv_block(\n",
       "      (conv1): Conv2d(3, 256, kernel_size=(3, 3), stride=(1, 1), padding=(1, 1))\n",
       "      (bn1): BatchNorm2d(256, eps=1e-05, momentum=0.1, affine=True, track_running_stats=True)\n",
       "      (conv2): Conv2d(256, 256, kernel_size=(3, 3), stride=(1, 1), padding=(1, 1))\n",
       "      (bn2): BatchNorm2d(256, eps=1e-05, momentum=0.1, affine=True, track_running_stats=True)\n",
       "      (conv3): Conv2d(256, 512, kernel_size=(3, 3), stride=(1, 1), padding=(1, 1))\n",
       "      (bn3): BatchNorm2d(512, eps=1e-05, momentum=0.1, affine=True, track_running_stats=True)\n",
       "      (conv4): Conv2d(512, 512, kernel_size=(3, 3), stride=(1, 1), padding=(1, 1))\n",
       "      (bn4): BatchNorm2d(512, eps=1e-05, momentum=0.1, affine=True, track_running_stats=True)\n",
       "      (relu): ReLU(inplace=True)\n",
       "      (downsample): MaxPool2d(kernel_size=2, stride=2, padding=0, dilation=1, ceil_mode=False)\n",
       "    )\n",
       "  )\n",
       "  (conv_channel3): Sequential(\n",
       "    (0): Conv_block(\n",
       "      (conv1): Conv2d(3, 256, kernel_size=(3, 3), stride=(1, 1), padding=(1, 1))\n",
       "      (bn1): BatchNorm2d(256, eps=1e-05, momentum=0.1, affine=True, track_running_stats=True)\n",
       "      (conv2): Conv2d(256, 256, kernel_size=(3, 3), stride=(1, 1), padding=(1, 1))\n",
       "      (bn2): BatchNorm2d(256, eps=1e-05, momentum=0.1, affine=True, track_running_stats=True)\n",
       "      (conv3): Conv2d(256, 512, kernel_size=(3, 3), stride=(1, 1), padding=(1, 1))\n",
       "      (bn3): BatchNorm2d(512, eps=1e-05, momentum=0.1, affine=True, track_running_stats=True)\n",
       "      (conv4): Conv2d(512, 512, kernel_size=(3, 3), stride=(1, 1), padding=(1, 1))\n",
       "      (bn4): BatchNorm2d(512, eps=1e-05, momentum=0.1, affine=True, track_running_stats=True)\n",
       "      (relu): ReLU(inplace=True)\n",
       "      (downsample): MaxPool2d(kernel_size=2, stride=2, padding=0, dilation=1, ceil_mode=False)\n",
       "    )\n",
       "  )\n",
       "  (conv_channel4): Sequential(\n",
       "    (0): Conv_block(\n",
       "      (conv1): Conv2d(3, 256, kernel_size=(3, 3), stride=(1, 1), padding=(1, 1))\n",
       "      (bn1): BatchNorm2d(256, eps=1e-05, momentum=0.1, affine=True, track_running_stats=True)\n",
       "      (conv2): Conv2d(256, 256, kernel_size=(3, 3), stride=(1, 1), padding=(1, 1))\n",
       "      (bn2): BatchNorm2d(256, eps=1e-05, momentum=0.1, affine=True, track_running_stats=True)\n",
       "      (conv3): Conv2d(256, 512, kernel_size=(3, 3), stride=(1, 1), padding=(1, 1))\n",
       "      (bn3): BatchNorm2d(512, eps=1e-05, momentum=0.1, affine=True, track_running_stats=True)\n",
       "      (conv4): Conv2d(512, 512, kernel_size=(3, 3), stride=(1, 1), padding=(1, 1))\n",
       "      (bn4): BatchNorm2d(512, eps=1e-05, momentum=0.1, affine=True, track_running_stats=True)\n",
       "      (relu): ReLU(inplace=True)\n",
       "      (downsample): MaxPool2d(kernel_size=2, stride=2, padding=0, dilation=1, ceil_mode=False)\n",
       "    )\n",
       "  )\n",
       "  (conv_channel5): Sequential(\n",
       "    (0): Conv_block(\n",
       "      (conv1): Conv2d(3, 256, kernel_size=(3, 3), stride=(1, 1), padding=(1, 1))\n",
       "      (bn1): BatchNorm2d(256, eps=1e-05, momentum=0.1, affine=True, track_running_stats=True)\n",
       "      (conv2): Conv2d(256, 256, kernel_size=(3, 3), stride=(1, 1), padding=(1, 1))\n",
       "      (bn2): BatchNorm2d(256, eps=1e-05, momentum=0.1, affine=True, track_running_stats=True)\n",
       "      (conv3): Conv2d(256, 512, kernel_size=(3, 3), stride=(1, 1), padding=(1, 1))\n",
       "      (bn3): BatchNorm2d(512, eps=1e-05, momentum=0.1, affine=True, track_running_stats=True)\n",
       "      (conv4): Conv2d(512, 512, kernel_size=(3, 3), stride=(1, 1), padding=(1, 1))\n",
       "      (bn4): BatchNorm2d(512, eps=1e-05, momentum=0.1, affine=True, track_running_stats=True)\n",
       "      (relu): ReLU(inplace=True)\n",
       "      (downsample): MaxPool2d(kernel_size=2, stride=2, padding=0, dilation=1, ceil_mode=False)\n",
       "    )\n",
       "  )\n",
       "  (conv_channel6): Sequential(\n",
       "    (0): Conv_block(\n",
       "      (conv1): Conv2d(3, 256, kernel_size=(3, 3), stride=(1, 1), padding=(1, 1))\n",
       "      (bn1): BatchNorm2d(256, eps=1e-05, momentum=0.1, affine=True, track_running_stats=True)\n",
       "      (conv2): Conv2d(256, 256, kernel_size=(3, 3), stride=(1, 1), padding=(1, 1))\n",
       "      (bn2): BatchNorm2d(256, eps=1e-05, momentum=0.1, affine=True, track_running_stats=True)\n",
       "      (conv3): Conv2d(256, 512, kernel_size=(3, 3), stride=(1, 1), padding=(1, 1))\n",
       "      (bn3): BatchNorm2d(512, eps=1e-05, momentum=0.1, affine=True, track_running_stats=True)\n",
       "      (conv4): Conv2d(512, 512, kernel_size=(3, 3), stride=(1, 1), padding=(1, 1))\n",
       "      (bn4): BatchNorm2d(512, eps=1e-05, momentum=0.1, affine=True, track_running_stats=True)\n",
       "      (relu): ReLU(inplace=True)\n",
       "      (downsample): MaxPool2d(kernel_size=2, stride=2, padding=0, dilation=1, ceil_mode=False)\n",
       "    )\n",
       "  )\n",
       "  (conv_channel7): Sequential(\n",
       "    (0): Conv_block(\n",
       "      (conv1): Conv2d(3, 256, kernel_size=(3, 3), stride=(1, 1), padding=(1, 1))\n",
       "      (bn1): BatchNorm2d(256, eps=1e-05, momentum=0.1, affine=True, track_running_stats=True)\n",
       "      (conv2): Conv2d(256, 256, kernel_size=(3, 3), stride=(1, 1), padding=(1, 1))\n",
       "      (bn2): BatchNorm2d(256, eps=1e-05, momentum=0.1, affine=True, track_running_stats=True)\n",
       "      (conv3): Conv2d(256, 512, kernel_size=(3, 3), stride=(1, 1), padding=(1, 1))\n",
       "      (bn3): BatchNorm2d(512, eps=1e-05, momentum=0.1, affine=True, track_running_stats=True)\n",
       "      (conv4): Conv2d(512, 512, kernel_size=(3, 3), stride=(1, 1), padding=(1, 1))\n",
       "      (bn4): BatchNorm2d(512, eps=1e-05, momentum=0.1, affine=True, track_running_stats=True)\n",
       "      (relu): ReLU(inplace=True)\n",
       "      (downsample): MaxPool2d(kernel_size=2, stride=2, padding=0, dilation=1, ceil_mode=False)\n",
       "    )\n",
       "  )\n",
       "  (conv_channel8): Sequential(\n",
       "    (0): Conv_block(\n",
       "      (conv1): Conv2d(3, 256, kernel_size=(3, 3), stride=(1, 1), padding=(1, 1))\n",
       "      (bn1): BatchNorm2d(256, eps=1e-05, momentum=0.1, affine=True, track_running_stats=True)\n",
       "      (conv2): Conv2d(256, 256, kernel_size=(3, 3), stride=(1, 1), padding=(1, 1))\n",
       "      (bn2): BatchNorm2d(256, eps=1e-05, momentum=0.1, affine=True, track_running_stats=True)\n",
       "      (conv3): Conv2d(256, 512, kernel_size=(3, 3), stride=(1, 1), padding=(1, 1))\n",
       "      (bn3): BatchNorm2d(512, eps=1e-05, momentum=0.1, affine=True, track_running_stats=True)\n",
       "      (conv4): Conv2d(512, 512, kernel_size=(3, 3), stride=(1, 1), padding=(1, 1))\n",
       "      (bn4): BatchNorm2d(512, eps=1e-05, momentum=0.1, affine=True, track_running_stats=True)\n",
       "      (relu): ReLU(inplace=True)\n",
       "      (downsample): MaxPool2d(kernel_size=2, stride=2, padding=0, dilation=1, ceil_mode=False)\n",
       "    )\n",
       "  )\n",
       "  (conv_channel9): Sequential(\n",
       "    (0): Conv_block(\n",
       "      (conv1): Conv2d(3, 256, kernel_size=(3, 3), stride=(1, 1), padding=(1, 1))\n",
       "      (bn1): BatchNorm2d(256, eps=1e-05, momentum=0.1, affine=True, track_running_stats=True)\n",
       "      (conv2): Conv2d(256, 256, kernel_size=(3, 3), stride=(1, 1), padding=(1, 1))\n",
       "      (bn2): BatchNorm2d(256, eps=1e-05, momentum=0.1, affine=True, track_running_stats=True)\n",
       "      (conv3): Conv2d(256, 512, kernel_size=(3, 3), stride=(1, 1), padding=(1, 1))\n",
       "      (bn3): BatchNorm2d(512, eps=1e-05, momentum=0.1, affine=True, track_running_stats=True)\n",
       "      (conv4): Conv2d(512, 512, kernel_size=(3, 3), stride=(1, 1), padding=(1, 1))\n",
       "      (bn4): BatchNorm2d(512, eps=1e-05, momentum=0.1, affine=True, track_running_stats=True)\n",
       "      (relu): ReLU(inplace=True)\n",
       "      (downsample): MaxPool2d(kernel_size=2, stride=2, padding=0, dilation=1, ceil_mode=False)\n",
       "    )\n",
       "  )\n",
       "  (conv1x1layer): Conv2d(4608, 2048, kernel_size=(1, 1), stride=(1, 1))\n",
       "  (skip_block1): Sequential(\n",
       "    (0): Skip_block(\n",
       "      (conv1): Conv2d(2048, 1024, kernel_size=(3, 3), stride=(1, 1), padding=(1, 1))\n",
       "      (bn1): BatchNorm2d(1024, eps=1e-05, momentum=0.1, affine=True, track_running_stats=True)\n",
       "      (conv2): Conv2d(1024, 2048, kernel_size=(3, 3), stride=(1, 1), padding=(1, 1))\n",
       "      (bn2): BatchNorm2d(2048, eps=1e-05, momentum=0.1, affine=True, track_running_stats=True)\n",
       "      (relu): ReLU(inplace=True)\n",
       "    )\n",
       "  )\n",
       "  (dim_red_block1): Sequential(\n",
       "    (0): Dim_Red_block(\n",
       "      (conv11): Conv2d(2048, 1024, kernel_size=(3, 3), stride=(1, 1), padding=(1, 1))\n",
       "      (bn11): BatchNorm2d(1024, eps=1e-05, momentum=0.1, affine=True, track_running_stats=True)\n",
       "      (conv12): Conv2d(1024, 1024, kernel_size=(3, 3), stride=(2, 2), padding=(1, 1))\n",
       "      (bn12): BatchNorm2d(1024, eps=1e-05, momentum=0.1, affine=True, track_running_stats=True)\n",
       "      (downsample21): AvgPool2d(kernel_size=2, stride=2, padding=0)\n",
       "      (conv22): Conv2d(2048, 1024, kernel_size=(1, 1), stride=(1, 1))\n",
       "      (bn22): BatchNorm2d(1024, eps=1e-05, momentum=0.1, affine=True, track_running_stats=True)\n",
       "      (relu): ReLU(inplace=True)\n",
       "    )\n",
       "  )\n",
       "  (skip_block2): Sequential(\n",
       "    (0): Skip_block(\n",
       "      (conv1): Conv2d(2048, 1024, kernel_size=(3, 3), stride=(1, 1), padding=(1, 1))\n",
       "      (bn1): BatchNorm2d(1024, eps=1e-05, momentum=0.1, affine=True, track_running_stats=True)\n",
       "      (conv2): Conv2d(1024, 2048, kernel_size=(3, 3), stride=(1, 1), padding=(1, 1))\n",
       "      (bn2): BatchNorm2d(2048, eps=1e-05, momentum=0.1, affine=True, track_running_stats=True)\n",
       "      (relu): ReLU(inplace=True)\n",
       "    )\n",
       "  )\n",
       "  (dim_red_block2): Sequential(\n",
       "    (0): Dim_Red_block(\n",
       "      (conv11): Conv2d(2048, 1024, kernel_size=(3, 3), stride=(1, 1), padding=(1, 1))\n",
       "      (bn11): BatchNorm2d(1024, eps=1e-05, momentum=0.1, affine=True, track_running_stats=True)\n",
       "      (conv12): Conv2d(1024, 1024, kernel_size=(3, 3), stride=(2, 2), padding=(1, 1))\n",
       "      (bn12): BatchNorm2d(1024, eps=1e-05, momentum=0.1, affine=True, track_running_stats=True)\n",
       "      (downsample21): AvgPool2d(kernel_size=2, stride=2, padding=0)\n",
       "      (conv22): Conv2d(2048, 1024, kernel_size=(1, 1), stride=(1, 1))\n",
       "      (bn22): BatchNorm2d(1024, eps=1e-05, momentum=0.1, affine=True, track_running_stats=True)\n",
       "      (relu): ReLU(inplace=True)\n",
       "    )\n",
       "  )\n",
       "  (globalavgpool): AvgPool2d(kernel_size=4, stride=4, padding=0)\n",
       "  (fc1): Linear(in_features=2048, out_features=1024, bias=True)\n",
       "  (fc2): Linear(in_features=1024, out_features=1024, bias=True)\n",
       "  (output): Linear(in_features=1024, out_features=500, bias=True)\n",
       ")"
      ]
     },
     "execution_count": 40,
     "metadata": {},
     "output_type": "execute_result"
    }
   ],
   "source": [
    "sag_rocket_model = model(Conv_block,Skip_block,Dim_Red_block,[512,2048,2048,2048,2048,2048])\n",
    "device = torch.device(\"cuda\")\n",
    "sag_rocket_model.to(device)"
   ]
  },
  {
   "cell_type": "code",
   "execution_count": null,
   "metadata": {},
   "outputs": [],
   "source": [
    "summary(sag_rocket_model,(9,3,64,64))"
   ]
  },
  {
   "cell_type": "code",
   "execution_count": 41,
   "metadata": {
    "ExecuteTime": {
     "end_time": "2020-08-31T21:17:20.489418Z",
     "start_time": "2020-08-31T21:17:20.477455Z"
    }
   },
   "outputs": [],
   "source": [
    "sag_rocket_model = sag_rocket_model.to(memory_format=torch.channels_last) # Replace with your model"
   ]
  },
  {
   "cell_type": "code",
   "execution_count": 42,
   "metadata": {
    "ExecuteTime": {
     "end_time": "2020-08-31T21:17:28.263982Z",
     "start_time": "2020-08-31T21:17:26.979022Z"
    }
   },
   "outputs": [],
   "source": [
    "x = torch.zeros((1,9,3,64,64),dtype=torch.float,requires_grad=False)\n",
    "x = x.to(torch.device('cuda:0'))\n",
    "#x = x.to(memory_format = torch.channels_last)\n",
    "out = sag_rocket_model(x)"
   ]
  },
  {
   "cell_type": "code",
   "execution_count": null,
   "metadata": {},
   "outputs": [],
   "source": [
    "dotobj = make_dot(out)\n",
    "print(dotobj)"
   ]
  },
  {
   "cell_type": "markdown",
   "metadata": {},
   "source": [
    "## Manual Training"
   ]
  },
  {
   "cell_type": "code",
   "execution_count": 46,
   "metadata": {},
   "outputs": [],
   "source": [
    "MAXLR = 0.0001\n",
    "def LRscheduler(epoch,lr):\n",
    "    global MAXLR\n",
    "    \n",
    "    lr = 0.95*lr\n",
    "    \n",
    "    epochrem = epoch%50\n",
    "    if epochrem==0 and epoch > 1:\n",
    "        MAXLR *= 0.25\n",
    "        lr = MAXLR\n",
    "        \n",
    "    if lr < 5*10**(-6):\n",
    "        lr = 0.000005\n",
    "\n",
    "    return lr"
   ]
  },
  {
   "cell_type": "code",
   "execution_count": 47,
   "metadata": {},
   "outputs": [],
   "source": [
    "train_loss = []\n",
    "train_acc = []\n",
    "val_loss = []\n",
    "val_acc = []"
   ]
  },
  {
   "cell_type": "code",
   "execution_count": 46,
   "metadata": {
    "ExecuteTime": {
     "end_time": "2020-08-31T21:21:42.597571Z",
     "start_time": "2020-08-31T21:21:42.593582Z"
    }
   },
   "outputs": [],
   "source": [
    "loss_fn = nn.CrossEntropyLoss()\n",
    "\n",
    "optimizer = torch.optim.RMSprop([params for params in sag_rocket_model.parameters() if params.requires_grad],lr=0.0001)"
   ]
  },
  {
   "cell_type": "code",
   "execution_count": 52,
   "metadata": {
    "ExecuteTime": {
     "end_time": "2020-08-31T21:26:06.818212Z",
     "start_time": "2020-08-31T21:26:06.773333Z"
    }
   },
   "outputs": [
    {
     "name": "stdout",
     "output_type": "stream",
     "text": [
      "torch.Size([1, 9, 1, 64, 64, 3])\n"
     ]
    },
    {
     "ename": "RuntimeError",
     "evalue": "required rank 4 tensor to use channels_last format",
     "output_type": "error",
     "traceback": [
      "\u001b[1;31m---------------------------------------------------------------------------\u001b[0m",
      "\u001b[1;31mRuntimeError\u001b[0m                              Traceback (most recent call last)",
      "\u001b[1;32m<ipython-input-52-50831e158a7d>\u001b[0m in \u001b[0;36m<module>\u001b[1;34m\u001b[0m\n\u001b[0;32m      5\u001b[0m         \u001b[0msag_rocket_model\u001b[0m\u001b[1;33m.\u001b[0m\u001b[0mtrain\u001b[0m\u001b[1;33m(\u001b[0m\u001b[1;33m)\u001b[0m\u001b[1;33m\u001b[0m\u001b[1;33m\u001b[0m\u001b[0m\n\u001b[0;32m      6\u001b[0m         \u001b[0moptimizer\u001b[0m\u001b[1;33m.\u001b[0m\u001b[0mzero_grad\u001b[0m\u001b[1;33m(\u001b[0m\u001b[1;33m)\u001b[0m\u001b[1;33m\u001b[0m\u001b[1;33m\u001b[0m\u001b[0m\n\u001b[1;32m----> 7\u001b[1;33m         \u001b[0mz\u001b[0m \u001b[1;33m=\u001b[0m \u001b[0msag_rocket_model\u001b[0m\u001b[1;33m(\u001b[0m\u001b[0mx\u001b[0m\u001b[1;33m)\u001b[0m\u001b[1;33m\u001b[0m\u001b[1;33m\u001b[0m\u001b[0m\n\u001b[0m\u001b[0;32m      8\u001b[0m         \u001b[0mtrain_loss\u001b[0m \u001b[1;33m=\u001b[0m \u001b[0mloss_fn\u001b[0m\u001b[1;33m(\u001b[0m\u001b[0mz\u001b[0m\u001b[1;33m,\u001b[0m\u001b[0my\u001b[0m\u001b[1;33m)\u001b[0m\u001b[1;33m\u001b[0m\u001b[1;33m\u001b[0m\u001b[0m\n\u001b[0;32m      9\u001b[0m         \u001b[0mtrain_loss\u001b[0m\u001b[1;33m.\u001b[0m\u001b[0mbackward\u001b[0m\u001b[1;33m(\u001b[0m\u001b[1;33m)\u001b[0m\u001b[1;33m\u001b[0m\u001b[1;33m\u001b[0m\u001b[0m\n",
      "\u001b[1;32mc:\\users\\cvpr\\appdata\\local\\programs\\python\\python38\\lib\\site-packages\\torch\\nn\\modules\\module.py\u001b[0m in \u001b[0;36m_call_impl\u001b[1;34m(self, *input, **kwargs)\u001b[0m\n\u001b[0;32m    720\u001b[0m             \u001b[0mresult\u001b[0m \u001b[1;33m=\u001b[0m \u001b[0mself\u001b[0m\u001b[1;33m.\u001b[0m\u001b[0m_slow_forward\u001b[0m\u001b[1;33m(\u001b[0m\u001b[1;33m*\u001b[0m\u001b[0minput\u001b[0m\u001b[1;33m,\u001b[0m \u001b[1;33m**\u001b[0m\u001b[0mkwargs\u001b[0m\u001b[1;33m)\u001b[0m\u001b[1;33m\u001b[0m\u001b[1;33m\u001b[0m\u001b[0m\n\u001b[0;32m    721\u001b[0m         \u001b[1;32melse\u001b[0m\u001b[1;33m:\u001b[0m\u001b[1;33m\u001b[0m\u001b[1;33m\u001b[0m\u001b[0m\n\u001b[1;32m--> 722\u001b[1;33m             \u001b[0mresult\u001b[0m \u001b[1;33m=\u001b[0m \u001b[0mself\u001b[0m\u001b[1;33m.\u001b[0m\u001b[0mforward\u001b[0m\u001b[1;33m(\u001b[0m\u001b[1;33m*\u001b[0m\u001b[0minput\u001b[0m\u001b[1;33m,\u001b[0m \u001b[1;33m**\u001b[0m\u001b[0mkwargs\u001b[0m\u001b[1;33m)\u001b[0m\u001b[1;33m\u001b[0m\u001b[1;33m\u001b[0m\u001b[0m\n\u001b[0m\u001b[0;32m    723\u001b[0m         for hook in itertools.chain(\n\u001b[0;32m    724\u001b[0m                 \u001b[0m_global_forward_hooks\u001b[0m\u001b[1;33m.\u001b[0m\u001b[0mvalues\u001b[0m\u001b[1;33m(\u001b[0m\u001b[1;33m)\u001b[0m\u001b[1;33m,\u001b[0m\u001b[1;33m\u001b[0m\u001b[1;33m\u001b[0m\u001b[0m\n",
      "\u001b[1;32m<ipython-input-39-943ab20f5f63>\u001b[0m in \u001b[0;36mforward\u001b[1;34m(self, x)\u001b[0m\n\u001b[0;32m    223\u001b[0m \u001b[1;33m\u001b[0m\u001b[0m\n\u001b[0;32m    224\u001b[0m     \u001b[1;32mdef\u001b[0m \u001b[0mforward\u001b[0m\u001b[1;33m(\u001b[0m\u001b[0mself\u001b[0m\u001b[1;33m,\u001b[0m\u001b[0mx\u001b[0m\u001b[1;33m)\u001b[0m\u001b[1;33m:\u001b[0m\u001b[1;33m\u001b[0m\u001b[1;33m\u001b[0m\u001b[0m\n\u001b[1;32m--> 225\u001b[1;33m         \u001b[1;32mreturn\u001b[0m \u001b[0mself\u001b[0m\u001b[1;33m.\u001b[0m\u001b[0m_forward_impl\u001b[0m\u001b[1;33m(\u001b[0m\u001b[0mx\u001b[0m\u001b[1;33m)\u001b[0m\u001b[1;33m\u001b[0m\u001b[1;33m\u001b[0m\u001b[0m\n\u001b[0m\u001b[0;32m    226\u001b[0m \u001b[1;33m\u001b[0m\u001b[0m\n\u001b[0;32m    227\u001b[0m \u001b[1;32mdef\u001b[0m \u001b[0mmodel\u001b[0m\u001b[1;33m(\u001b[0m\u001b[0mconv_block\u001b[0m\u001b[1;33m,\u001b[0m\u001b[0mskip_block\u001b[0m\u001b[1;33m,\u001b[0m\u001b[0mdim_red_block\u001b[0m\u001b[1;33m,\u001b[0m\u001b[0mlayer_outs\u001b[0m\u001b[1;33m,\u001b[0m\u001b[0minput_shape\u001b[0m \u001b[1;33m=\u001b[0m \u001b[1;33m(\u001b[0m\u001b[1;36m3\u001b[0m\u001b[1;33m,\u001b[0m\u001b[1;36m64\u001b[0m\u001b[1;33m,\u001b[0m\u001b[1;36m64\u001b[0m\u001b[1;33m)\u001b[0m\u001b[1;33m,\u001b[0m\u001b[0mnum_classes\u001b[0m \u001b[1;33m=\u001b[0m \u001b[1;36m500\u001b[0m\u001b[1;33m)\u001b[0m\u001b[1;33m:\u001b[0m\u001b[1;33m\u001b[0m\u001b[1;33m\u001b[0m\u001b[0m\n",
      "\u001b[1;32m<ipython-input-39-943ab20f5f63>\u001b[0m in \u001b[0;36m_forward_impl\u001b[1;34m(self, x)\u001b[0m\n\u001b[0;32m    190\u001b[0m     \u001b[1;32mdef\u001b[0m \u001b[0m_forward_impl\u001b[0m\u001b[1;33m(\u001b[0m\u001b[0mself\u001b[0m\u001b[1;33m,\u001b[0m\u001b[0mx\u001b[0m\u001b[1;33m)\u001b[0m\u001b[1;33m:\u001b[0m\u001b[1;33m\u001b[0m\u001b[1;33m\u001b[0m\u001b[0m\n\u001b[0;32m    191\u001b[0m         \u001b[1;31m#print(x.shape,x.select(1,0).shape)\u001b[0m\u001b[1;33m\u001b[0m\u001b[1;33m\u001b[0m\u001b[1;33m\u001b[0m\u001b[0m\n\u001b[1;32m--> 192\u001b[1;33m         \u001b[0mout1\u001b[0m \u001b[1;33m=\u001b[0m \u001b[0mself\u001b[0m\u001b[1;33m.\u001b[0m\u001b[0mconv_channel1\u001b[0m\u001b[1;33m(\u001b[0m\u001b[0mx\u001b[0m\u001b[1;33m.\u001b[0m\u001b[0mselect\u001b[0m\u001b[1;33m(\u001b[0m\u001b[1;36m1\u001b[0m\u001b[1;33m,\u001b[0m\u001b[1;36m0\u001b[0m\u001b[1;33m)\u001b[0m\u001b[1;33m.\u001b[0m\u001b[0mto\u001b[0m\u001b[1;33m(\u001b[0m\u001b[0mmemory_format\u001b[0m\u001b[1;33m=\u001b[0m\u001b[0mtorch\u001b[0m\u001b[1;33m.\u001b[0m\u001b[0mchannels_last\u001b[0m\u001b[1;33m)\u001b[0m\u001b[1;33m)\u001b[0m\u001b[1;33m\u001b[0m\u001b[1;33m\u001b[0m\u001b[0m\n\u001b[0m\u001b[0;32m    193\u001b[0m         \u001b[0mout2\u001b[0m \u001b[1;33m=\u001b[0m \u001b[0mself\u001b[0m\u001b[1;33m.\u001b[0m\u001b[0mconv_channel2\u001b[0m\u001b[1;33m(\u001b[0m\u001b[0mx\u001b[0m\u001b[1;33m.\u001b[0m\u001b[0mselect\u001b[0m\u001b[1;33m(\u001b[0m\u001b[1;36m1\u001b[0m\u001b[1;33m,\u001b[0m\u001b[1;36m1\u001b[0m\u001b[1;33m)\u001b[0m\u001b[1;33m.\u001b[0m\u001b[0mto\u001b[0m\u001b[1;33m(\u001b[0m\u001b[0mmemory_format\u001b[0m\u001b[1;33m=\u001b[0m\u001b[0mtorch\u001b[0m\u001b[1;33m.\u001b[0m\u001b[0mchannels_last\u001b[0m\u001b[1;33m)\u001b[0m\u001b[1;33m)\u001b[0m\u001b[1;33m\u001b[0m\u001b[1;33m\u001b[0m\u001b[0m\n\u001b[0;32m    194\u001b[0m         \u001b[0mout3\u001b[0m \u001b[1;33m=\u001b[0m \u001b[0mself\u001b[0m\u001b[1;33m.\u001b[0m\u001b[0mconv_channel3\u001b[0m\u001b[1;33m(\u001b[0m\u001b[0mx\u001b[0m\u001b[1;33m.\u001b[0m\u001b[0mselect\u001b[0m\u001b[1;33m(\u001b[0m\u001b[1;36m1\u001b[0m\u001b[1;33m,\u001b[0m\u001b[1;36m2\u001b[0m\u001b[1;33m)\u001b[0m\u001b[1;33m.\u001b[0m\u001b[0mto\u001b[0m\u001b[1;33m(\u001b[0m\u001b[0mmemory_format\u001b[0m\u001b[1;33m=\u001b[0m\u001b[0mtorch\u001b[0m\u001b[1;33m.\u001b[0m\u001b[0mchannels_last\u001b[0m\u001b[1;33m)\u001b[0m\u001b[1;33m)\u001b[0m\u001b[1;33m\u001b[0m\u001b[1;33m\u001b[0m\u001b[0m\n",
      "\u001b[1;31mRuntimeError\u001b[0m: required rank 4 tensor to use channels_last format"
     ]
    }
   ],
   "source": [
    "for epoch in range(1):\n",
    "    for x,y in tdl:\n",
    "        x,y = x.cuda(),y.cuda()\n",
    "        print(x.shape)\n",
    "        sag_rocket_model.train()\n",
    "        optimizer.zero_grad()\n",
    "        z = sag_rocket_model(x)\n",
    "        train_loss = loss_fn(z,y)\n",
    "        train_loss.backward()\n",
    "        optimizer.step()"
   ]
  },
  {
   "cell_type": "markdown",
   "metadata": {
    "heading_collapsed": true
   },
   "source": [
    "## Perf Metrics"
   ]
  },
  {
   "cell_type": "code",
   "execution_count": null,
   "metadata": {
    "colab": {},
    "colab_type": "code",
    "hidden": true,
    "id": "oBxjo03wNY_t"
   },
   "outputs": [],
   "source": [
    "y = np.array([]).reshape((0,500))\n",
    "y_true = np.array([])\n",
    "pred = np.array([]).reshape((0,500))\n",
    "for i in range(10000):\n",
    "    jpp_inputs,jpp_out_true = vdg.__getitem__(i)\n",
    "    y_true = np.append(y_true,jpp_out_true)\n",
    "    y = np.append(y,to_categorical(jpp_out_true.astype('int'),num_classes=500),axis=0)\n",
    "    jpp_pred = sag_rocket_model(jpp_inputs)\n",
    "    pred = np.append(pred,jpp_pred,axis=0)\n",
    "\n",
    "class_labels = ['abnormality','acl tear','meniscus tear']\n",
    "class_labels = list(range(500))\n",
    "\n",
    "\n",
    "\n"
   ]
  },
  {
   "cell_type": "code",
   "execution_count": null,
   "metadata": {
    "hidden": true
   },
   "outputs": [],
   "source": [
    "cr = classification_report(y,(pred>=0.5).astype('int'))\n",
    "rows = cr.split('\\n')\n",
    "cols = rows[0].split(' ')\n",
    "cols = [c for c in cols if c!='']\n",
    "cols = ['class']+cols\n",
    "print(cols)\n",
    "crdf = pd.DataFrame(columns=cols)\n",
    "for i in range(2,502):\n",
    "    crdf = crdf.append(dict(zip(cols,[float(r) for r in rows[i].split(' ') if r !=''])),ignore_index=True)\n",
    "crdf['class'] = crdf['class'].astype('int')\n",
    "crdf['support'] = crdf['support'].astype('int')\n",
    "crdf.head()"
   ]
  },
  {
   "cell_type": "code",
   "execution_count": null,
   "metadata": {
    "hidden": true,
    "scrolled": true
   },
   "outputs": [],
   "source": [
    "perf_metrics_df = get_performance_metrics(y, pred, class_labels, tp=TP,tn=TN, \n",
    "                                          fp=FP, fn=FN, acc=get_accuracy, \n",
    "                                          prevalence=get_prevalence, \n",
    "                                          spec=specificity,sens=sensitivity, \n",
    "                                          ppv=get_ppv, npv=get_npv, \n",
    "                                          auc=roc_auc_score, f1=f1_score,\n",
    "                                          thresholds=[])"
   ]
  },
  {
   "cell_type": "code",
   "execution_count": null,
   "metadata": {
    "colab": {
     "base_uri": "https://localhost:8080/"
    },
    "colab_type": "code",
    "hidden": true,
    "id": "Cuc7Z8t4NZAE",
    "outputId": "2b72b4e1-6f87-4271-ec9f-9b980f475ba1"
   },
   "outputs": [],
   "source": [
    "perf_metrics_df"
   ]
  },
  {
   "cell_type": "code",
   "execution_count": null,
   "metadata": {
    "hidden": true
   },
   "outputs": [],
   "source": [
    "np.mean(perf_metrics_df['Sensitivity'].values)"
   ]
  },
  {
   "cell_type": "code",
   "execution_count": null,
   "metadata": {
    "colab": {},
    "colab_type": "code",
    "hidden": true,
    "id": "pEzoOPl1NZAA"
   },
   "outputs": [],
   "source": [
    "conf_int_df = get_confidence_intervals(y,pred,class_labels)"
   ]
  },
  {
   "cell_type": "code",
   "execution_count": null,
   "metadata": {
    "colab": {
     "base_uri": "https://localhost:8080/"
    },
    "colab_type": "code",
    "hidden": true,
    "id": "uh5zQ9TCNZAI",
    "outputId": "1fa8c446-963b-44b6-9569-003ab1c8d333"
   },
   "outputs": [],
   "source": [
    "conf_int_df"
   ]
  },
  {
   "cell_type": "code",
   "execution_count": null,
   "metadata": {
    "colab": {},
    "colab_type": "code",
    "hidden": true,
    "id": "-ZE0bcKTYXOT"
   },
   "outputs": [],
   "source": [
    "perf_metrics_df.to_csv('Model 3b Sagittal Metrics per class.csv',index=True)"
   ]
  },
  {
   "cell_type": "code",
   "execution_count": null,
   "metadata": {
    "colab": {},
    "colab_type": "code",
    "hidden": true,
    "id": "TbDx_y2oZJ0M"
   },
   "outputs": [],
   "source": [
    "for k in conf_int_df.keys():\n",
    "    conf_int_df[k].to_csv(k+'.csv',index=True)"
   ]
  },
  {
   "cell_type": "code",
   "execution_count": null,
   "metadata": {
    "colab": {
     "base_uri": "https://localhost:8080/"
    },
    "colab_type": "code",
    "hidden": true,
    "id": "gbAdoplSCFZr",
    "outputId": "1c7ecd96-297f-48cd-a51c-1d9eaf9fdb26"
   },
   "outputs": [],
   "source": [
    "get_roc_curve(y,pred,class_labels)"
   ]
  },
  {
   "cell_type": "code",
   "execution_count": null,
   "metadata": {
    "colab": {
     "base_uri": "https://localhost:8080/"
    },
    "colab_type": "code",
    "hidden": true,
    "id": "Td9iYyENCFZv",
    "outputId": "c147a14c-d354-4cf6-a63b-51efc5eca6d9"
   },
   "outputs": [],
   "source": [
    "get_PR_curve(y,pred,class_labels)"
   ]
  },
  {
   "cell_type": "code",
   "execution_count": null,
   "metadata": {
    "colab": {
     "base_uri": "https://localhost:8080/"
    },
    "colab_type": "code",
    "hidden": true,
    "id": "xZtiSefSEQo1",
    "outputId": "4c904a1d-0f72-4f4f-9b51-3143832dd0ce"
   },
   "outputs": [],
   "source": [
    "import seaborn as sns"
   ]
  },
  {
   "cell_type": "code",
   "execution_count": null,
   "metadata": {
    "colab": {
     "base_uri": "https://localhost:8080/"
    },
    "colab_type": "code",
    "hidden": true,
    "id": "WABs0U6kCFZw",
    "outputId": "5a315e78-79a3-479b-f038-f06922f8c89e"
   },
   "outputs": [],
   "source": [
    "plot_confusion_matrix(np.where(y==1)[1],np.argmax(pred,axis=1),class_labels)"
   ]
  },
  {
   "cell_type": "code",
   "execution_count": null,
   "metadata": {
    "colab": {},
    "colab_type": "code",
    "hidden": true,
    "id": "QmaH8hOONZAL"
   },
   "outputs": [],
   "source": [
    "# USAGE \n",
    "# util.compute_gradcam(model, '00008270_015.png',\n",
    "#                      IMAGE_DIR, df, labels, labels_to_show)\n",
    "\n",
    "def get_mean_std_per_batch(image_path, df, H=320, W=320):\n",
    "    sample_data = []\n",
    "    for idx, img in enumerate(df.sample(100)[\"Image\"].values):\n",
    "        # path = image_dir + img\n",
    "        sample_data.append(\n",
    "            np.array(image.load_img(image_path, target_size=(H, W))))\n",
    "\n",
    "    mean = np.mean(sample_data[0])\n",
    "    std = np.std(sample_data[0])\n",
    "    return mean, std\n",
    "\n",
    "def load_image(img, image_dir, df, preprocess=True, H=320, W=320):\n",
    "    \"\"\"Load and preprocess image.\"\"\"\n",
    "    img_path = image_dir + img\n",
    "    mean, std = get_mean_std_per_batch(img_path, df, H=H, W=W)\n",
    "    x = image.load_img(img_path, target_size=(H, W))\n",
    "    if preprocess:\n",
    "        x -= mean\n",
    "        x /= std\n",
    "        x = np.expand_dims(x, axis=0)\n",
    "    return x\n",
    "\n",
    "\n",
    "def grad_cam(input_model, image, cls, layer_name, H=64, W=64):\n",
    "    \"\"\"GradCAM method for visualizing input saliency.\"\"\"\n",
    "    with tf.GradientTape() as tape:\n",
    "        gradient_function = Model([input_model.input], \n",
    "                                       [input_model.get_layer(layer_name).output, input_model.output])\n",
    "        \n",
    "        conv_output, y_c = gradient_function(image)\n",
    "        y_c = y_c[:,cls]\n",
    "    \n",
    "    grads_val = tape.gradient(y_c,conv_output)\n",
    "\n",
    "    #print(grads_val.shape)\n",
    "    #print(conv_output.shape)\n",
    "    \n",
    "    conv_output, grads_val = conv_output[0, :], grads_val[0, :, :, :]\n",
    "\n",
    "    #print(conv_output.shape)\n",
    "\n",
    "    weights = np.mean(grads_val, axis=(0, 1))\n",
    "    cam = np.dot(conv_output, weights)\n",
    "    #print(cam)\n",
    "    #print(cam.shape)\n",
    "    # Process CAM\n",
    "    cam = resize(cam, (W, H),preserve_range=True)\n",
    "    cam = np.maximum(cam, 0)\n",
    "    cam = (cam - cam.min())/ (cam.max()-cam.min())\n",
    "    #print(cam)\n",
    "    return cam\n",
    "\n",
    "\n",
    "def compute_gradcam(model, datagen, labels, selected_labels,num,df=None,\n",
    "                    layer_name='bn'):\n",
    "    preprocessed_input, inp_labels = datagen.__getitem__(num) #(load_image(img, image_dir, df)\n",
    "    #input_array = [preprocessed_input,preprocessed_input,preprocessed_input,preprocessed_input,preprocessed_input,preprocessed_input,preprocessed_input,preprocessed_input,preprocessed_input]\n",
    "    predictions = model.predict(preprocessed_input)#input_array)\n",
    "    #inp_labels = list(inp_labels[0])*preprocessed_input.shape[0]\n",
    "    #print(inp_labels,preprocessed_input.shape[0])\n",
    "    #print(predictions)\n",
    "\n",
    "    #print(\"Loading original image\")\n",
    "    #plt.figure(figsize=(640,180))\n",
    "    '''plt.subplot(4,8,1)\n",
    "    plt.title(\"Original\")\n",
    "    plt.axis('off')\n",
    "    org_img = (preprocessed_input[np.where(inp_labels==13)[0][0],:,:,:] + 1)/2\n",
    "    plt.imshow(org_img,cmap='gray') #load_image(img, image_dir, df, preprocess=False), cmap='gray')'''\n",
    "\n",
    "    for i in range(len(inp_labels)):\n",
    "        print(f\"Generating gradcam for class {inp_labels[i]}\")\n",
    "        plt.figure(figsize=(30,30))\n",
    "        input_arr = []\n",
    "        k = 1\n",
    "        for j in range(9):\n",
    "            input_arr.append(preprocessed_input[j][i].reshape((1,64,64,3))) #input_array\n",
    "        for l in range(len(layer_name)):\n",
    "            gradcam = grad_cam(model, input_arr, inp_labels[i], layer_name[l])\n",
    "            #print(gradcam)\n",
    "            gradcam = np.nan_to_num(gradcam)\n",
    "            plt.subplot(3,3,k)\n",
    "            plt.title(f\"{inp_labels[i]}: p={predictions[i][inp_labels[i]]:.3f}\")\n",
    "            plt.axis('off')\n",
    "            plt.imshow((input_arr[l][0]+1)/2, cmap='gray')\n",
    "            plt.imshow(np.clip(gradcam,0.0,0.5), cmap='jet', alpha=0.25)\n",
    "            k+=1\n"
   ]
  },
  {
   "cell_type": "code",
   "execution_count": null,
   "metadata": {
    "hidden": true
   },
   "outputs": [],
   "source": [
    "sag_rocket_model.save(\"D:\\SiladittyaJRF\\Pretext\\M3\\R7\\saved_models\\sag_rocket_model_50.h5\")"
   ]
  },
  {
   "cell_type": "code",
   "execution_count": null,
   "metadata": {
    "hidden": true
   },
   "outputs": [],
   "source": [
    "for l in sag_rocket_model.layers:\n",
    "    print(l.name)"
   ]
  },
  {
   "cell_type": "code",
   "execution_count": null,
   "metadata": {
    "colab": {
     "base_uri": "https://localhost:8080/"
    },
    "colab_type": "code",
    "hidden": true,
    "id": "39z19LhLNZAO",
    "outputId": "5d946699-20d5-4594-9fdc-8d95c794a592",
    "scrolled": false
   },
   "outputs": [],
   "source": [
    "compute_gradcam(sag_rocket_model, vdg, list(range(500)), list(range(500)),90,\n",
    "                layer_name=['conv2d_3','conv2d_7','conv2d_11','conv2d_15','conv2d_19','conv2d_23','conv2d_27','conv2d_31','conv2d_35'])"
   ]
  },
  {
   "cell_type": "markdown",
   "metadata": {
    "colab_type": "text",
    "heading_collapsed": true,
    "id": "l0iA4BE9NecE"
   },
   "source": [
    "## Coronal"
   ]
  },
  {
   "cell_type": "markdown",
   "metadata": {
    "colab_type": "text",
    "hidden": true,
    "id": "7eGLCxPtv0j6"
   },
   "source": [
    "### IR V2"
   ]
  },
  {
   "cell_type": "code",
   "execution_count": null,
   "metadata": {
    "colab": {},
    "colab_type": "code",
    "hidden": true,
    "id": "5mZtgtK4HBbu"
   },
   "outputs": [],
   "source": [
    "rate = 0.55\n",
    "NUM_CLASSES = 100"
   ]
  },
  {
   "cell_type": "markdown",
   "metadata": {
    "colab_type": "text",
    "hidden": true,
    "id": "PgjviA_Gv4VR"
   },
   "source": [
    "### oPT AND dg"
   ]
  },
  {
   "cell_type": "code",
   "execution_count": null,
   "metadata": {
    "colab": {},
    "colab_type": "code",
    "hidden": true,
    "id": "_S_voy0eNg6m"
   },
   "outputs": [],
   "source": [
    "lr = 0.01\n",
    "#optimizer = tf.keras.optimizers.SGD(tf.keras.optimizers.schedules.ExponentialDecay(initial_learning_rate=0.001, decay_steps = 1000,decay_rate=0.97,staircase=True), momentum=0.9, nesterov=True)\n",
    "optimizer = tf.keras.optimizers.Adam(lr=0.00001) #lr = 1e-5 for finetuning whole 1e-4 for only FC"
   ]
  },
  {
   "cell_type": "code",
   "execution_count": null,
   "metadata": {
    "colab": {},
    "colab_type": "code",
    "hidden": true,
    "id": "giCRccpZIFkD"
   },
   "outputs": [],
   "source": [
    "tdg = PPPDataGen('train','coronal','/root/MRNet/MRNet-v1.0',tr_filenames_df,preprocess_input = ppi_irv2,ppp_labels_dict = PPP_LABELS,gtp_labels_dict = GTP_LABELS,batch_size=48,num_frames=1,num_classes=NUM_CLASSES)"
   ]
  },
  {
   "cell_type": "code",
   "execution_count": null,
   "metadata": {
    "colab": {},
    "colab_type": "code",
    "hidden": true,
    "id": "wjWDerDGIFkK"
   },
   "outputs": [],
   "source": [
    "vdg = PPPDataGen('valid','coronal','/root/MRNet/MRNet-v1.0',val_filenames_df,preprocess_input = ppi_irv2,ppp_labels_dict = PPP_LABELS,gtp_labels_dict = GTP_LABELS,batch_size=48,num_frames=1,num_classes=NUM_CLASSES)"
   ]
  },
  {
   "cell_type": "markdown",
   "metadata": {
    "colab_type": "text",
    "hidden": true,
    "id": "JsRN6X9ONg6t"
   },
   "source": [
    "### Manual Training Loop"
   ]
  },
  {
   "cell_type": "code",
   "execution_count": null,
   "metadata": {
    "colab": {
     "base_uri": "https://localhost:8080/"
    },
    "colab_type": "code",
    "hidden": true,
    "id": "bQoutiqsNg6t",
    "outputId": "1e27cb12-96fb-4b0f-ced7-a2144ceb76c9",
    "scrolled": false
   },
   "outputs": [],
   "source": [
    "train_loss = []\n",
    "train_acc = []\n",
    "val_loss = []\n",
    "val_acc = []\n",
    "all_train_acc = []\n",
    "\n",
    "'''lambda_toc = tf.Variable(initial_value = 1.0, trainable = True)\n",
    "lambda_gt = tf.Variable(initial_value = 1.0, trainable = True)'''\n",
    "\n",
    "#bot = botCallback(access_token)\n",
    "\n",
    "temp_val_accuracy = 0\n",
    "least_loss = np.Inf\n",
    "wait = 0\n",
    "lr_changed = 0\n",
    "\n",
    "num_epochs = 3\n",
    "\n",
    "for epoch in range(num_epochs):\n",
    "    stime = time.time()\n",
    "    print(\"Epoch : \"+str(epoch)+'...')\n",
    "    #bot.send_message(\"Epoch : \"+str(epoch)+'...')\n",
    "    \n",
    "    epoch_loss_avg = tf.keras.metrics.Mean()\n",
    "    epoch_accuracy = tf.keras.metrics.CategoricalAccuracy()\n",
    "    val_loss_avg = tf.keras.metrics.Mean()\n",
    "    val_accuracy = tf.keras.metrics.CategoricalAccuracy()\n",
    "    \n",
    "    #TRAINING\n",
    "    \n",
    "    for niter in range(1000):\n",
    "        if (niter+1)%100==0:\n",
    "            print(\"Iteration : %s Time : %s Accuracy : %s Loss : %s\"%(niter+1,time.time()-stime,epoch_accuracy.result().numpy(),epoch_loss_avg.result().numpy()))\n",
    "            train_loss.append(epoch_loss_avg.result().numpy())\n",
    "            train_acc.append(epoch_accuracy.result().numpy())\n",
    "            #VALIDATION\n",
    "    \n",
    "            for viter in range(100):\n",
    "                gtp_inputs,gtp_out_true = vdg.__getitem__(viter)\n",
    "        \n",
    "                gtp_pred = coronal_model_gtp(gtp_inputs)\n",
    "\n",
    "                val_loss_value_gtp = tf.keras.losses.categorical_crossentropy(to_categorical(gtp_out_true,num_classes=NUM_CLASSES),gtp_pred,from_logits=False) \n",
    "        \n",
    "                val_loss_avg.update_state(val_loss_value_gtp)\n",
    "                val_accuracy.update_state(to_categorical(gtp_out_true,num_classes=NUM_CLASSES),gtp_pred) #to_categorical(gtp_out_true,num_classes=10)\n",
    "\n",
    "            val_loss.append(val_loss_avg.result().numpy())\n",
    "            val_acc.append(val_accuracy.result().numpy())\n",
    "        \n",
    "        gtp_inputs,gtp_out_true = tdg.__getitem__(niter)\n",
    "        #print(gtp_inputs.shape)\n",
    "        \n",
    "        #FORWARD PROP THROUGH TOC AND CALCUATE LOSS\n",
    "        loss_value_gtp, gtp_grads = grads_gt(coronal_model_gtp, gtp_inputs, to_categorical(gtp_out_true,num_classes=NUM_CLASSES)) \n",
    "        #UPDATE WEIGHTS AND SHARE\n",
    "        #print(gtp_grads.shape)\n",
    "\n",
    "        optimizer.apply_gradients(zip(gtp_grads,coronal_model_gtp.trainable_weights))\n",
    "        \n",
    "        epoch_loss_avg.update_state(loss_value_gtp)\n",
    "        epoch_accuracy.update_state(to_categorical(gtp_out_true,num_classes=NUM_CLASSES),coronal_model_gtp(gtp_inputs)) #to_categorical(gtp_out_true,num_classes=10) \n",
    "\n",
    "        all_train_acc.append(epoch_accuracy.result().numpy())\n",
    "    \n",
    "    print(\"Epoch {:03d}:\\n Training Loss: {:.4f}, Training Accuracy: {:.3%}\\n Validation Loss: {:.4f}, Validation Accuracy: {:.3%}\\n\".format(epoch,\n",
    "                                                                                                                                           epoch_loss_avg.result(),\n",
    "                                                                                                                                           epoch_accuracy.result(),\n",
    "                                                                                                                                          val_loss_avg.result(),\n",
    "                                                                                                                                         val_accuracy.result()))\n",
    "    #SEND MESSAGE\n",
    "    \n",
    "    '''bot.send_message(\"Epoch {:03d}:\\n Training Loss: {:.4f}, Training Accuracy: {:.3%}\\n Validation Loss: {:.4f}, Validation Accuracy: {:.3%}\\n\".format(epoch,\n",
    "                                                                                                                                           epoch_loss_avg.result(),\n",
    "                                                                                                                                           epoch_accuracy.result(),\n",
    "                                                                                                                                          val_loss_avg.result(),\n",
    "                                                                                                                                        val_accuracy.result()))'''\n",
    "    #SEND PLOTS\n",
    "    f,(ax1,ax2) = plt.subplots(1,2,sharex=True)\n",
    "\n",
    "    #clear_output(wait=True)\n",
    "\n",
    "    ax1.plot(range(10*(epoch+1)), train_loss, label='Training Loss')\n",
    "    ax1.plot(range(10*(epoch+1)), val_loss, label='Validation Loss')\n",
    "    ax1.legend()\n",
    "\n",
    "    ax2.plot(range(10*(epoch+1)), train_acc, label='Training Accuracy')\n",
    "    ax2.plot(range(10*(epoch+1)), val_acc, label='Validation Accuracy')\n",
    "    ax2.legend()\n",
    "\n",
    "    plt.savefig('Accuracy and Loss plot'+str(epoch)+'.jpg')\n",
    "    \n",
    "    plt.show()\n",
    "    \n",
    "    #bot.send_photo('Accuracy and Loss plot'+str(epoch)+'.jpg')\n",
    "    \n",
    "    #CHECK POINT\n",
    "    print(\"Saving after Epoch : \"+str(epoch))\n",
    "    #model_toc.save('saved_models/model_toc_'+str(epoch)+'.h5')\n",
    "    coronal_model_gtp.save('saved_models/coronal_model_'+str(epoch)+'.h5')\n",
    "    \n",
    "    \n",
    "    if val_accuracy.result() > temp_val_accuracy:\n",
    "        print(\"Saving Best Model...\")\n",
    "        #model_toc.save('saved_models/model_toc_'+str(epoch)+'_ValAcc_'+str(val_accuracy.result())+'.h5')\n",
    "        #model_gt.save('saved_models/model_gt_'+str(epoch)+'_ValAcc_'+str(val_accuracy.result())+'.h5')\n",
    "        temp_val_accuracy = val_accuracy.result()\n",
    "    \n",
    "    '''#EARLY STOPPING\n",
    "    if val_loss_avg.result() < least_loss:\n",
    "        least_loss = val_loss_avg.result()\n",
    "        wait = 0\n",
    "    else:\n",
    "        wait+=1'''\n",
    "    \n",
    "    '''if lr_changed and wait==5:\n",
    "        print(\"Early Stopping at Epoch : \"+str(epoch+1))\n",
    "        bot.send_message(\"Early Stopping at Epoch : \"+str(epoch+1))\n",
    "        break'''\n",
    "        \n",
    "    '''#REDUCE LR\n",
    "    if wait>=5:\n",
    "        print(\"Reducing Learning Rate at Epoch : \"+str(epoch+1))\n",
    "        bot.send_message(\"Reducing Learning Rate at Epoch : \"+str(epoch+1))\n",
    "        optimizer = tf.keras.optimizers.SGD(learning_rate=lr/2, momentum=0.9, nesterov=True)\n",
    "        lr_changed = 1\n",
    "        wait = 0'''\n",
    "    \n",
    "    "
   ]
  },
  {
   "cell_type": "code",
   "execution_count": null,
   "metadata": {
    "colab": {
     "base_uri": "https://localhost:8080/"
    },
    "colab_type": "code",
    "hidden": true,
    "id": "suj0VBete-jC",
    "outputId": "b77e6edd-e7d5-4c10-a493-f569e0466752"
   },
   "outputs": [],
   "source": [
    "plot_accuracy(train_acc,val_acc)"
   ]
  },
  {
   "cell_type": "code",
   "execution_count": null,
   "metadata": {
    "colab": {
     "base_uri": "https://localhost:8080/"
    },
    "colab_type": "code",
    "hidden": true,
    "id": "nIILnNTYfGP8",
    "outputId": "3f417c3a-6b31-4bc6-d08d-b6975d2bc273"
   },
   "outputs": [],
   "source": [
    "plot_loss(train_loss,val_loss)"
   ]
  },
  {
   "cell_type": "code",
   "execution_count": null,
   "metadata": {
    "colab": {
     "base_uri": "https://localhost:8080/",
     "height": 285
    },
    "colab_type": "code",
    "hidden": true,
    "id": "RVFSyoF2af0F",
    "outputId": "c3f80b2b-20ab-4c96-e4a8-3469a74ffd6c"
   },
   "outputs": [],
   "source": [
    "plt.plot(list(range(len(all_train_acc))), all_train_acc)"
   ]
  },
  {
   "cell_type": "code",
   "execution_count": null,
   "metadata": {
    "colab": {},
    "colab_type": "code",
    "hidden": true,
    "id": "21DflWPoCNx3"
   },
   "outputs": [],
   "source": [
    "y = np.array([]).reshape((0,100))\n",
    "pred = np.array([]).reshape((0,100))\n",
    "for i in range(1000):\n",
    "    gtp_inputs,gtp_out_true = vdg.__getitem__(i)\n",
    "    y = np.append(y,to_categorical(gtp_out_true,num_classes=100),axis=0)\n",
    "    gtp_pred = coronal_model_gtp(gtp_inputs)\n",
    "    pred = np.append(pred,gtp_pred,axis=0)\n",
    "\n",
    "class_labels = ['abnormality','acl tear','meniscus tear']\n",
    "class_labels = list(range(100))\n",
    "\n",
    "perf_metrics_df = get_performance_metrics(y, pred, class_labels, tp=TP,tn=TN, \n",
    "                                          fp=FP, fn=FN, acc=get_accuracy, \n",
    "                                          prevalence=get_prevalence, \n",
    "                                          spec=specificity,sens=sensitivity, \n",
    "                                          ppv=get_ppv, npv=get_npv, \n",
    "                                          auc=roc_auc_score, f1=f1_score,\n",
    "                                          thresholds=[])\n",
    "\n"
   ]
  },
  {
   "cell_type": "code",
   "execution_count": null,
   "metadata": {
    "colab": {},
    "colab_type": "code",
    "hidden": true,
    "id": "XYPR1UHvCNyD"
   },
   "outputs": [],
   "source": [
    "conf_int_df = get_confidence_intervals(y,pred,class_labels)"
   ]
  },
  {
   "cell_type": "code",
   "execution_count": null,
   "metadata": {
    "colab": {
     "base_uri": "https://localhost:8080/"
    },
    "colab_type": "code",
    "hidden": true,
    "id": "x94Gh8kvCNyH",
    "outputId": "34444fd5-5983-48cb-a23e-68de89655f83"
   },
   "outputs": [],
   "source": [
    "perf_metrics_df"
   ]
  },
  {
   "cell_type": "code",
   "execution_count": null,
   "metadata": {
    "colab": {
     "base_uri": "https://localhost:8080/"
    },
    "colab_type": "code",
    "hidden": true,
    "id": "NLxh3GERCNyK",
    "outputId": "f39dade5-a0ad-42bd-ae98-86dbdd0b53c5"
   },
   "outputs": [],
   "source": [
    "conf_int_df"
   ]
  },
  {
   "cell_type": "code",
   "execution_count": null,
   "metadata": {
    "colab": {},
    "colab_type": "code",
    "hidden": true,
    "id": "pfjjVhyOFlZP"
   },
   "outputs": [],
   "source": [
    "perf_metrics_df.to_csv('JPP Coronal Metrics per class.csv',index=True)"
   ]
  },
  {
   "cell_type": "code",
   "execution_count": null,
   "metadata": {
    "colab": {},
    "colab_type": "code",
    "hidden": true,
    "id": "vSK_Tdw6wFOO"
   },
   "outputs": [],
   "source": [
    "for k in conf_int_df.keys():\n",
    "    conf_int_df[k].to_csv('Coronal'+k+'.csv',index=True)"
   ]
  },
  {
   "cell_type": "code",
   "execution_count": null,
   "metadata": {
    "colab": {
     "base_uri": "https://localhost:8080/"
    },
    "colab_type": "code",
    "hidden": true,
    "id": "c8bM3wp-FlZT",
    "outputId": "90ca31af-5626-45a0-8e34-0c9bdf652ea9"
   },
   "outputs": [],
   "source": [
    "get_roc_curve(y,pred,class_labels)"
   ]
  },
  {
   "cell_type": "code",
   "execution_count": null,
   "metadata": {
    "colab": {
     "base_uri": "https://localhost:8080/"
    },
    "colab_type": "code",
    "hidden": true,
    "id": "uU60ose0FlZV",
    "outputId": "06192d60-7db7-45be-fac4-073808aa4e9e"
   },
   "outputs": [],
   "source": [
    "get_PR_curve(y,pred,class_labels)"
   ]
  },
  {
   "cell_type": "code",
   "execution_count": null,
   "metadata": {
    "colab": {
     "base_uri": "https://localhost:8080/"
    },
    "colab_type": "code",
    "hidden": true,
    "id": "lSLl4fA4FlZX",
    "outputId": "7c2e9e16-770e-49d6-9ab3-6bfaca771f02"
   },
   "outputs": [],
   "source": [
    "plot_confusion_matrix(np.where(y==1)[1],np.argmax(pred,axis=1),class_labels)"
   ]
  },
  {
   "cell_type": "code",
   "execution_count": null,
   "metadata": {
    "colab": {},
    "colab_type": "code",
    "hidden": true,
    "id": "bEvYOVeFCNyM"
   },
   "outputs": [],
   "source": [
    "\n",
    "# USAGE \n",
    "# util.compute_gradcam(model, '00008270_015.png',\n",
    "#                      IMAGE_DIR, df, labels, labels_to_show)\n",
    "\n",
    "def get_mean_std_per_batch(image_path, df, H=320, W=320):\n",
    "    sample_data = []\n",
    "    for idx, img in enumerate(df.sample(100)[\"Image\"].values):\n",
    "        # path = image_dir + img\n",
    "        sample_data.append(\n",
    "            np.array(image.load_img(image_path, target_size=(H, W))))\n",
    "\n",
    "    mean = np.mean(sample_data[0])\n",
    "    std = np.std(sample_data[0])\n",
    "    return mean, std\n",
    "\n",
    "def load_image(img, image_dir, df, preprocess=True, H=320, W=320):\n",
    "    \"\"\"Load and preprocess image.\"\"\"\n",
    "    img_path = image_dir + img\n",
    "    mean, std = get_mean_std_per_batch(img_path, df, H=H, W=W)\n",
    "    x = image.load_img(img_path, target_size=(H, W))\n",
    "    if preprocess:\n",
    "        x -= mean\n",
    "        x /= std\n",
    "        x = np.expand_dims(x, axis=0)\n",
    "    return x\n",
    "\n",
    "\n",
    "def grad_cam(input_model, image, cls, layer_name, H=256, W=256):\n",
    "    \"\"\"GradCAM method for visualizing input saliency.\"\"\"\n",
    "    with tf.GradientTape() as tape:\n",
    "        gradient_function = Model([input_model.input], \n",
    "                                       [input_model.get_layer(layer_name).output, input_model.output])\n",
    "        \n",
    "        conv_output, y_c = gradient_function([image.reshape((1,H,W,3))])\n",
    "        y_c = y_c[:,cls]\n",
    "    \n",
    "    grads_val = tape.gradient(y_c,conv_output)\n",
    "    \n",
    "    conv_output, grads_val = conv_output[0, :], grads_val[0, :, :, :]\n",
    "\n",
    "    weights = np.mean(grads_val, axis=(0, 1))\n",
    "    cam = np.dot(conv_output, weights)\n",
    "\n",
    "    # Process CAM\n",
    "    cam = resize(cam, (W, H),preserve_range=True)\n",
    "    cam = np.maximum(cam, 0)\n",
    "    cam = cam / cam.max()\n",
    "    return cam\n",
    "\n",
    "\n",
    "def compute_gradcam(model, datagen, labels, selected_labels,df=None,\n",
    "                    layer_name='bn'):\n",
    "    preprocessed_input, inp_labels = datagen.__getitem__(0) #(load_image(img, image_dir, df)\n",
    "    predictions = model.predict(preprocessed_input)\n",
    "    print(inp_labels)\n",
    "    #print(predictions)\n",
    "\n",
    "    #print(\"Loading original image\")\n",
    "    plt.figure(figsize=(90,60))\n",
    "    '''plt.subplot(4,8,1)\n",
    "    plt.title(\"Original\")\n",
    "    plt.axis('off')\n",
    "    org_img = (preprocessed_input[np.where(inp_labels==13)[0][0],:,:,:] + 1)/2\n",
    "    plt.imshow(org_img,cmap='gray') #load_image(img, image_dir, df, preprocess=False), cmap='gray')'''\n",
    "\n",
    "    j = 1\n",
    "    for i in range(len(inp_labels)):\n",
    "        if inp_labels[i] in selected_labels:\n",
    "            print(f\"Generating gradcam for class {inp_labels[i]}\")\n",
    "            gradcam = grad_cam(model, preprocessed_input[i], inp_labels[i], layer_name)\n",
    "            gradcam = np.nan_to_num(gradcam)\n",
    "            #plt.figure(figsize=(45,30))\n",
    "            plt.subplot(6,8,j)\n",
    "            plt.title(f\"{inp_labels[i]}: p={predictions[i][inp_labels[i]]:.3f}\")\n",
    "            plt.axis('off')\n",
    "            plt.imshow((preprocessed_input[i]+1)/2, cmap='gray')\n",
    "            plt.imshow(gradcam, cmap='jet', alpha=min(0.5, predictions[i][inp_labels[i]]))\n",
    "            j+=1\n"
   ]
  },
  {
   "cell_type": "code",
   "execution_count": null,
   "metadata": {
    "colab": {
     "base_uri": "https://localhost:8080/"
    },
    "colab_type": "code",
    "hidden": true,
    "id": "kafVuni-CNyO",
    "outputId": "310a1f0d-d3f7-402b-92fd-e06890e2819c"
   },
   "outputs": [],
   "source": [
    "compute_gradcam(coronal_model_gtp, vdg, list(range(100)), list(range(100)),layer_name='conv_7b_bn')"
   ]
  },
  {
   "cell_type": "markdown",
   "metadata": {
    "colab_type": "text",
    "heading_collapsed": true,
    "id": "TpkiX2-NNne2"
   },
   "source": [
    "## Axial"
   ]
  },
  {
   "cell_type": "markdown",
   "metadata": {
    "colab_type": "text",
    "hidden": true,
    "id": "P_IOArjav_EP"
   },
   "source": [
    "### IR V2"
   ]
  },
  {
   "cell_type": "code",
   "execution_count": null,
   "metadata": {
    "colab": {},
    "colab_type": "code",
    "hidden": true,
    "id": "-ae7ipeK7-u4"
   },
   "outputs": [],
   "source": [
    "rate = 0.55"
   ]
  },
  {
   "cell_type": "code",
   "execution_count": null,
   "metadata": {
    "colab": {
     "base_uri": "https://localhost:8080/",
     "height": 51
    },
    "colab_type": "code",
    "hidden": true,
    "id": "JWUwQcrKv_ER",
    "outputId": "207f6efd-bfd5-4ee8-f8f4-429973ffb1e2"
   },
   "outputs": [],
   "source": [
    "input_tensor = Input(shape=(256, 256, 3))\n",
    "base_model_gtp = InceptionResNetV2(input_tensor=input_tensor,weights='imagenet',pooling=None, include_top=False)\n",
    "\n",
    "#base_model_gtp.summary()\n",
    "\n",
    "x = base_model_gtp.output\n",
    "\n",
    "#x = AveragePooling2D(pool_size=(2,2),strides=1)(x)\n",
    "\n",
    "x = GlobalAveragePooling2D()(x)\n",
    "\n",
    "#x = Flatten()(x)\n",
    "x = Dropout(rate)(x)\n",
    "\n",
    "x = Dense(4096, activation='relu',kernel_regularizer=regularizers.l2(0.0001))(x)\n",
    "x = Dropout(rate)(x)\n",
    "#x = Dense(4096, activation='relu',kernel_regularizer=regularizers.l2(0.0001))(x)\n",
    "x = Dense(4096, activation='relu',kernel_regularizer=regularizers.l2(0.0001))(x)\n",
    "x = Dropout(rate)(x)\n",
    "output = Dense(NUM_CLASSES, activation='softmax')(x)\n",
    "\n",
    "axial_model_gtp = Model(inputs=base_model_gtp.input, outputs=output)\n",
    "\n",
    "for layer in base_model_gtp.layers:\n",
    "    layer.trainable = True"
   ]
  },
  {
   "cell_type": "markdown",
   "metadata": {
    "colab_type": "text",
    "hidden": true,
    "id": "HIK1G6Cyv_4A"
   },
   "source": [
    "### VGG"
   ]
  },
  {
   "cell_type": "code",
   "execution_count": null,
   "metadata": {
    "colab": {},
    "colab_type": "code",
    "hidden": true,
    "id": "KelzUy4yoIrr"
   },
   "outputs": [],
   "source": [
    "input_tensor = Input(shape=(256, 256, 3))\n",
    "base_model_gtp = VGG19(input_tensor=input_tensor,weights='imagenet', include_top=False)\n",
    "x = base_model_gtp.output\n",
    "#x = AveragePooling2D(pool_size=(2,2),strides=1)(x)\n",
    "x = Flatten()(x)\n",
    "x = Dense(4096, activation='relu',kernel_regularizer=regularizers.l2(0.0001))(x)\n",
    "x = Dense(4096, activation='relu',kernel_regularizer=regularizers.l2(0.0001))(x)\n",
    "output = Dense(NUM_CLASSES, activation='softmax')(x)\n",
    "\n",
    "axial_model_gtp = Model(inputs=base_model_gtp.input, outputs=output)\n",
    "\n",
    "for layer in base_model_gtp.layers:\n",
    "    layer.trainable = True"
   ]
  },
  {
   "cell_type": "markdown",
   "metadata": {
    "colab_type": "text",
    "hidden": true,
    "id": "1uteFG8XwCF_"
   },
   "source": [
    "### OPT AND DG`"
   ]
  },
  {
   "cell_type": "code",
   "execution_count": null,
   "metadata": {
    "colab": {},
    "colab_type": "code",
    "hidden": true,
    "id": "BPCl04azNpA8"
   },
   "outputs": [],
   "source": [
    "lr = 0.01\n",
    "#optimizer = tf.keras.optimizers.SGD(tf.keras.optimizers.schedules.ExponentialDecay(initial_learning_rate=0.001, decay_steps = 1000,decay_rate=0.97,staircase=True), momentum=0.9, nesterov=True)\n",
    "optimizer = tf.keras.optimizers.Adam(lr=0.00001) #lr = 1e-5 for finetuning whole 1e-4 for only FC"
   ]
  },
  {
   "cell_type": "code",
   "execution_count": null,
   "metadata": {
    "colab": {},
    "colab_type": "code",
    "hidden": true,
    "id": "rqkri-DrNpA-"
   },
   "outputs": [],
   "source": [
    "tdg = PPPDataGen('train','axial','/root/MRNet/MRNet-v1.0',tr_filenames_df,preprocess_input = ppi_irv2,ppp_labels_dict = PPP_LABELS,gtp_labels_dict = GTP_LABELS,batch_size=48,num_frames=1,num_classes=NUM_CLASSES,hor_flip=False)"
   ]
  },
  {
   "cell_type": "code",
   "execution_count": null,
   "metadata": {
    "colab": {},
    "colab_type": "code",
    "hidden": true,
    "id": "aVZPtHFJNpA_"
   },
   "outputs": [],
   "source": [
    "vdg = PPPDataGen('valid','axial','/root/MRNet/MRNet-v1.0',val_filenames_df,preprocess_input=ppi_irv2,ppp_labels_dict = PPP_LABELS,gtp_labels_dict = GTP_LABELS,batch_size=48,num_frames=1,num_classes=NUM_CLASSES,hor_flip=False,data_aug=False)"
   ]
  },
  {
   "cell_type": "markdown",
   "metadata": {
    "colab_type": "text",
    "hidden": true,
    "id": "0D0vrHYANpBA"
   },
   "source": [
    "### Manual Training Loop"
   ]
  },
  {
   "cell_type": "code",
   "execution_count": null,
   "metadata": {
    "colab": {},
    "colab_type": "code",
    "hidden": true,
    "id": "6N9edxkW_kWx"
   },
   "outputs": [],
   "source": [
    "train_loss = []\n",
    "train_acc = []\n",
    "val_loss = []\n",
    "val_acc = []\n",
    "all_train_acc = []"
   ]
  },
  {
   "cell_type": "code",
   "execution_count": null,
   "metadata": {
    "colab": {
     "base_uri": "https://localhost:8080/",
     "height": 1000
    },
    "colab_type": "code",
    "hidden": true,
    "id": "Ws4SPuYfNpBB",
    "outputId": "f2231620-1680-45f1-d75f-4f0e3d328f30",
    "scrolled": false
   },
   "outputs": [],
   "source": [
    "#bot = botCallback(access_token)\n",
    "\n",
    "temp_val_accuracy = 0\n",
    "least_loss = np.Inf\n",
    "wait = 0\n",
    "lr_changed = 0\n",
    "\n",
    "num_epochs = 2\n",
    "\n",
    "for epoch in range(num_epochs):\n",
    "    stime = time.time()\n",
    "    print(\"Epoch : \"+str(epoch)+'...')\n",
    "    #bot.send_message(\"Epoch : \"+str(epoch)+'...')\n",
    "    \n",
    "    epoch_loss_avg = tf.keras.metrics.Mean()\n",
    "    epoch_accuracy = tf.keras.metrics.CategoricalAccuracy()\n",
    "    val_loss_avg = tf.keras.metrics.Mean()\n",
    "    val_accuracy = tf.keras.metrics.CategoricalAccuracy()\n",
    "    \n",
    "    #TRAINING\n",
    "    \n",
    "    for niter in range(1130):\n",
    "        if (niter+1)%100==0:\n",
    "            print(\"Iteration : %s Time : %s Accuracy : %s Loss : %s\"%(niter+1,time.time()-stime,epoch_accuracy.result().numpy(),epoch_loss_avg.result().numpy()))\n",
    "            train_loss.append(epoch_loss_avg.result().numpy())\n",
    "            train_acc.append(epoch_accuracy.result().numpy())\n",
    "\n",
    "            #VALIDATION\n",
    "            rate = 1.0\n",
    "            for viter in range(120):\n",
    "                gtp_inputs,gtp_out_true = vdg.__getitem__(viter)\n",
    "        \n",
    "                gtp_pred = axial_model_gtp(gtp_inputs)\n",
    "\n",
    "                val_loss_value_gtp = tf.keras.losses.categorical_crossentropy(to_categorical(gtp_out_true,num_classes=NUM_CLASSES),gtp_pred,from_logits=False) \n",
    "        \n",
    "                val_loss_avg.update_state(val_loss_value_gtp)\n",
    "                val_accuracy.update_state(to_categorical(gtp_out_true,num_classes=NUM_CLASSES),gtp_pred)\n",
    "\n",
    "            val_loss.append(val_loss_avg.result().numpy())\n",
    "            val_acc.append(val_accuracy.result().numpy())\n",
    "        \n",
    "        rate = 0.55\n",
    "        gtp_inputs,gtp_out_true = tdg.__getitem__(niter)\n",
    "        #print(gtp_inputs.shape)\n",
    "        \n",
    "        #FORWARD PROP THROUGH TOC AND CALCUATE LOSS\n",
    "        loss_value_gtp, gtp_grads = grads_gt(axial_model_gtp, gtp_inputs, to_categorical(gtp_out_true,num_classes=NUM_CLASSES)) \n",
    "        #UPDATE WEIGHTS AND SHARE\n",
    "        #print(gtp_grads.shape)\n",
    "\n",
    "        optimizer.apply_gradients(zip(gtp_grads,axial_model_gtp.trainable_weights))\n",
    "        \n",
    "        epoch_loss_avg.update_state(loss_value_gtp)\n",
    "        epoch_accuracy.update_state(to_categorical(gtp_out_true,num_classes=NUM_CLASSES),axial_model_gtp(gtp_inputs))\n",
    "        \n",
    "        all_train_acc.append(epoch_accuracy.result().numpy())\n",
    "    \n",
    "    print(\"Epoch {:03d}:\\n Training Loss: {:.4f}, Training Accuracy: {:.3%}\\n Validation Loss: {:.4f}, Validation Accuracy: {:.3%}\\n\".format(epoch,\n",
    "                                                                                                                                           epoch_loss_avg.result().numpy(),\n",
    "                                                                                                                                           epoch_accuracy.result().numpy(),\n",
    "                                                                                                                                          val_loss_avg.result().numpy(),\n",
    "                                                                                                                                         val_accuracy.result().numpy()))\n",
    "    #SEND MESSAGE\n",
    "    \n",
    "    '''bot.send_message(\"Epoch {:03d}:\\n Training Loss: {:.4f}, Training Accuracy: {:.3%}\\n Validation Loss: {:.4f}, Validation Accuracy: {:.3%}\\n\".format(epoch,\n",
    "                                                                                                                                           epoch_loss_avg.result(),\n",
    "                                                                                                                                           epoch_accuracy.result(),\n",
    "                                                                                                                                          val_loss_avg.result(),\n",
    "                                                                                                                                        val_accuracy.result()))'''\n",
    "    #SEND PLOTS\n",
    "    f,(ax1,ax2) = plt.subplots(1,2,sharex=True)\n",
    "\n",
    "    #clear_output(wait=True)\n",
    "\n",
    "    ax1.plot(range(11*(epoch+1)), train_loss, label='Training Loss')\n",
    "    ax1.plot(range(11*(epoch+1)), val_loss, label='Validation Loss')\n",
    "    ax1.legend()\n",
    "\n",
    "    ax2.plot(range(11*(epoch+1)), train_acc, label='Training Accuracy')\n",
    "    ax2.plot(range(11*(epoch+1)), val_acc, label='Validation Accuracy')\n",
    "    ax2.legend()\n",
    "\n",
    "    plt.savefig('Accuracy and Loss plot'+str(epoch)+'.jpg')\n",
    "    \n",
    "    plt.show()\n",
    "    \n",
    "    #bot.send_photo('Accuracy and Loss plot'+str(epoch)+'.jpg')\n",
    "    \n",
    "    #CHECK POINT\n",
    "    print(\"Saving after Epoch : \"+str(epoch))\n",
    "    #model_toc.save('saved_models/model_toc_'+str(epoch)+'.h5')\n",
    "    axial_model_gtp.save('saved_models/axial_model_'+str(epoch)+'.h5')\n",
    "    \n",
    "    \n",
    "    if val_accuracy.result() > temp_val_accuracy:\n",
    "        print(\"Saving Best Model...\")\n",
    "        #model_toc.save('saved_models/model_toc_'+str(epoch)+'_ValAcc_'+str(val_accuracy.result())+'.h5')\n",
    "        #model_gt.save('saved_models/model_gt_'+str(epoch)+'_ValAcc_'+str(val_accuracy.result())+'.h5')\n",
    "        temp_val_accuracy = val_accuracy.result()\n",
    "    \n",
    "    '''#EARLY STOPPING\n",
    "    if val_loss_avg.result() < least_loss:\n",
    "        least_loss = val_loss_avg.result()\n",
    "        wait = 0\n",
    "    else:\n",
    "        wait+=1'''\n",
    "    \n",
    "    '''if lr_changed and wait==5:\n",
    "        print(\"Early Stopping at Epoch : \"+str(epoch+1))\n",
    "        bot.send_message(\"Early Stopping at Epoch : \"+str(epoch+1))\n",
    "        break'''\n",
    "        \n",
    "    '''#REDUCE LR\n",
    "    if wait>=5:\n",
    "        print(\"Reducing Learning Rate at Epoch : \"+str(epoch+1))\n",
    "        bot.send_message(\"Reducing Learning Rate at Epoch : \"+str(epoch+1))\n",
    "        optimizer = tf.keras.optimizers.SGD(learning_rate=lr/2, momentum=0.9, nesterov=True)\n",
    "        lr_changed = 1\n",
    "        wait = 0'''\n",
    "    \n",
    "    "
   ]
  },
  {
   "cell_type": "code",
   "execution_count": null,
   "metadata": {
    "colab": {},
    "colab_type": "code",
    "hidden": true,
    "id": "PaI1ktCtdx48"
   },
   "outputs": [],
   "source": [
    "y = np.array([]).reshape((0,100))\n",
    "pred = np.array([]).reshape((0,100))\n",
    "for i in range(1000):\n",
    "    gtp_inputs,gtp_out_true = vdg.__getitem__(i)\n",
    "    y = np.append(y,to_categorical(gtp_out_true,num_classes=100),axis=0)\n",
    "    gtp_pred = axial_model_gtp(gtp_inputs)\n",
    "    pred = np.append(pred,gtp_pred,axis=0)\n",
    "\n",
    "class_labels = ['abnormality','acl tear','meniscus tear']\n",
    "class_labels = list(range(100))\n",
    "\n",
    "perf_metrics_df = get_performance_metrics(y, pred, class_labels, tp=TP,tn=TN, \n",
    "                                          fp=FP, fn=FN, acc=get_accuracy, \n",
    "                                          prevalence=get_prevalence, \n",
    "                                          spec=specificity,sens=sensitivity, \n",
    "                                          ppv=get_ppv, npv=get_npv, \n",
    "                                          auc=roc_auc_score, f1=f1_score,\n",
    "                                          thresholds=[])\n",
    "\n"
   ]
  },
  {
   "cell_type": "code",
   "execution_count": null,
   "metadata": {
    "colab": {},
    "colab_type": "code",
    "hidden": true,
    "id": "i8YNEdhddx4-"
   },
   "outputs": [],
   "source": [
    "conf_int_df = get_confidence_intervals(y,pred,class_labels)"
   ]
  },
  {
   "cell_type": "code",
   "execution_count": null,
   "metadata": {
    "colab": {
     "base_uri": "https://localhost:8080/"
    },
    "colab_type": "code",
    "hidden": true,
    "id": "hyfeykZ0dx5A",
    "outputId": "a2b22e88-3d16-4f87-cd38-911b4a9b3779"
   },
   "outputs": [],
   "source": [
    "perf_metrics_df"
   ]
  },
  {
   "cell_type": "code",
   "execution_count": null,
   "metadata": {
    "colab": {
     "base_uri": "https://localhost:8080/",
     "height": 918
    },
    "colab_type": "code",
    "hidden": true,
    "id": "RxGKDEC7dx5C",
    "outputId": "99f09d2a-4b80-430e-83c0-743d0b200960"
   },
   "outputs": [],
   "source": [
    "conf_int_df"
   ]
  },
  {
   "cell_type": "code",
   "execution_count": null,
   "metadata": {
    "colab": {},
    "colab_type": "code",
    "hidden": true,
    "id": "Taa5-juKFuC6"
   },
   "outputs": [],
   "source": [
    "perf_metrics_df.to_csv('JPP Axial Metrics per class.csv',index=True)"
   ]
  },
  {
   "cell_type": "code",
   "execution_count": null,
   "metadata": {
    "colab": {},
    "colab_type": "code",
    "hidden": true,
    "id": "PbByuM-MFuC8"
   },
   "outputs": [],
   "source": [
    "for k in conf_int_df.keys():\n",
    "    conf_int_df[k].to_csv('Axial'+k+'.csv',index=True)"
   ]
  },
  {
   "cell_type": "code",
   "execution_count": null,
   "metadata": {
    "colab": {
     "base_uri": "https://localhost:8080/",
     "height": 1000
    },
    "colab_type": "code",
    "hidden": true,
    "id": "m1jrQdUlFuC9",
    "outputId": "8f50b859-c87c-4609-ebac-ecab638b59ac"
   },
   "outputs": [],
   "source": [
    "get_roc_curve(y,pred,class_labels)"
   ]
  },
  {
   "cell_type": "code",
   "execution_count": null,
   "metadata": {
    "colab": {
     "base_uri": "https://localhost:8080/",
     "height": 1000
    },
    "colab_type": "code",
    "hidden": true,
    "id": "VeggxkJYFuC-",
    "outputId": "ec237aa7-a7fd-4730-b8bf-44acdc928401"
   },
   "outputs": [],
   "source": [
    "get_PR_curve(y,pred,class_labels)"
   ]
  },
  {
   "cell_type": "code",
   "execution_count": null,
   "metadata": {
    "colab": {
     "base_uri": "https://localhost:8080/"
    },
    "colab_type": "code",
    "hidden": true,
    "id": "uzM02i2lBhQF",
    "outputId": "0a2dad1c-db59-4667-fdf0-c0495d7c6d64"
   },
   "outputs": [],
   "source": [
    "import seaborn as sns"
   ]
  },
  {
   "cell_type": "code",
   "execution_count": null,
   "metadata": {
    "colab": {
     "base_uri": "https://localhost:8080/"
    },
    "colab_type": "code",
    "hidden": true,
    "id": "yaIij72jFuDA",
    "outputId": "d539f9b4-9e11-4634-ed5e-6e57cd85d0c5"
   },
   "outputs": [],
   "source": [
    "plot_confusion_matrix(np.where(y==1)[1],np.argmax(pred,axis=1),class_labels)"
   ]
  },
  {
   "cell_type": "code",
   "execution_count": null,
   "metadata": {
    "colab": {},
    "colab_type": "code",
    "hidden": true,
    "id": "yjAaGDFEF1AD"
   },
   "outputs": [],
   "source": [
    "# USAGE \n",
    "# util.compute_gradcam(model, '00008270_015.png',\n",
    "#                      IMAGE_DIR, df, labels, labels_to_show)\n",
    "\n",
    "def get_mean_std_per_batch(image_path, df, H=320, W=320):\n",
    "    sample_data = []\n",
    "    for idx, img in enumerate(df.sample(100)[\"Image\"].values):\n",
    "        # path = image_dir + img\n",
    "        sample_data.append(\n",
    "            np.array(image.load_img(image_path, target_size=(H, W))))\n",
    "\n",
    "    mean = np.mean(sample_data[0])\n",
    "    std = np.std(sample_data[0])\n",
    "    return mean, std\n",
    "\n",
    "def load_image(img, image_dir, df, preprocess=True, H=320, W=320):\n",
    "    \"\"\"Load and preprocess image.\"\"\"\n",
    "    img_path = image_dir + img\n",
    "    mean, std = get_mean_std_per_batch(img_path, df, H=H, W=W)\n",
    "    x = image.load_img(img_path, target_size=(H, W))\n",
    "    if preprocess:\n",
    "        x -= mean\n",
    "        x /= std\n",
    "        x = np.expand_dims(x, axis=0)\n",
    "    return x\n",
    "\n",
    "\n",
    "def grad_cam(input_model, image, cls, layer_name, H=256, W=256):\n",
    "    \"\"\"GradCAM method for visualizing input saliency.\"\"\"\n",
    "    with tf.GradientTape() as tape:\n",
    "        gradient_function = Model([input_model.input], \n",
    "                                       [input_model.get_layer(layer_name).output, input_model.output])\n",
    "        \n",
    "        conv_output, y_c = gradient_function([image.reshape((1,H,W,3))])\n",
    "        y_c = y_c[:,cls]\n",
    "    \n",
    "    grads_val = tape.gradient(y_c,conv_output)\n",
    "    \n",
    "    conv_output, grads_val = conv_output[0, :], grads_val[0, :, :, :]\n",
    "\n",
    "    weights = np.mean(grads_val, axis=(0, 1))\n",
    "    cam = np.dot(conv_output, weights)\n",
    "\n",
    "    # Process CAM\n",
    "    cam = resize(cam, (W, H),preserve_range=True)\n",
    "    cam = np.maximum(cam, 0)\n",
    "    cam = cam / cam.max()\n",
    "    return cam\n",
    "\n",
    "\n",
    "def compute_gradcam(model, datagen, labels, selected_labels,df=None,\n",
    "                    layer_name='bn'):\n",
    "    _,_,preprocessed_input, _ = datagen.__getitem__(0) #(load_image(img, image_dir, df)\n",
    "    predictions = model.predict(preprocessed_input)\n",
    "    inp_labels = [0]*16\n",
    "    print(inp_labels)\n",
    "    \n",
    "    #print(predictions)\n",
    "\n",
    "    #print(\"Loading original image\")\n",
    "    plt.figure(figsize=(90,60))\n",
    "    '''plt.subplot(4,8,1)\n",
    "    plt.title(\"Original\")\n",
    "    plt.axis('off')\n",
    "    org_img = (preprocessed_input[np.where(inp_labels==13)[0][0],:,:,:] + 1)/2\n",
    "    plt.imshow(org_img,cmap='gray') #load_image(img, image_dir, df, preprocess=False), cmap='gray')'''\n",
    "\n",
    "    j = 1\n",
    "\n",
    "    images = []\n",
    "        \n",
    "    for i in range(len(inp_labels)):\n",
    "        if inp_labels[i] in selected_labels:\n",
    "            print(f\"Generating gradcam for class {inp_labels[i]}\")\n",
    "            gradcam = grad_cam(model, preprocessed_input[i], inp_labels[i], layer_name)\n",
    "            gradcam = np.nan_to_num(gradcam,nan=1.0)\n",
    "            print(np.min(gradcam),np.max(gradcam))\n",
    "            plt.figure(figsize=(45,30))\n",
    "            plt.subplot(6,8,j)\n",
    "            plt.title(f\"{inp_labels[i]}: p={predictions[i][inp_labels[i]]:.3f}\")\n",
    "            plt.axis('off')\n",
    "            plt.imshow((preprocessed_input[i]+1)/2, cmap='gray')\n",
    "            plt.imshow(gradcam, cmap='jet', alpha=min(0.5, predictions[i][inp_labels[i]]))\n",
    "            plt.savefig('Axial_'+str(j)+'.png')\n",
    "            images.append(imageio.imread('Axial_'+str(j)+'.png'))\n",
    "            j+=1\n",
    "    imageio.mimsave('Axial_Gradcam_2.gif', images)\n",
    "    \n"
   ]
  },
  {
   "cell_type": "code",
   "execution_count": null,
   "metadata": {
    "colab": {},
    "colab_type": "code",
    "hidden": true,
    "id": "KXOSwRba3VNw"
   },
   "outputs": [],
   "source": [
    "\n",
    "images = []\n",
    "for file_name in os.listdir('/content/'):\n",
    "    if file_name.endswith('.png') and 'Axial' in file_name:\n",
    "        file_path = os.path.join('/content/', file_name)\n",
    "        images.append(imageio.imread(file_path))\n",
    "imageio.mimsave('/content/Axial_gradcam.gif', images)"
   ]
  },
  {
   "cell_type": "code",
   "execution_count": null,
   "metadata": {
    "colab": {},
    "colab_type": "code",
    "hidden": true,
    "id": "Nqq-ptmJF1AE"
   },
   "outputs": [],
   "source": [
    "compute_gradcam(axial_model_gtp, dg, list(range(100)), list(range(100)),layer_name='conv_7b_bn')"
   ]
  },
  {
   "cell_type": "code",
   "execution_count": null,
   "metadata": {
    "colab": {},
    "colab_type": "code",
    "hidden": true,
    "id": "TV3Ksg8Qzig5"
   },
   "outputs": [],
   "source": [
    "os.rename('/content/saved_models/axial_model_2.h5','/content/saved_models/axial_e3_t97_v97_8rots.h5')"
   ]
  },
  {
   "cell_type": "markdown",
   "metadata": {
    "colab_type": "text",
    "heading_collapsed": true,
    "id": "7Lh3FgHeN4A5"
   },
   "source": [
    "## DOwnstream Task Multi-Label Classification (Use Binary Crossentropy)"
   ]
  },
  {
   "cell_type": "markdown",
   "metadata": {
    "colab_type": "text",
    "hidden": true,
    "id": "DYPEjTOTOCxc"
   },
   "source": [
    "### Load Models"
   ]
  },
  {
   "cell_type": "code",
   "execution_count": null,
   "metadata": {
    "colab": {},
    "colab_type": "code",
    "hidden": true,
    "id": "_HFxz9h1OHeb"
   },
   "outputs": [],
   "source": [
    "sagittal_model = tf.keras.models.load_model('/content/JPP Sagittal 9patches 100 classes e2.h5',compile=False)"
   ]
  },
  {
   "cell_type": "code",
   "execution_count": null,
   "metadata": {
    "colab": {},
    "colab_type": "code",
    "hidden": true,
    "id": "UuDDiVM0OHhy"
   },
   "outputs": [],
   "source": [
    "coronal_model = tf.keras.models.load_model('/content/JPP coronal_model_9p 100cl.h5',compile=False)"
   ]
  },
  {
   "cell_type": "code",
   "execution_count": null,
   "metadata": {
    "colab": {},
    "colab_type": "code",
    "hidden": true,
    "id": "dyyqCoXWOHr5"
   },
   "outputs": [],
   "source": [
    "axial_model = tf.keras.models.load_model('/content/saved_models/axial_model_1.h5',compile=False)"
   ]
  },
  {
   "cell_type": "code",
   "execution_count": null,
   "metadata": {
    "colab": {},
    "colab_type": "code",
    "hidden": true,
    "id": "mK0TvoOJSjk_"
   },
   "outputs": [],
   "source": [
    "for slayer in sagittal_model.layers:\n",
    "    slayer._name = slayer._name+'_s'\n",
    "    slayer.trainable = False"
   ]
  },
  {
   "cell_type": "code",
   "execution_count": null,
   "metadata": {
    "colab": {},
    "colab_type": "code",
    "hidden": true,
    "id": "74iCFqq5Tmye"
   },
   "outputs": [],
   "source": [
    "for clayer in coronal_model.layers:\n",
    "    clayer._name = clayer._name + '_c'\n",
    "    clayer.trainable = False"
   ]
  },
  {
   "cell_type": "code",
   "execution_count": null,
   "metadata": {
    "colab": {},
    "colab_type": "code",
    "hidden": true,
    "id": "1zIBS24cSjpG"
   },
   "outputs": [],
   "source": [
    "for alayer in axial_model.layers:\n",
    "    alayer._name = alayer._name + '_a'\n",
    "    alayer.trainable = False"
   ]
  },
  {
   "cell_type": "code",
   "execution_count": null,
   "metadata": {
    "colab": {},
    "colab_type": "code",
    "hidden": true,
    "id": "zGKGA6K2MIX7"
   },
   "outputs": [],
   "source": [
    "# USAGE \n",
    "# util.compute_gradcam(model, '00008270_015.png',\n",
    "#                      IMAGE_DIR, df, labels, labels_to_show)\n",
    "\n",
    "def get_mean_std_per_batch(image_path, df, H=320, W=320):\n",
    "    sample_data = []\n",
    "    for idx, img in enumerate(df.sample(100)[\"Image\"].values):\n",
    "        # path = image_dir + img\n",
    "        sample_data.append(\n",
    "            np.array(image.load_img(image_path, target_size=(H, W))))\n",
    "\n",
    "    mean = np.mean(sample_data[0])\n",
    "    std = np.std(sample_data[0])\n",
    "    return mean, std\n",
    "\n",
    "def load_image(img, image_dir, df, preprocess=True, H=320, W=320):\n",
    "    \"\"\"Load and preprocess image.\"\"\"\n",
    "    img_path = image_dir + img\n",
    "    mean, std = get_mean_std_per_batch(img_path, df, H=H, W=W)\n",
    "    x = image.load_img(img_path, target_size=(H, W))\n",
    "    if preprocess:\n",
    "        x -= mean\n",
    "        x /= std\n",
    "        x = np.expand_dims(x, axis=0)\n",
    "    return x\n",
    "\n",
    "\n",
    "def grad_cam(input_model, image, cls, layer_name, H=256, W=256):\n",
    "    \"\"\"GradCAM method for visualizing input saliency.\"\"\"\n",
    "    with tf.GradientTape() as tape:\n",
    "        gradient_function = Model([input_model.input], \n",
    "                                       [input_model.get_layer(layer_name).output, input_model.output])\n",
    "        \n",
    "        conv_output, y_c = gradient_function([image.reshape((1,H,W,3))])\n",
    "        y_c = y_c[:,cls]\n",
    "    \n",
    "    grads_val = tape.gradient(y_c,conv_output)\n",
    "    \n",
    "    conv_output, grads_val = conv_output[0, :], grads_val[0, :, :, :]\n",
    "\n",
    "    weights = np.mean(grads_val, axis=(0, 1))\n",
    "    cam = np.dot(conv_output, weights)\n",
    "\n",
    "    # Process CAM\n",
    "    cam = resize(cam, (W, H),preserve_range=True)\n",
    "    cam = np.maximum(cam, 0)\n",
    "    cam = cam / cam.max()\n",
    "    return cam\n",
    "\n",
    "\n",
    "def compute_gradcam(model, datagen, labels, selected_labels,df=None,\n",
    "                    layer_name='bn'):\n",
    "    preprocessed_input, inp_labels = datagen.__getitem__(0) #(load_image(img, image_dir, df)\n",
    "    predictions = model.predict(preprocessed_input)\n",
    "    #print(predictions)\n",
    "\n",
    "    print(\"Loading original image\")\n",
    "    plt.figure(figsize=(45,30))\n",
    "    plt.subplot(7,4,1)\n",
    "    plt.title(\"Original\")\n",
    "    plt.axis('off')\n",
    "    org_img = (preprocessed_input[np.where(inp_labels==13)[0][0],:,:,:] + 1)/2\n",
    "    plt.imshow(org_img,cmap='gray') #load_image(img, image_dir, df, preprocess=False), cmap='gray')\n",
    "\n",
    "    j = 1\n",
    "    for i in range(len(inp_labels)):\n",
    "        if inp_labels[i] in selected_labels:\n",
    "            print(f\"Generating gradcam for class {inp_labels[i]}\")\n",
    "            gradcam = grad_cam(model, preprocessed_input[i], inp_labels[i], layer_name)\n",
    "            plt.subplot(7,4,1+j)\n",
    "            plt.title(f\"{inp_labels[i]}: p={predictions[i][inp_labels[i]]:.3f}\")\n",
    "            plt.axis('off')\n",
    "            plt.imshow((preprocessed_input[i]+1)/2, cmap='gray')\n",
    "            plt.imshow(gradcam, cmap='jet', alpha=min(0.5, predictions[i][inp_labels[i]]))\n",
    "            j+=1\n"
   ]
  },
  {
   "cell_type": "code",
   "execution_count": null,
   "metadata": {
    "colab": {
     "base_uri": "https://localhost:8080/",
     "height": 1000
    },
    "colab_type": "code",
    "hidden": true,
    "id": "yaV5jLoPJAvs",
    "outputId": "9fd426c8-2e97-4bd0-fbb0-fd454dbaaa2d"
   },
   "outputs": [],
   "source": [
    "compute_gradcam(sagittal_model, vdg, list(range(27)), list(range(27)),layer_name='conv_7b_bn')"
   ]
  },
  {
   "cell_type": "markdown",
   "metadata": {
    "colab_type": "text",
    "hidden": true,
    "id": "PsQLZf1imxiD"
   },
   "source": [
    "### Data Generator for Downstream Task\n",
    "\n",
    "1. Outputs batches of all 3 modes of MRI \n",
    "2. Output size (3, batch_size, num_frames , 256, 256, 3)\n",
    "3. Labels (batch_size, 3)\n",
    "\n",
    "Since since max batch size = 32, hence, not all frames can be accomodated. So need to sample frames at a fixed interval, so as to include all three modes in a single batch. So, max 10 frames from each mode, with batch-size = 1"
   ]
  },
  {
   "cell_type": "code",
   "execution_count": null,
   "metadata": {
    "colab": {},
    "colab_type": "code",
    "hidden": true,
    "id": "G5WZEdA3nOOu"
   },
   "outputs": [],
   "source": [
    "class DSDataGen(Sequence):\n",
    "    def __init__(self, phase, base_dir, labs_df, filenames_df, preprocess_input = None,batch_size=8, max_batch_size = 32, data_aug = True, num_frames = NUM_FRAMES, num_classes=NUM_CLASSES):\n",
    "        self.base_dir = base_dir\n",
    "        self.ph_mode_dir = base_dir+'/'+phase\n",
    "        self.filenames = os.listdir(self.ph_mode_dir)\n",
    "        self.phase = phase\n",
    "        self.batch_size = batch_size\n",
    "        self.num_frames = num_frames\n",
    "        self.num_classes = num_classes\n",
    "        self.filenames_df = filenames_df\n",
    "        self.preprocess_input = preprocess_input\n",
    "         \n",
    "        self.mode = ['sagittal','coronal','axial']\n",
    "        self.injury = ['abnormal','acl','meniscus']\n",
    "\n",
    "        self.mllabs = labs_df\n",
    "\n",
    "        self.indices = list(range(self.filenames_df.shape[0]))\n",
    "        \n",
    "        self.data_aug = data_aug\n",
    "\n",
    "\n",
    "    def get_random_shuffle_order(self,batch_sz):\n",
    "        blist = list(range(batch_sz))\n",
    "        random.shuffle(blist)\n",
    "        #print(blist)\n",
    "        return blist\n",
    "    \n",
    "    def load_volume(self,mode,file_idx):\n",
    "        filePoolLen = self.filenames_df.shape[0]\n",
    "        #print(file_idx)\n",
    "        file_idx = file_idx%filePoolLen \n",
    "        npy_file = np.load(self.ph_mode_dir+'/'+mode+'/'+self.filenames_df['filename'].iloc[file_idx])\n",
    "        return npy_file\n",
    "    \n",
    "    def get_frames(self,mode,idx):\n",
    "        image_volume = self.load_volume(mode,self.indices[idx])\n",
    "        tot_frames = image_volume.shape[0]\n",
    "        #print(mode,tot_frames)\n",
    "        sampling_interval = int(tot_frames/self.num_frames)\n",
    "        \n",
    "        nf_mid = int(self.num_frames/2)\n",
    "        nf_lr = int(nf_mid/2)\n",
    "        left_sec_end = int(tot_frames/2) - int(nf_mid/2)\n",
    "        right_sec_start = int(tot_frames/2) + int(nf_mid/2)\n",
    "        lr_samp_int = (tot_frames-nf_mid)/(self.num_frames-nf_mid)\n",
    "\n",
    "        left_frames = np.array(sorted(random.sample(range(left_sec_end),nf_lr)))\n",
    "        right_frames = np.array(sorted(random.sample(range(right_sec_start,tot_frames),nf_lr)))\n",
    "        mid_frames = np.array(sorted(list(range(left_sec_end,left_sec_end+nf_mid))))\n",
    "        #print(left_frames,mid_frames,right_frames)\n",
    "        frame_idxs = np.append(np.append(left_frames,mid_frames),right_frames)\n",
    "        #print(frame_idxs)\n",
    "\n",
    "        frames = np.array([]).reshape((0,256,256,3))\n",
    "        for n in range(self.num_frames):\n",
    "            frame_idx = frame_idxs[n] #np.random.randint(n*sampling_interval,(n+1)*sampling_interval,size=1)\n",
    "            frame = np.array(image_volume[[frame_idx],:,:])\n",
    "            frame = np.expand_dims(frame,axis=3)\n",
    "            frame = np.append(frame,np.append(frame,frame,axis=3),axis=3)\n",
    "            frames = np.append(frames,frame,axis=0)\n",
    "        #print(frames.shape)\n",
    "        return frames\n",
    "    \n",
    "    def __len__(self):\n",
    "        return int(np.floor((len(self.filenames))/self.batch_size))\n",
    "    \n",
    "    def __getitem__(self,idx):\n",
    "        \n",
    "        #DECLARE VARIABLES\n",
    "        sagittal_batch_imgs = np.array([]).reshape((0,256,256,3))\n",
    "        coronal_batch_imgs = np.array([]).reshape((0,256,256,3))\n",
    "        axial_batch_imgs = np.array([]).reshape((0,256,256,3))\n",
    "        ds_batch_labs = np.array([]).reshape((0,1))\n",
    "        \n",
    "        #CREATE BATCH\n",
    "        for bs in range(self.batch_size):\n",
    "            #GET CLIP FRAMES\n",
    "            sagittal_batch_imgs = np.append(sagittal_batch_imgs,self.get_frames('sagittal',idx),axis=0)\n",
    "            coronal_batch_imgs = np.append(coronal_batch_imgs,self.get_frames('coronal',idx),axis=0)\n",
    "            axial_batch_imgs = np.append(axial_batch_imgs,self.get_frames('axial',idx),axis=0)\n",
    "            \n",
    "            ds_batch_labs = self.mllabs['abn'].iloc[self.indices[idx]].reshape((1,-1))\n",
    "\n",
    "        #print(batch_imgs.shape)\n",
    "\n",
    "        #AUGMENT FRAMES\n",
    "        if self.data_aug:\n",
    "            sagittal_batch_imgs = self.__augment(sagittal_batch_imgs)\n",
    "            coronal_batch_imgs = self.__augment(coronal_batch_imgs)\n",
    "            axial_batch_imgs = self.__augment(axial_batch_imgs)\n",
    "\n",
    "\n",
    "        #PREPROCESS FRAMES\n",
    "        sagittal_batch_imgs = self.preprocess_input(sagittal_batch_imgs)\n",
    "        coronal_batch_imgs = self.preprocess_input(coronal_batch_imgs)\n",
    "        axial_batch_imgs = self.preprocess_input(axial_batch_imgs)\n",
    "        \n",
    "        return sagittal_batch_imgs, coronal_batch_imgs, axial_batch_imgs, ds_batch_labs\n",
    "    \n",
    "    def on_epoch_end(self):\n",
    "        random.shuffle(self.indices)\n",
    "    \n",
    "    def __augment(self,batch_imgs):\n",
    "        num_imgs = batch_imgs.shape[0]\n",
    "        rotang = np.random.choice([-30,0,30])\n",
    "        scale = np.random.choice([1,1.2])\n",
    "        transformation_matrix=np.array([[scale,           0,             np.random.choice([-25,0,25])],\n",
    "                                        [0,               scale,         np.random.choice([-25,0,25])],\n",
    "                                        [0,               0,                       1                 ]])\n",
    "        for i in range(num_imgs):\n",
    "            batch_imgs[i] = rotate(batch_imgs[i],rotang,preserve_range=True)\n",
    "            batch_imgs[i] = warp(batch_imgs[i], AffineTransform(matrix=transformation_matrix).inverse, preserve_range=True)\n",
    "            #print(batch_labs)\n",
    "                \n",
    "        return batch_imgs"
   ]
  },
  {
   "cell_type": "code",
   "execution_count": null,
   "metadata": {
    "colab": {},
    "colab_type": "code",
    "hidden": true,
    "id": "wJkkKy18DFCs"
   },
   "outputs": [],
   "source": [
    "dg = DSDataGen('train',mrnet_path,tr_multilabel,tr_filenames_df,ppi_irv2,batch_size=1,data_aug = False,num_frames=16,num_classes=3)"
   ]
  },
  {
   "cell_type": "code",
   "execution_count": null,
   "metadata": {
    "colab": {},
    "colab_type": "code",
    "hidden": true,
    "id": "DRRBM5KWDigN"
   },
   "outputs": [],
   "source": [
    "sbi,cbi,abi,dslabs = dg.__getitem__(3)"
   ]
  },
  {
   "cell_type": "code",
   "execution_count": null,
   "metadata": {
    "colab": {
     "base_uri": "https://localhost:8080/",
     "height": 34
    },
    "colab_type": "code",
    "hidden": true,
    "id": "FfKIbgAzbuw2",
    "outputId": "e325bfb6-4fea-4887-c869-ea55f550bff9"
   },
   "outputs": [],
   "source": [
    "dslabs.shape"
   ]
  },
  {
   "cell_type": "code",
   "execution_count": null,
   "metadata": {
    "colab": {
     "base_uri": "https://localhost:8080/",
     "height": 101
    },
    "colab_type": "code",
    "hidden": true,
    "id": "88TuT_pxWTrp",
    "outputId": "5891edb5-4b12-4e92-913e-2b78718dd598"
   },
   "outputs": [],
   "source": [
    "cbi[0,100:105,100:105,0]"
   ]
  },
  {
   "cell_type": "code",
   "execution_count": null,
   "metadata": {
    "colab": {
     "base_uri": "https://localhost:8080/",
     "height": 577
    },
    "colab_type": "code",
    "hidden": true,
    "id": "itKfwl4iWR3L",
    "outputId": "18588592-6920-41c4-e007-126970d4c838"
   },
   "outputs": [],
   "source": [
    "fig,axs=plt.subplots(4,4,figsize=(80,20))\n",
    "for i in range(16):\n",
    "  axs[int(i/4),i%4].imshow((1+cbi[i])/2,cmap='gray')\n",
    "  axs[int(i/4),i%4].set_title(str(i+1),fontsize=50)\n",
    "plt.show()"
   ]
  },
  {
   "cell_type": "code",
   "execution_count": null,
   "metadata": {
    "colab": {
     "base_uri": "https://localhost:8080/",
     "height": 577
    },
    "colab_type": "code",
    "hidden": true,
    "id": "ryurnrF7eOos",
    "outputId": "2cfa6340-4541-4e31-9633-11eaf5ca6f83"
   },
   "outputs": [],
   "source": [
    "fig,axs=plt.subplots(4,4,figsize=(80,20))\n",
    "for i in range(16):\n",
    "  axs[int(i/4),i%4].imshow((1+sbi[i])/2,cmap='gray')\n",
    "  axs[int(i/4),i%4].set_title(str(i+1),fontsize=50)\n",
    "plt.show()"
   ]
  },
  {
   "cell_type": "code",
   "execution_count": null,
   "metadata": {
    "colab": {
     "base_uri": "https://localhost:8080/",
     "height": 577
    },
    "colab_type": "code",
    "hidden": true,
    "id": "Df72TTrOeO4Q",
    "outputId": "5c34e5f2-c990-4de8-f110-299fea0a7a72"
   },
   "outputs": [],
   "source": [
    "fig,axs=plt.subplots(4,4,figsize=(80,20))\n",
    "for i in range(16):\n",
    "  axs[int(i/4),i%4].imshow((1+abi[i])/2,cmap='gray')\n",
    "  axs[int(i/4),i%4].set_title(str(i+1),fontsize=50)\n",
    "plt.show()"
   ]
  },
  {
   "cell_type": "code",
   "execution_count": null,
   "metadata": {
    "colab": {
     "base_uri": "https://localhost:8080/",
     "height": 313
    },
    "colab_type": "code",
    "hidden": true,
    "id": "IxuWpWlpYHoV",
    "outputId": "7d2e02f5-9333-4720-e7bf-666890341633"
   },
   "outputs": [],
   "source": [
    "images = []\n",
    "for i in range(10):\n",
    "    plt.imshow(sbi[i].astype('int'),cmap='gray')\n",
    "    plt.title(str(i+1),fontsize=50)\n",
    "    plt.savefig(str(i+1)+'.jpg')\n",
    "    image = imageio.imread(str(i+1)+'.jpg')\n",
    "    images.append(image)\n",
    "imageio.mimsave('/content/saved_models/sagittal_sampled_10.gif', images)"
   ]
  },
  {
   "cell_type": "markdown",
   "metadata": {
    "colab_type": "text",
    "hidden": true,
    "id": "iBn71kV_OICA"
   },
   "source": [
    "### Combine Outputs from the 3 modes and Add FC layers to it to produce final output\n",
    "\n",
    "1. 3 class output\n",
    "2. Binary Cross entropy loss\n",
    "3. Multi-label classification\n",
    "4. 1 hidden layer between concatenated output and final output layer"
   ]
  },
  {
   "cell_type": "code",
   "execution_count": null,
   "metadata": {
    "colab": {
     "base_uri": "https://localhost:8080/",
     "height": 187
    },
    "colab_type": "code",
    "hidden": true,
    "id": "WFqSHlT94A07",
    "outputId": "7459bf58-d1f4-4dd9-c181-8b3f5837bc77"
   },
   "outputs": [],
   "source": [
    "axial_model.layers[-10:]"
   ]
  },
  {
   "cell_type": "code",
   "execution_count": null,
   "metadata": {
    "colab": {},
    "colab_type": "code",
    "hidden": true,
    "id": "9K5zPSKTQmR0"
   },
   "outputs": [],
   "source": [
    "sagittal_output = sagittal_model.layers[-8].output\n",
    "coronal_output = coronal_model.layers[-8].output\n",
    "axial_output = axial_model.layers[-8].output"
   ]
  },
  {
   "cell_type": "code",
   "execution_count": null,
   "metadata": {
    "colab": {
     "base_uri": "https://localhost:8080/",
     "height": 163
    },
    "colab_type": "code",
    "hidden": true,
    "id": "lctw7auCeYdY",
    "outputId": "996b8084-58f5-478c-ca69-1e00722ffea1"
   },
   "outputs": [],
   "source": [
    "x = sagittal_model(sbi)"
   ]
  },
  {
   "cell_type": "code",
   "execution_count": null,
   "metadata": {
    "colab": {},
    "colab_type": "code",
    "hidden": true,
    "id": "24YdmpIAeh8V"
   },
   "outputs": [],
   "source": [
    "a = K.function([sagittal_model.input],[sagittal_model.layers[-5].output])"
   ]
  },
  {
   "cell_type": "code",
   "execution_count": null,
   "metadata": {
    "colab": {
     "base_uri": "https://localhost:8080/",
     "height": 163
    },
    "colab_type": "code",
    "hidden": true,
    "id": "EZJTRUGAfPJp",
    "outputId": "ee3f567b-35f2-4b47-949b-3db5a34a3aeb"
   },
   "outputs": [],
   "source": [
    "B = a([sbi])"
   ]
  },
  {
   "cell_type": "code",
   "execution_count": null,
   "metadata": {
    "colab": {},
    "colab_type": "code",
    "hidden": true,
    "id": "bO1rv7D5bSFO"
   },
   "outputs": [],
   "source": [
    "B = 2*(B-np.min(B))/(np.max(B)-np.min(B)) - 1"
   ]
  },
  {
   "cell_type": "code",
   "execution_count": null,
   "metadata": {
    "colab": {},
    "colab_type": "code",
    "hidden": true,
    "id": "Dz_RFjMlaotW"
   },
   "outputs": [],
   "source": [
    "C = (B-np.mean(B))/np.std(B)"
   ]
  },
  {
   "cell_type": "code",
   "execution_count": null,
   "metadata": {
    "colab": {
     "base_uri": "https://localhost:8080/",
     "height": 34
    },
    "colab_type": "code",
    "hidden": true,
    "id": "nVPUGacaYiy8",
    "outputId": "d985c68b-0807-4157-d340-757b8521f7ac"
   },
   "outputs": [],
   "source": [
    "np.min(B)"
   ]
  },
  {
   "cell_type": "code",
   "execution_count": null,
   "metadata": {
    "colab": {
     "base_uri": "https://localhost:8080/",
     "height": 34
    },
    "colab_type": "code",
    "hidden": true,
    "id": "NZiNHayPflEE",
    "outputId": "5213eba6-db2a-4f3b-bd79-61409420618f"
   },
   "outputs": [],
   "source": [
    "np.max(B)"
   ]
  },
  {
   "cell_type": "code",
   "execution_count": null,
   "metadata": {
    "colab": {
     "base_uri": "https://localhost:8080/",
     "height": 34
    },
    "colab_type": "code",
    "hidden": true,
    "id": "dPIdp20Bftwq",
    "outputId": "f1bb352f-1330-4259-b166-3ca0e62fe579"
   },
   "outputs": [],
   "source": [
    "1./(1+np.exp(-16))"
   ]
  },
  {
   "cell_type": "code",
   "execution_count": null,
   "metadata": {
    "colab": {
     "base_uri": "https://localhost:8080/",
     "height": 34
    },
    "colab_type": "code",
    "hidden": true,
    "id": "1rkLwW0xPvyu",
    "outputId": "5bc7fe47-f24d-4aa0-e6f0-20ca506ea897"
   },
   "outputs": [],
   "source": [
    "print(axial_output.shape)"
   ]
  },
  {
   "cell_type": "markdown",
   "metadata": {
    "colab_type": "text",
    "hidden": true,
    "id": "Ij0iNUc0r006"
   },
   "source": [
    "##### Can try normalizing filter wise instead of whole normalzing"
   ]
  },
  {
   "cell_type": "code",
   "execution_count": null,
   "metadata": {
    "colab": {},
    "colab_type": "code",
    "hidden": true,
    "id": "X6dxEXhPfNrs"
   },
   "outputs": [],
   "source": [
    "sagittal_output = 2*(sagittal_output-K.min(sagittal_output))/(K.max(sagittal_output)-K.min(sagittal_output))-1\n",
    "coronal_output = 2*(coronal_output-K.min(coronal_output))/(K.max(coronal_output)-K.min(coronal_output))-1\n",
    "axial_output = 2*(axial_output-K.min(axial_output))/(K.max(axial_output)-K.min(axial_output))-1"
   ]
  },
  {
   "cell_type": "code",
   "execution_count": null,
   "metadata": {
    "colab": {
     "base_uri": "https://localhost:8080/",
     "height": 68
    },
    "colab_type": "code",
    "hidden": true,
    "id": "_iNClVxSQmwz",
    "outputId": "dc64002e-7b49-46d3-848e-95e1a49d8538"
   },
   "outputs": [],
   "source": [
    "ps = 4\n",
    "s = 2\n",
    "sagittal_out = AveragePooling2D(pool_size=(ps,ps),strides=s)(sagittal_output)\n",
    "coronal_out = AveragePooling2D(pool_size=(ps,ps),strides=s)(coronal_output)\n",
    "axial_out = AveragePooling2D(pool_size=(ps,ps),strides=s)(axial_output)\n",
    "print(axial_out.shape)\n",
    "\n",
    "sagittal_out = tf.math.reduce_max(sagittal_out,axis=0,keepdims=True)\n",
    "coronal_out = tf.math.reduce_max(coronal_out,axis=0,keepdims=True)\n",
    "axial_out = tf.math.reduce_max(axial_out,axis=0,keepdims=True)\n",
    "print(axial_out.shape)\n",
    "\n",
    "sagittal_out = Flatten()(sagittal_out)\n",
    "coronal_out = Flatten()(coronal_out)\n",
    "axial_out = Flatten()(axial_out)\n",
    "print(axial_out.shape)\n",
    "\n",
    "concatenated_modes = Concatenate(axis=1)([sagittal_out,coronal_out,axial_out])\n",
    "\n",
    "x = Dense(4096,activation='relu',kernel_regularizer=regularizers.l2(0.0001))(concatenated_modes)\n",
    "\n",
    "x = Dense(4096,activation='relu',kernel_regularizer=regularizers.l2(0.0001))(x)\n",
    "\n",
    "output = Dense(NUM_DCLASSES,activation='softmax')(x)\n",
    "\n"
   ]
  },
  {
   "cell_type": "code",
   "execution_count": null,
   "metadata": {
    "colab": {},
    "colab_type": "code",
    "hidden": true,
    "id": "YkzkYx3OQnA4"
   },
   "outputs": [],
   "source": [
    "ds_model = Model(inputs = [sagittal_model.input,coronal_model.input,axial_model.input], outputs = [output_abn,output_acl,output_men])"
   ]
  },
  {
   "cell_type": "code",
   "execution_count": null,
   "metadata": {
    "colab": {
     "base_uri": "https://localhost:8080/",
     "height": 1000
    },
    "colab_type": "code",
    "hidden": true,
    "id": "dW2kLWFrX_v7",
    "outputId": "da01807f-5a7d-4231-b2c2-e5fb3b27fefa"
   },
   "outputs": [],
   "source": [
    "ds_model.summary()"
   ]
  },
  {
   "cell_type": "code",
   "execution_count": null,
   "metadata": {
    "colab": {},
    "colab_type": "code",
    "hidden": true,
    "id": "TOiH97iFY1JK"
   },
   "outputs": [],
   "source": [
    "plot_model(ds_model, to_file='DS_model.png',show_shapes=True)"
   ]
  },
  {
   "cell_type": "code",
   "execution_count": null,
   "metadata": {
    "colab": {
     "base_uri": "https://localhost:8080/",
     "height": 70
    },
    "colab_type": "code",
    "hidden": true,
    "id": "flEmz215JD9D",
    "outputId": "0b9033b0-e7f0-472e-eaab-13ea733eeb6c"
   },
   "outputs": [],
   "source": [
    "names=[]\n",
    "for l in ds_model.layers:\n",
    "    names.append(l.name)\n",
    "print(names)\n",
    "print(len(ds_model.trainable_variables))"
   ]
  },
  {
   "cell_type": "code",
   "execution_count": null,
   "metadata": {
    "colab": {
     "base_uri": "https://localhost:8080/",
     "height": 105
    },
    "colab_type": "code",
    "hidden": true,
    "id": "T9lT8TFw_h7n",
    "outputId": "f3e906bd-d888-48e1-e68e-c5d614a9dccf"
   },
   "outputs": [],
   "source": [
    "class_weights = {0:0,1:0,2:0}\n",
    "class_weights[0] = np.count_nonzero(trabn.iloc[:,1].values==1)\n",
    "class_weights[1] = np.count_nonzero(tracl.iloc[:,1].values==1)\n",
    "class_weights[2] = np.count_nonzero(trmen.iloc[:,1].values==1)\n",
    "\n",
    "cwb = {0:{0:1130-class_weights[0],1:class_weights[0]},\n",
    "                     1:{0:1130-class_weights[1],1:class_weights[1]},\n",
    "                     2:{0:1130-class_weights[2],1:class_weights[2]}}\n",
    "\n",
    "for k in list(cwb.keys()):\n",
    "    for kb in list(cwb[k].keys()):\n",
    "        cwb[k][kb] = 1130./(2*cwb[k][kb])\n",
    "\n",
    "print(cwb)\n",
    "\n",
    "cw = np.array([[cwb[0][1],cwb[0][0]],[cwb[1][1],cwb[1][0]],[cwb[2][1],cwb[2][0]]])\n",
    "print(cw)"
   ]
  },
  {
   "cell_type": "code",
   "execution_count": null,
   "metadata": {
    "colab": {
     "base_uri": "https://localhost:8080/",
     "height": 34
    },
    "colab_type": "code",
    "hidden": true,
    "id": "GL-5L7i8u4FR",
    "outputId": "f38d96dc-b899-4449-bbc5-013015759361"
   },
   "outputs": [],
   "source": [
    "cw.shape"
   ]
  },
  {
   "cell_type": "code",
   "execution_count": null,
   "metadata": {
    "colab": {},
    "colab_type": "code",
    "hidden": true,
    "id": "YJeQnitLWj5K"
   },
   "outputs": [],
   "source": [
    "cw[0,:] = cw[0,:]/np.max(cw[0,:])\n",
    "cw[1,:] = cw[1,:]/np.max(cw[1,:])\n",
    "cw[2,:] = cw[2,:]/np.max(cw[2,:])"
   ]
  },
  {
   "cell_type": "code",
   "execution_count": null,
   "metadata": {
    "colab": {
     "base_uri": "https://localhost:8080/",
     "height": 67
    },
    "colab_type": "code",
    "hidden": true,
    "id": "xV56V1v3irKd",
    "outputId": "69430adf-6370-49cc-b9bb-bcbdb050e042"
   },
   "outputs": [],
   "source": [
    "cw"
   ]
  },
  {
   "cell_type": "markdown",
   "metadata": {
    "colab_type": "text",
    "hidden": true,
    "id": "QjVKFNabLmh7"
   },
   "source": [
    "### Loss "
   ]
  },
  {
   "cell_type": "code",
   "execution_count": null,
   "metadata": {
    "colab": {
     "base_uri": "https://localhost:8080/",
     "height": 50
    },
    "colab_type": "code",
    "hidden": true,
    "id": "O1MccbLBBqLr",
    "outputId": "36a692cc-e749-4a5a-ad4e-a799376b870d"
   },
   "outputs": [],
   "source": [
    "for layer in ds_model.layers:\n",
    "    if layer.trainable==True:\n",
    "        if 'dense' in layer.name:\n",
    "            #print(layer.get_weights()[0])\n",
    "            print( 1e-3 * K.sum(K.square(layer.get_weights()[0])).numpy())"
   ]
  },
  {
   "cell_type": "code",
   "execution_count": null,
   "metadata": {
    "colab": {},
    "colab_type": "code",
    "hidden": true,
    "id": "nfP76t3aAqdz"
   },
   "outputs": [],
   "source": [
    "def weight_loss(model,l=1e-4):\n",
    "    weight_decay_loss = 0.0\n",
    "    for layer in model.layers:\n",
    "        if layer.trainable == True:\n",
    "            if len(layer.get_weights())>0:\n",
    "                for i in range(2):\n",
    "                    weight_decay_loss += l * K.sum(K.square(layer.get_weights()[i]))\n",
    "    \n",
    "    return weight_decay_loss"
   ]
  },
  {
   "cell_type": "code",
   "execution_count": null,
   "metadata": {
    "colab": {},
    "colab_type": "code",
    "hidden": true,
    "id": "A2QkahYp9AoB"
   },
   "outputs": [],
   "source": [
    "def smooth_label(y_true,smooth_val=0.1):\n",
    "    y_true[np.where(y_true==0)] = smooth_val\n",
    "    y_true[np.where(y_true==1)] = 1-smooth_val\n",
    "\n",
    "    return y_true"
   ]
  },
  {
   "cell_type": "code",
   "execution_count": null,
   "metadata": {
    "colab": {},
    "colab_type": "code",
    "hidden": true,
    "id": "gyJXv29MQnIv"
   },
   "outputs": [],
   "source": [
    "def grads_ds(model_ds, ds_inputs, y_true, grad_clip = False):\n",
    "    \n",
    "    with tf.GradientTape() as ds_tape:\n",
    "        #y_pred = model_ds(ds_inputs)\n",
    "\n",
    "        y_pred = model_ds(ds_inputs)\n",
    "        \n",
    "        Xentloss = tf.keras.losses.categorical_crossentropy(to_categorical(y_true=num_classes=NUM_DCLASSES),y_pred)\n",
    "\n",
    "        loss_value_ds = Xentloss + model_ds.losses[0] \n",
    "\n",
    "    ds_grads = ds_tape.gradient(loss_value_ds,model_ds.trainable_variables,unconnected_gradients=tf.UnconnectedGradients.NONE)\n",
    "    \n",
    "    if grad_clip:\n",
    "        for i in range(len(ds_grads)):\n",
    "            ds_grads[i] = K.clip(ds_grads[i],min_value = -10**(-5), max_value = 10**(-5))\n",
    "    \n",
    "    return loss_value_ds, ds_grads"
   ]
  },
  {
   "cell_type": "code",
   "execution_count": null,
   "metadata": {
    "colab": {
     "base_uri": "https://localhost:8080/",
     "height": 34
    },
    "colab_type": "code",
    "hidden": true,
    "id": "u84k0vcnvhQf",
    "outputId": "84428ab4-1a7f-46d3-f323-0967a4ea861b"
   },
   "outputs": [],
   "source": [
    "y_true[0].shape"
   ]
  },
  {
   "cell_type": "code",
   "execution_count": null,
   "metadata": {
    "colab": {
     "base_uri": "https://localhost:8080/",
     "height": 34
    },
    "colab_type": "code",
    "hidden": true,
    "id": "-Th1bn-EXX2y",
    "outputId": "ae2a91d1-7acb-4a8e-95b2-82cb888f0c95"
   },
   "outputs": [],
   "source": [
    "ds_model.losses[0].numpy()"
   ]
  },
  {
   "cell_type": "markdown",
   "metadata": {
    "colab_type": "text",
    "hidden": true,
    "id": "qLQGSjW3LqNN"
   },
   "source": [
    "### Traiing loop"
   ]
  },
  {
   "cell_type": "code",
   "execution_count": null,
   "metadata": {
    "colab": {},
    "colab_type": "code",
    "hidden": true,
    "id": "16JV4WRRtpjg"
   },
   "outputs": [],
   "source": [
    "optimizer = tf.keras.optimizers.Adam(lr=0.00001) #lr = 1e-5 for finetuning whole 1e-4 for only FC"
   ]
  },
  {
   "cell_type": "code",
   "execution_count": null,
   "metadata": {
    "colab": {},
    "colab_type": "code",
    "hidden": true,
    "id": "AdYkfi77tpjv"
   },
   "outputs": [],
   "source": [
    "tdg = DSDataGen('train','/root/MRNet/MRNet-v1.0',tr_multilabel,tr_filenames_df,preprocess_input = ppi_irv2,batch_size=1,data_aug = True,num_frames=16,num_classes=3)"
   ]
  },
  {
   "cell_type": "code",
   "execution_count": null,
   "metadata": {
    "colab": {},
    "colab_type": "code",
    "hidden": true,
    "id": "6alzIteAtpj0"
   },
   "outputs": [],
   "source": [
    "vdg = DSDataGen('valid','/root/MRNet/MRNet-v1.0',val_multilabel,val_filenames_df,preprocess_input = ppi_irv2,batch_size=1,data_aug = False,num_frames=16,num_classes=3)"
   ]
  },
  {
   "cell_type": "code",
   "execution_count": null,
   "metadata": {
    "colab": {},
    "colab_type": "code",
    "hidden": true,
    "id": "tm8A_9uqd9ny"
   },
   "outputs": [],
   "source": [
    "train_loss = []\n",
    "train_acc = []\n",
    "val_loss = []\n",
    "val_acc = []\n",
    "\n",
    "abn_tr_acc = []\n",
    "acl_tr_acc = []\n",
    "men_tr_acc = []\n",
    "abn_val_acc = []\n",
    "acl_val_acc = []\n",
    "men_val_acc = []"
   ]
  },
  {
   "cell_type": "code",
   "execution_count": null,
   "metadata": {
    "colab": {
     "base_uri": "https://localhost:8080/",
     "height": 343
    },
    "colab_type": "code",
    "hidden": true,
    "id": "h1_hBOl-QnQR",
    "outputId": "4aa9df37-07cb-4de8-ea23-d15a867ad12a"
   },
   "outputs": [],
   "source": [
    "#bot = botCallback(access_token)\n",
    "\n",
    "temp_val_accuracy = 0\n",
    "least_loss = np.Inf\n",
    "wait = 0\n",
    "lr_changed = 0\n",
    "\n",
    "num_epochs = 10\n",
    "\n",
    "for epoch in range(num_epochs):\n",
    "    stime = time.time()\n",
    "    print(\"Epoch : \"+str(epoch)+'...')\n",
    "    #bot.send_message(\"Epoch : \"+str(epoch)+'...')\n",
    "    \n",
    "    tr_loss_avg = tf.keras.metrics.Mean()\n",
    "    tr_accuracy = tf.keras.metrics.CategoricalAccuracy()\n",
    "    abn_tr_accuracy = tf.keras.metrics.BinaryAccuracy()\n",
    "    acl_tr_accuracy = tf.keras.metrics.BinaryAccuracy()\n",
    "    men_tr_accuracy = tf.keras.metrics.BinaryAccuracy()\n",
    "    val_loss_avg = tf.keras.metrics.Mean()\n",
    "    val_accuracy = tf.keras.metrics.CategoricalAccuracy()\n",
    "    abn_val_accuracy = tf.keras.metrics.BinaryAccuracy()\n",
    "    acl_val_accuracy = tf.keras.metrics.BinaryAccuracy()\n",
    "    men_val_accuracy = tf.keras.metrics.BinaryAccuracy()\n",
    "    #TRAINING\n",
    "    \n",
    "    for niter in range(1130):\n",
    "        if (niter+1)%100==0:\n",
    "            print(\"Iteration : %s Time : %s Accuracy : %s Loss : %s\"%(niter+1,time.time()-stime,tr_accuracy.result().numpy(),tr_loss_avg.result().numpy()))\n",
    "            train_loss.append(tr_loss_avg.result().numpy())\n",
    "            train_acc.append(tr_accuracy.result().numpy())\n",
    "            abn_tr_acc.append(abn_tr_accuracy.result().numpy())\n",
    "            acl_tr_acc.append(acl_tr_accuracy.result().numpy())\n",
    "            men_tr_acc.append(men_tr_accuracy.result().numpy())\n",
    "\n",
    "            #print(\"True and Predicted Values : \",ds_out_true,ds_out_pred.numpy())\n",
    "\n",
    "            #VALIDATION\n",
    "    \n",
    "            for viter in range(120):\n",
    "                sag_inputs,cor_inputs,ax_inputs,ds_out_true = vdg.__getitem__(viter)\n",
    "        \n",
    "                ds_pred = ds_model([sag_inputs,cor_inputs,ax_inputs])\n",
    "\n",
    "                val_loss_value_ds = tf.keras.losses.categorical_crossentropy(to_categorical(ds_out_true,num_classes = NUM_DCLASSES),ds_pred)\n",
    "        \n",
    "                val_loss_avg.update_state(val_loss_value_ds)\n",
    "                val_accuracy.update_state(to_categorical(ds_out_true,num_classes=NUM_DCLASSES),ds_pred.numpy()))\n",
    "                abn_val_accuracy.update_state(np.array(invlabel_map[ds_out_true][0]).reshape((1,1)),np.array(invlabel_map[np.argmax(ds_pred.numpy())[0]][0]).reshape((1,1)))\n",
    "                acl_val_accuracy.update_state(np.array(invlabel_map[ds_out_true][1]).reshape((1,1)),np.array(invlabel_map[np.argmax(ds_pred.numpy())[0]][1]).reshape((1,1)))\n",
    "                men_val_accuracy.update_state(np.array(invlabel_map[ds_out_true][2]).reshape((1,1)),np.array(invlabel_map[np.argmax(ds_pred.numpy())[0]][2]).reshape((1,1)))\n",
    "\n",
    "            val_loss.append(val_loss_avg.result().numpy())\n",
    "            val_acc.append(val_accuracy.result().numpy())\n",
    "            abn_val_acc.append(abn_val_accuracy.result().numpy())\n",
    "            acl_val_acc.append(acl_val_accuracy.result().numpy())\n",
    "            men_val_acc.append(men_val_accuracy.result().numpy())\n",
    "        \n",
    "        sag_inputs, cor_inputs, ax_inputs, ds_out_true = tdg.__getitem__(niter)\n",
    "        \n",
    "        #FORWARD PROP THROUGH TOC AND CALCUATE LOSS\n",
    "        loss_value_ds, ds_grads = grads_ds(ds_model, [sag_inputs,cor_inputs,ax_inputs],to_categorical(ds_out_true,num_classes=NUM_DCLASSES))\n",
    "        #print(ds_grads)\n",
    "        #UPDATE WEIGHTS AND SHARE\n",
    "        #break\n",
    "        optimizer.apply_gradients(zip(ds_grads,ds_model.trainable_weights))\n",
    "\n",
    "        #print(ds_model.trainable_weights)\n",
    "\n",
    "        ds_out_pred = ds_model([sag_inputs,cor_inputs,ax_inputs])\n",
    "\n",
    "        tr_loss_avg.update_state(loss_value_ds)\n",
    "        tr_accuracy.update_state(to_categorical(ds_out_true,num_classes=NUM_DCLASSES),ds_out_pred.numpy()))\n",
    "        abn_tr_accuracy.update_state(np.array(invlabel_map[ds_out_true][0]).reshape((1,1)),np.array(invlabel_map[np.argmax(ds_out_pred.numpy())[0]][0]).reshape((1,1)))\n",
    "        acl_tr_accuracy.update_state(np.array(invlabel_map[ds_out_true][1]).reshape((1,1)),np.array(invlabel_map[np.argmax(ds_out_pred.numpy())[0]][1]).reshape((1,1)))\n",
    "        men_tr_accuracy.update_state(np.array(invlabel_map[ds_out_true][2]).reshape((1,1)),np.array(invlabel_map[np.argmax(ds_out_pred.numpy())[0]][2]).reshape((1,1)))\n",
    "    \n",
    "    print(\"Epoch {:03d}:\\n Training Loss: {:.4f}, Training Accuracy: {:.3%}\\n Validation Loss: {:.4f}, Validation Accuracy: {:.3%}\\n\".format(epoch,\n",
    "                                                                                                                                           tr_loss_avg.result().numpy(),\n",
    "                                                                                                                                           tr_accuracy.result().numpy(),\n",
    "                                                                                                                                          val_loss_avg.result().numpy(),\n",
    "                                                                                                                                        val_accuracy.result().numpy()))\n",
    "    #SEND MESSAGE\n",
    "    #break\n",
    "    \n",
    "    '''bot.send_message(\"Epoch {:03d}:\\n Training Loss: {:.4f}, Training Accuracy: {:.3%}\\n Validation Loss: {:.4f}, Validation Accuracy: {:.3%}\\n\".format(epoch,\n",
    "                                                                                                                                           epoch_loss_avg.result(),\n",
    "                                                                                                                                           epoch_accuracy.result(),\n",
    "                                                                                                                                          val_loss_avg.result(),\n",
    "                                                                                                                                        val_accuracy.result()))'''\n",
    "    #SEND PLOTS\n",
    "    f,(ax1,ax2) = plt.subplots(1,2,sharex=True)\n",
    "\n",
    "    #clear_output(wait=True)\n",
    "\n",
    "    ax1.plot(range(11*(epoch+1)), train_loss, label='Training Loss')\n",
    "    ax1.plot(range(11*(epoch+1)), val_loss, label='Validation Loss')\n",
    "    ax1.set_title(\"Losses\")\n",
    "    ax1.set_ylim(bottom=0,top=np.max([np.max(train_loss),np.max(val_loss)]))\n",
    "    ax1.legend()\n",
    "\n",
    "    ax2.plot(range(11*(epoch+1)), train_acc, label='Training Accuracy')\n",
    "    ax2.plot(range(11*(epoch+1)), val_acc, label='Validation Accuracy')\n",
    "    ax2.set_title(\"Accuracy\")\n",
    "    ax2.set_ylim(0.0,1.0)\n",
    "    ax2.legend()\n",
    "\n",
    "    plt.savefig('Accuracy and Loss plot'+str(epoch)+'.jpg')\n",
    "    \n",
    "    plt.show()\n",
    "\n",
    "    #INDIVIDUAL PLOTS\n",
    "    f,(ax1,ax2,ax3) = plt.subplots(1,3,sharex=True)\n",
    "\n",
    "    #clear_output(wait=True)\n",
    "\n",
    "    ax1.plot(range(11*(epoch+1)), abn_tr_acc, label='Training Accuracy')\n",
    "    ax1.plot(range(11*(epoch+1)), abn_val_acc, label='Validation Accuracy')\n",
    "    ax1.set_title('Abnormality Accuracy')\n",
    "    ax1.set_ylim(0.0,1.0)\n",
    "    ax1.set_xlim(0,20)\n",
    "    ax1.legend()\n",
    "\n",
    "    ax2.plot(range(11*(epoch+1)), acl_tr_acc, label='Training Accuracy')\n",
    "    ax2.plot(range(11*(epoch+1)), acl_val_acc, label='Validation Accuracy')\n",
    "    ax2.set_title('ACL Tear Accuracy')\n",
    "    ax2.set_ylim(0.0,1.0)\n",
    "    ax2.legend()\n",
    "\n",
    "    ax3.plot(range(11*(epoch+1)), men_tr_acc, label='Training Accuracy')\n",
    "    ax3.plot(range(11*(epoch+1)), men_val_acc, label='Validation Accuracy')\n",
    "    ax3.set_title('Meniscus Tear Accuracy')\n",
    "    ax3.set_ylim(0.0,1.0)\n",
    "    ax3.legend()\n",
    "\n",
    "    plt.savefig('Injury Prediction Accuracy Plot'+str(epoch)+'.jpg')\n",
    "    \n",
    "    plt.show()\n",
    "    \n",
    "    #bot.send_photo('Injury Prediction Accuracy Plot'+str(epoch)+'.jpg')\n",
    "    \n",
    "    #CHECK POINT\n",
    "    print(\"Saving after Epoch : \"+str(epoch))\n",
    "    #model_toc.save('saved_models/model_toc_'+str(epoch)+'.h5')\n",
    "    ds_model.save('saved_models/ds_model_'+str(epoch)+'.h5')\n",
    "    \n",
    "    \n",
    "    if val_accuracy.result() > temp_val_accuracy:\n",
    "        print(\"Saving Best Model...\")\n",
    "        #model_toc.save('saved_models/model_toc_'+str(epoch)+'_ValAcc_'+str(val_accuracy.result())+'.h5')\n",
    "        #model_gt.save('saved_models/model_gt_'+str(epoch)+'_ValAcc_'+str(val_accuracy.result())+'.h5')\n",
    "        temp_val_accuracy = val_accuracy.result()\n",
    "    \n",
    "    '''#EARLY STOPPING\n",
    "    if val_loss_avg.result() < least_loss:\n",
    "        least_loss = val_loss_avg.result()\n",
    "        wait = 0\n",
    "    else:\n",
    "        wait+=1'''\n",
    "    \n",
    "    '''if lr_changed and wait==5:\n",
    "        print(\"Early Stopping at Epoch : \"+str(epoch+1))\n",
    "        bot.send_message(\"Early Stopping at Epoch : \"+str(epoch+1))\n",
    "        break'''\n",
    "        \n",
    "    '''#REDUCE LR\n",
    "    if wait>=5:\n",
    "        print(\"Reducing Learning Rate at Epoch : \"+str(epoch+1))\n",
    "        bot.send_message(\"Reducing Learning Rate at Epoch : \"+str(epoch+1))\n",
    "        optimizer = tf.keras.optimizers.SGD(learning_rate=lr/2, momentum=0.9, nesterov=True)\n",
    "        lr_changed = 1\n",
    "        wait = 0'''\n",
    "    \n",
    "    "
   ]
  },
  {
   "cell_type": "code",
   "execution_count": null,
   "metadata": {
    "colab": {
     "base_uri": "https://localhost:8080/",
     "height": 34
    },
    "colab_type": "code",
    "hidden": true,
    "id": "96m8qpGG4PEC",
    "outputId": "343ad131-f615-491e-8c46-22e23621610f"
   },
   "outputs": [],
   "source": [
    "ds_pred_abn"
   ]
  },
  {
   "cell_type": "code",
   "execution_count": null,
   "metadata": {
    "colab": {
     "base_uri": "https://localhost:8080/",
     "height": 268
    },
    "colab_type": "code",
    "hidden": true,
    "id": "W9aytjeJvg7W",
    "outputId": "d4f9fb38-3eb5-4aa6-ddad-c040f3037016"
   },
   "outputs": [],
   "source": [
    "y = np.array([]).reshape((0,3))\n",
    "abnpred = np.array([]).reshape((0,1))\n",
    "aclpred = np.array([]).reshape((0,1))\n",
    "menpred = np.array([]).reshape((0,1))\n",
    "for i in range(120):\n",
    "    i1,i2,i3,gtp_out_true = vdg.__getitem__(i)\n",
    "    #print(gtp_out_true.shape)\n",
    "    y = np.append(y,gtp_out_true,axis=0)\n",
    "    gtp_pred = ds_model([i1,i2,i3])\n",
    "    #gtp_pred = (1+gtp_pred)/2\n",
    "    print(gtp_pred)\n",
    "    abnpred = np.append(abnpred,gtp_pred.numpy()[0][0].reshape((1,1)),axis=0)\n",
    "    aclpred = np.append(aclpred,gtp_pred.numpy()[0][1].reshape((1,1)),axis=0)\n",
    "    menpred = np.append(menpred,gtp_pred.numpy()[0][2].reshape((1,1)),axis=0)\n",
    "\n",
    "class_labels = ['abnormality','acl tear','meniscus tear']"
   ]
  },
  {
   "cell_type": "code",
   "execution_count": null,
   "metadata": {
    "colab": {
     "base_uri": "https://localhost:8080/",
     "height": 34
    },
    "colab_type": "code",
    "hidden": true,
    "id": "g89QOLQnyml1",
    "outputId": "21a49f9d-85d2-4c12-d18f-32f90bf89c7b"
   },
   "outputs": [],
   "source": [
    "y.shape"
   ]
  },
  {
   "cell_type": "code",
   "execution_count": null,
   "metadata": {
    "colab": {
     "base_uri": "https://localhost:8080/",
     "height": 34
    },
    "colab_type": "code",
    "hidden": true,
    "id": "G1XG1IiIy1Hl",
    "outputId": "51ee715b-1388-4c03-fae7-dd7914b68290"
   },
   "outputs": [],
   "source": [
    "abnpred.shape"
   ]
  },
  {
   "cell_type": "code",
   "execution_count": null,
   "metadata": {
    "colab": {
     "base_uri": "https://localhost:8080/",
     "height": 67
    },
    "colab_type": "code",
    "hidden": true,
    "id": "DM0ci2hXyhWb",
    "outputId": "5c088087-1258-4d77-ace1-a73c7d8554cb"
   },
   "outputs": [],
   "source": [
    "abn_perf_metrics_df = get_performance_metrics(y[:,0].reshape((-1,1)), abnpred.reshape((-1,1)), ['abnormality'], tp=TP,tn=TN, \n",
    "                                          fp=FP, fn=FN, acc=get_accuracy, \n",
    "                                          prevalence=get_prevalence, \n",
    "                                          spec=specificity,sens=sensitivity, \n",
    "                                          ppv=get_ppv, npv=get_npv, \n",
    "                                          auc=roc_auc_score, f1=f1_score,\n",
    "                                          thresholds=[])\n",
    "acl_perf_metrics_df = get_performance_metrics(y[:,1].reshape((-1,1)), aclpred.reshape((-1,1)), ['acl tear'], tp=TP,tn=TN, \n",
    "                                          fp=FP, fn=FN, acc=get_accuracy, \n",
    "                                          prevalence=get_prevalence, \n",
    "                                          spec=specificity,sens=sensitivity, \n",
    "                                          ppv=get_ppv, npv=get_npv, \n",
    "                                          auc=roc_auc_score, f1=f1_score,\n",
    "                                          thresholds=[])\n",
    "men_perf_metrics_df = get_performance_metrics(y[:,2].reshape((-1,1)), menpred.reshape((-1,1)), ['meniscus'], tp=TP,tn=TN, \n",
    "                                          fp=FP, fn=FN, acc=get_accuracy, \n",
    "                                          prevalence=get_prevalence, \n",
    "                                          spec=specificity,sens=sensitivity, \n",
    "                                          ppv=get_ppv, npv=get_npv, \n",
    "                                          auc=roc_auc_score, f1=f1_score,\n",
    "                                          thresholds=[])"
   ]
  },
  {
   "cell_type": "code",
   "execution_count": null,
   "metadata": {
    "colab": {
     "base_uri": "https://localhost:8080/",
     "height": 90
    },
    "colab_type": "code",
    "hidden": true,
    "id": "HYoVeYjgzJk0",
    "outputId": "4ea6a0db-1bd2-4000-f082-f95f83f88302"
   },
   "outputs": [],
   "source": [
    "abn_perf_metrics_df"
   ]
  },
  {
   "cell_type": "code",
   "execution_count": null,
   "metadata": {
    "colab": {
     "base_uri": "https://localhost:8080/",
     "height": 90
    },
    "colab_type": "code",
    "hidden": true,
    "id": "7K4deRIazz_H",
    "outputId": "d6bba2dc-7335-4596-de5b-f55b0377e667"
   },
   "outputs": [],
   "source": [
    "acl_perf_metrics_df"
   ]
  },
  {
   "cell_type": "code",
   "execution_count": null,
   "metadata": {
    "colab": {
     "base_uri": "https://localhost:8080/",
     "height": 90
    },
    "colab_type": "code",
    "hidden": true,
    "id": "UzoEPEZ_z3NN",
    "outputId": "5ed766a4-2f61-4644-8d9f-1d7f2147f3de"
   },
   "outputs": [],
   "source": [
    "men_perf_metrics_df"
   ]
  },
  {
   "cell_type": "code",
   "execution_count": null,
   "metadata": {
    "colab": {
     "base_uri": "https://localhost:8080/",
     "height": 34
    },
    "colab_type": "code",
    "hidden": true,
    "id": "y86CAhnbLBHG",
    "outputId": "1e72dc8a-e5c6-45ae-c0f7-6ad3a5854f60"
   },
   "outputs": [],
   "source": [
    "np.min(sag_inputs)"
   ]
  },
  {
   "cell_type": "code",
   "execution_count": null,
   "metadata": {
    "colab": {
     "base_uri": "https://localhost:8080/",
     "height": 34
    },
    "colab_type": "code",
    "hidden": true,
    "id": "fFhLCl3lLGB-",
    "outputId": "873b00cd-df6c-497a-c0a1-7168b8925be9"
   },
   "outputs": [],
   "source": [
    "np.max(sag_inputs)"
   ]
  },
  {
   "cell_type": "code",
   "execution_count": null,
   "metadata": {
    "colab": {
     "base_uri": "https://localhost:8080/",
     "height": 319
    },
    "colab_type": "code",
    "hidden": true,
    "id": "YXh8yp5FHU9F",
    "outputId": "473574b7-7bc0-43d2-d635-f6a779811002"
   },
   "outputs": [],
   "source": [
    "ds_grads"
   ]
  },
  {
   "cell_type": "code",
   "execution_count": null,
   "metadata": {
    "colab": {},
    "colab_type": "code",
    "hidden": true,
    "id": "ghx5d5MuZJTj"
   },
   "outputs": [],
   "source": [
    "x = tf.convert_to_tensor(np.array([0.0321*1e-9,12,10**-4],dtype='float32'))\n",
    "x = tf.convert_to_tensor(K.clip(x.numpy(),10**(-9),10**(-5)))"
   ]
  },
  {
   "cell_type": "code",
   "execution_count": null,
   "metadata": {
    "colab": {
     "base_uri": "https://localhost:8080/",
     "height": 168
    },
    "colab_type": "code",
    "hidden": true,
    "id": "uiZCynWUinJh",
    "outputId": "7fe6ba8e-e1a1-4c94-c2b4-72200ff699cf"
   },
   "outputs": [],
   "source": [
    "K.clip(ds_grads[0],1e-9,1e-4)"
   ]
  },
  {
   "cell_type": "code",
   "execution_count": null,
   "metadata": {
    "colab": {
     "base_uri": "https://localhost:8080/",
     "height": 101
    },
    "colab_type": "code",
    "hidden": true,
    "id": "HIdcfrcme-HY",
    "outputId": "8cf5a4cb-4bd8-4074-f70b-107e4b46a174"
   },
   "outputs": [],
   "source": [
    "calc_loss(np.array([1, 0, 0]),tf.convert_to_tensor(np.array([9.9999893e-01, 1.9738481e-04, 2.0557619e-10])),cw,True,0.0)"
   ]
  },
  {
   "cell_type": "code",
   "execution_count": null,
   "metadata": {
    "colab": {
     "base_uri": "https://localhost:8080/",
     "height": 101
    },
    "colab_type": "code",
    "hidden": true,
    "id": "3sZ82tk_J2al",
    "outputId": "a5913f8e-22d1-43b0-8f33-2916dfd45a83"
   },
   "outputs": [],
   "source": [
    "calc_loss(np.array([1, 0, 0]),tf.convert_to_tensor(np.array([9.9999893e-01, 1.9738481e-04, 2.0557619e-10])),cw,True,0.1)"
   ]
  },
  {
   "cell_type": "code",
   "execution_count": null,
   "metadata": {
    "colab": {
     "base_uri": "https://localhost:8080/",
     "height": 34
    },
    "colab_type": "code",
    "hidden": true,
    "id": "MpgBiv-KO-BM",
    "outputId": "e65f8d85-5fb3-4144-ae62-98217bb7704b"
   },
   "outputs": [],
   "source": [
    "0.1*np.log(0.2998)*2.7+1*np.log(1-0.2998)*0.6"
   ]
  },
  {
   "cell_type": "code",
   "execution_count": null,
   "metadata": {
    "colab": {
     "base_uri": "https://localhost:8080/",
     "height": 34
    },
    "colab_type": "code",
    "hidden": true,
    "id": "Uc25fJ1CH6EP",
    "outputId": "e49b9904-cb87-4f49-fa75-e71af5530a16"
   },
   "outputs": [],
   "source": [
    "y_true = np.array([1,0,0],dtype='float32')\n",
    "y_true[np.where(y_true==1)]=1-0.1\n",
    "print(y_true)"
   ]
  },
  {
   "cell_type": "code",
   "execution_count": null,
   "metadata": {
    "colab": {},
    "colab_type": "code",
    "hidden": true,
    "id": "4Y9_TIvSPS6-"
   },
   "outputs": [],
   "source": [
    "Epoch : 0...\n",
    "[[1 0 0]]\n",
    "[[0.02129672 0.29983562 0.9929537 ]]\n",
    "[[ 2.3820362 -0.        -0.       ]]\n",
    "[[-0.          0.21842591  3.8195348 ]]\n",
    "[[2.3820362  0.21842591 3.8195348 ]]\n",
    "6.419997\n",
    "[[1 1 1]]\n",
    "[[9.9999535e-01 7.3042534e-06 1.4242007e-08]]\n",
    "[[2.8770896e-06 3.2126373e+01 2.5712580e+01]]\n",
    "[[-0. -0.  0.]]\n",
    "[[2.8770896e-06 3.2126373e+01 2.5712580e+01]]\n",
    "57.83896\n",
    "Epoch : 0...\n",
    "[[1 0 0]]\n",
    "[[9.9999893e-01 1.9738481e-04 2.0557619e-10]]\n",
    "[[ 6.6394256e-07 -0.0000000e+00 -0.0000000e+00]]\n",
    "[[-0.          0.00012098 -0.        ]]\n",
    "[[ 6.63942558e-07  1.20984805e-04 -0.00000000e+00]]\n",
    "0.00012164875\n",
    "Epoch : 0...\n",
    "[[1 0 0]]\n",
    "[[9.9999857e-01 5.0249189e-04 6.0833527e-10]]\n",
    "[[ 8.852569e-07 -0.000000e+00 -0.000000e+00]]\n",
    "[[-0.          0.00030799 -0.        ]]\n",
    "[[ 8.8525690e-07  3.0798838e-04 -0.0000000e+00]]\n",
    "0.00030887363\n",
    "Epoch : 0...\n",
    "[[1 0 0]]\n",
    "[[9.9999928e-01 1.1515581e-03 4.8333104e-10]]\n",
    "[[ 4.426283e-07 -0.000000e+00 -0.000000e+00]]\n",
    "[[-0.          0.00070608 -0.        ]]\n",
    "[[ 4.426283e-07  7.060817e-04 -0.000000e+00]]\n",
    "0.0007065243"
   ]
  },
  {
   "cell_type": "code",
   "execution_count": null,
   "metadata": {
    "colab": {
     "base_uri": "https://localhost:8080/",
     "height": 67
    },
    "colab_type": "code",
    "hidden": true,
    "id": "E2c7PgCjQnuM",
    "outputId": "072f7141-b40f-425c-d365-2049f5959840"
   },
   "outputs": [],
   "source": [
    "cw"
   ]
  },
  {
   "cell_type": "code",
   "execution_count": null,
   "metadata": {
    "colab": {
     "base_uri": "https://localhost:8080/",
     "height": 34
    },
    "colab_type": "code",
    "hidden": true,
    "id": "GESDUDg0qiaV",
    "outputId": "4ed877ea-9a71-4576-a3a4-e5ed1d35d7b9"
   },
   "outputs": [],
   "source": [
    "ds_model.layers[-2]._losses"
   ]
  },
  {
   "cell_type": "markdown",
   "metadata": {
    "colab_type": "text",
    "id": "o4nB0-SgUSD5"
   },
   "source": [
    "## Keras Training Loop"
   ]
  },
  {
   "cell_type": "code",
   "execution_count": null,
   "metadata": {
    "colab": {},
    "colab_type": "code",
    "id": "8zkYV1Nk5iiY"
   },
   "outputs": [],
   "source": [
    "sagittal_model_gtp.compile(optimizer=tf.keras.optimizers.Adam(1e-5),loss=tf.keras.losses.categorical_crossentropy,metrics=['accuracy'])"
   ]
  },
  {
   "cell_type": "code",
   "execution_count": null,
   "metadata": {
    "colab": {
     "base_uri": "https://localhost:8080/",
     "height": 525
    },
    "colab_type": "code",
    "id": "6CkvUpjhUUWD",
    "outputId": "bf2c9b14-aa33-4628-8c83-3847047f6de7"
   },
   "outputs": [],
   "source": [
    "history = sagittal_model_gtp.fit(tdg,epochs = 10,steps_per_epoch=500,validation_data=vdg, validation_steps = 100) #callbacks = get_callbacks(access_token1"
   ]
  },
  {
   "cell_type": "code",
   "execution_count": null,
   "metadata": {
    "colab": {},
    "colab_type": "code",
    "id": "oHHm9VUExHqj"
   },
   "outputs": [],
   "source": [
    "model_gtp.save('/content/latest_model_toc.h5')"
   ]
  },
  {
   "cell_type": "markdown",
   "metadata": {
    "colab_type": "text",
    "heading_collapsed": true,
    "id": "ZDN2D_ACRK84"
   },
   "source": [
    "# Approach 2 : Mode Prediction + Geometric Transformation Prediction\n",
    "\n",
    "1. 3 Modes - Sagittal, Coronal, Axial\n",
    "2. Each Clip will contain 4-8 frames\n",
    "3. Clip randomly chosen from 3 pseudo-classes (C, S, A)\n",
    "4. Geometric Transformations Applied - Rotation, Scale, Translation, Shear\n",
    "5. SE Net / ResNet / ResNext / VGG Net / Inceptionv2 - Predict Mode\n",
    "6. Dilated Convolutions can be used\n",
    "7. Sparse sampling of frames can be used, with sparsity = 1\n",
    "8. Augmentations applied - Random Temporal Crop, Random Spatial Crop, Horizontal Flipping (Arrow of Time reversal)\n",
    "9. MultiLabel Classification Technique for the Downstream Tasks\n",
    "10. Save model\n",
    "11. VISUALIZE Filters\n",
    "12. VISUALIZE extracted features in the downstream task\n",
    "13. AUC score and plot\n",
    "14. Comparison with other models\n",
    "15. ***Effects of Imbalance in the dataset***\n",
    "16. Prepare code according to CodaLab specs for submission\n"
   ]
  },
  {
   "cell_type": "markdown",
   "metadata": {
    "colab_type": "text",
    "id": "9vKxvlynaf6v"
   },
   "source": [
    "# Approach 3 : Triplet Loss Model + Geometric Transformations\n",
    "\n",
    "1. Choose any two modes (C-S,C-A,S-A,S-C,A-C,A-S) IN THIS ORDER\n",
    "Take 4 frames from 2 separate videos from the first mode and 4 from a single video from the second mode \n",
    "2. Pass each sample through 3 separate nets with shared weights\n",
    "Since the network weights are shared, we can use a single model\n",
    "3. Geometric Transformations Applied - Rotation, Scale, Translation, Shear\n",
    "4. SE Net / ResNet / ResNext / VGG Net / Inceptionv2 - Predict Mode\n",
    "5. Dilated Convolutions can be used\n",
    "6. Sparse sampling of frames can be used, with sparsity = 1\n",
    "7. Augmentations applied - Random Temporal Crop, Random Spatial Crop, Horizontal Flipping\n",
    "8. MultiLabel Classification Technique for the Downstream Tasks\n",
    "9. Save model\n",
    "10. VISUALIZE Filters\n",
    "11. VISUALIZE extracted features in the downstream task\n",
    "12. AUC score and plot\n",
    "13. Comparison with other models\n",
    "14. ***Effects of Imbalance in the dataset***\n",
    "15. Prepare code according to CodaLab specs for submission"
   ]
  },
  {
   "cell_type": "markdown",
   "metadata": {
    "colab_type": "text",
    "id": "fsWnxB6pz7P2"
   },
   "source": [
    "# Approach 4 : Pseudo-Video Generation-GAN Model + Geometric Transformation Prediction\n",
    "\n",
    "1. Choose any two modes (C-S,C-A,S-A,S-C,A-C,A-S,C-C,S-S,A-A) IN THIS ORDER\n",
    "2. Take 8 frames from the first mode and split into 2 parts (4 frames each).\n",
    "The 8 frames can be in batches of 4, but should be from the same video and not distantly separated temporally. **We can explore this parameter also.**\n",
    "3. From the 2nd model, sample 4 consecutive frames\n",
    "4. Now, in GAN model there is a Generator. The second 4 frames from the video in the 1st mode will be the output of the generator\n",
    "5. The Discriminator will predict if it is different from the video clip from the 2nd mode.\n",
    "6. Geometric Transformations Applied - Rotation, Scale, Translation, Shear\n",
    "7. SE Net / ResNet / ResNext / VGG Net / Inceptionv2 - Predict Mode\n",
    "8. Dilated Convolutions can be used\n",
    "9. Sparse sampling of frames can be used, with sparsity = 1\n",
    "10. Augmentations applied - Random Temporal Crop, Random Spatial Crop, Horizontal Flipping\n",
    "11. MultiLabel Classification Technique for the Downstream Tasks\n",
    "12. Save model\n",
    "13. VISUALIZE Filters\n",
    "14. VISUALIZE extracted features in the downstream task\n",
    "15. AUC score and plot\n",
    "16. Comparison with other models\n",
    "17. ***Effects of Imbalance in the dataset***\n",
    "18. Prepare code according to CodaLab specs for submission"
   ]
  },
  {
   "cell_type": "markdown",
   "metadata": {
    "colab_type": "text",
    "id": "J7yo2Rzy4I2m"
   },
   "source": [
    "# Approach 5 : Encode-Decoder Model + Geometric Transformation Prediction\n",
    "\n",
    "1. Choose any mode\n",
    "2. Take 8 frames from the mode and split into 2 parts (4 frames each).\n",
    "The frames should be consecutively sampled. However saprsity can be included.**We can explore this parameter also.**\n",
    "3. Extract features of the first four frames using CNN.\n",
    "4. Pass the features through a LSTM encoder-decoder network to generate 4 feature vectors\n",
    "5. Objective is to minimize the difference betwee nthe corresponding features of the ground truth frames and the predicted features\n",
    "6. Geometric Transformations Applied - Rotation, Scale, Translation, Shear\n",
    "7. SE Net / ResNet / ResNext / VGG Net / Inceptionv2 - Predict Mode\n",
    "8. Dilated Convolutions can be used\n",
    "9. Sparse sampling of frames can be used, with sparsity = 1\n",
    "10. Augmentations applied - Random Temporal Crop, Random Spatial Crop, Horizontal Flipping\n",
    "11. MultiLabel Classification Technique for the Downstream Tasks\n",
    "12. Save model\n",
    "13. VISUALIZE Filters\n",
    "14. VISUALIZE extracted features in the downstream task\n",
    "15. AUC score and plot\n",
    "16. Comparison with other models\n",
    "17. ***Effects of Imbalance in the dataset***\n",
    "18. Prepare code according to CodaLab specs for submission"
   ]
  },
  {
   "cell_type": "code",
   "execution_count": null,
   "metadata": {
    "colab": {},
    "colab_type": "code",
    "id": "LvBasUGYQ6oZ"
   },
   "outputs": [],
   "source": []
  },
  {
   "cell_type": "markdown",
   "metadata": {
    "colab_type": "text",
    "id": "Pzwt5OU24G_8"
   },
   "source": []
  }
 ],
 "metadata": {
  "accelerator": "GPU",
  "colab": {
   "collapsed_sections": [
    "9Y2cdtkeps4I",
    "9E8t_MKiTlz6",
    "ZMBxyH8xiQLM",
    "odE4wSWawzrC",
    "flX-g831ijCK",
    "9XSAi9t4kUHj",
    "w2W1BmnmjfjZ",
    "RLjo17s2kUHx",
    "iNsgmvb3kyuQ",
    "qQJUoL4zuNYJ",
    "P3YXuO9PkUIa",
    "aHUjjDA9PDWi",
    "WPeQvoABkUIh",
    "vrRCO2yLkUIi",
    "qWlqgkNqdpOV",
    "K8Ot_HnjkUI7",
    "8iZOEKBNR47r",
    "K-6v-4P4R9KD",
    "F7Eq24j1R_LD",
    "2w2d34f2aieH",
    "Vfoe6-wZdGYr",
    "l0iA4BE9NecE",
    "pbhZ74ihv1tZ",
    "TpkiX2-NNne2",
    "HIK1G6Cyv_4A"
   ],
   "name": "ROCKET MODEL.ipynb",
   "provenance": []
  },
  "kernelspec": {
   "display_name": "Python 3",
   "language": "python",
   "name": "python3"
  },
  "language_info": {
   "codemirror_mode": {
    "name": "ipython",
    "version": 3
   },
   "file_extension": ".py",
   "mimetype": "text/x-python",
   "name": "python",
   "nbconvert_exporter": "python",
   "pygments_lexer": "ipython3",
   "version": "3.8.5"
  },
  "toc": {
   "base_numbering": 1,
   "nav_menu": {
    "height": "625px",
    "width": "382px"
   },
   "number_sections": true,
   "sideBar": true,
   "skip_h1_title": false,
   "title_cell": "Table of Contents",
   "title_sidebar": "Contents",
   "toc_cell": false,
   "toc_position": {},
   "toc_section_display": true,
   "toc_window_display": false
  },
  "varInspector": {
   "cols": {
    "lenName": 16,
    "lenType": 16,
    "lenVar": 40
   },
   "kernels_config": {
    "python": {
     "delete_cmd_postfix": "",
     "delete_cmd_prefix": "del ",
     "library": "var_list.py",
     "varRefreshCmd": "print(var_dic_list())"
    },
    "r": {
     "delete_cmd_postfix": ") ",
     "delete_cmd_prefix": "rm(",
     "library": "var_list.r",
     "varRefreshCmd": "cat(var_dic_list()) "
    }
   },
   "types_to_exclude": [
    "module",
    "function",
    "builtin_function_or_method",
    "instance",
    "_Feature"
   ],
   "window_display": false
  }
 },
 "nbformat": 4,
 "nbformat_minor": 1
}
